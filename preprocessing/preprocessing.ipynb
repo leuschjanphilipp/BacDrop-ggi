{
 "cells": [
  {
   "cell_type": "code",
   "execution_count": null,
   "metadata": {},
   "outputs": [],
   "source": [
    "import scanpy as sc\n",
    "import mudata as md\n",
    "import pandas as pd\n",
    "import numpy as np\n",
    "import seaborn as sns\n",
    "import matplotlib.pyplot as plt \n",
    "from latentcor import gen_data, get_tps, latentcor\n",
    "\n",
    "import scrublet as scr\n",
    "import scipy.io\n",
    "import time"
   ]
  },
  {
   "cell_type": "code",
   "execution_count": null,
   "metadata": {},
   "outputs": [],
   "source": [
    "path_nSBM = '../data/mudata_nSBM_hierarchy_2.h5mu'\n",
    "path_KEGG = '../data/mudata_KEGG_hierarchy_2.h5mu'\n",
    "path_phrog = '../data/mudata_phrog_hierarchy_2.h5mu'"
   ]
  },
  {
   "cell_type": "code",
   "execution_count": null,
   "metadata": {},
   "outputs": [],
   "source": [
    "data_nSBM = md.read_h5mu(path_nSBM)"
   ]
  },
  {
   "cell_type": "code",
   "execution_count": null,
   "metadata": {},
   "outputs": [],
   "source": [
    "adata_tmp.obs['doublet_score'] = np.zeros(adata_tmp.shape[0])\n",
    "adata_tmp.obs['doublet'] = np.zeros(adata_tmp.shape[0])"
   ]
  },
  {
   "cell_type": "code",
   "execution_count": null,
   "metadata": {},
   "outputs": [],
   "source": [
    "# filtering / preprocessing parameters:\n",
    "min_counts = 2\n",
    "min_cells = 3\n",
    "vscore_percentile = 85\n",
    "n_pc = 50\n",
    "\n",
    "# doublet detector parameters\n",
    "expected_doublet_rate = 0.02\n",
    "sim_doublet_ratio = 3\n",
    "n_neighbors = 15\n",
    "\n",
    "for batch in enumerate(adata_tmp.obs['donor'].cat.categories):\n",
    "    print(batch)\n",
    "    t0 = time.time()\n",
    "    idx = np.flatnonzero(adata_tmp.obs['donor']==batch[1])\n",
    "    scrub = scr.Scrublet(counts_matrix = adata_tmp[idx, :].X,\n",
    "                        n_neighbors = n_neighbors,\n",
    "                        sim_doublet_ratio = sim_doublet_ratio,\n",
    "                        expected_doublet_rate = expected_doublet_rate)\n",
    "    doublet_scores, predicted_doublets = scrub.scrub_doublets(min_counts = min_counts,\n",
    "                                                              min_cells = min_cells,\n",
    "                                                              n_prin_comps = n_pc,\n",
    "                                                              use_approx_neighbors = True,\n",
    "                                                              get_doublet_neighbor_parents = False)\n",
    "    adata_tmp.obs['doublet_score'].iloc[idx] = doublet_scores\n",
    "    adata_tmp.obs['doublet'].iloc[idx] = predicted_doublets\n",
    "    t1 = time.time()\n",
    "    print('Elapsed time: {:.1f} seconds'.format(t1-t0))"
   ]
  },
  {
   "cell_type": "code",
   "execution_count": null,
   "metadata": {},
   "outputs": [],
   "source": [
    "rcParams['figure.figsize'] = (6, 6)\n",
    "sb.distplot(adata_tmp.obs['doublet_score'], bins=100, kde=False)"
   ]
  },
  {
   "cell_type": "code",
   "execution_count": null,
   "metadata": {},
   "outputs": [],
   "source": [
    "thr = 0.05\n",
    "idx_filter = adata_tmp.obs['doublet_score'] <= thr\n",
    "\n",
    "adata_tmp = adata_tmp[idx_filter].copy()\n",
    "print(f'Number of cells after double filter: {adata_tmp.n_obs}')"
   ]
  }
 ],
 "metadata": {
  "language_info": {
   "name": "python"
  }
 },
 "nbformat": 4,
 "nbformat_minor": 2
}
