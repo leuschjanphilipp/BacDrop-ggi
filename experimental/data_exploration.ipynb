{
 "cells": [
  {
   "cell_type": "code",
   "execution_count": 1,
   "metadata": {},
   "outputs": [],
   "source": [
    "import scanpy as sc\n",
    "import mudata as md\n",
    "import pandas as pd\n",
    "import numpy as np\n",
    "import seaborn as sns\n",
    "import matplotlib.pyplot as plt \n",
    "from latentcor import gen_data, get_tps, latentcor"
   ]
  },
  {
   "cell_type": "code",
   "execution_count": 2,
   "metadata": {},
   "outputs": [],
   "source": [
    "path_nSBM = '../data/mudata_nSBM_hierarchy_2.h5mu'\n",
    "path_KEGG = '../data/mudata_KEGG_hierarchy_2.h5mu'\n",
    "path_phrog = '../data/mudata_phrog_hierarchy_2.h5mu'\n",
    "\n",
    "path_nSBM_final = '../data/mudata_nSBM_hierarchy_2_final.h5mu'\n",
    "path_KEGG_final = '../data/mudata_KEGG_hierarchy_2_final.h5mu'\n",
    "path_phrog_final = '../data/mudata_phrog_hierarchy_2_final.h5mu'"
   ]
  },
  {
   "cell_type": "code",
   "execution_count": 3,
   "metadata": {},
   "outputs": [],
   "source": [
    "basepath_MGH66_prefix = '../data/MGH66_Abx3_'\n",
    "basepath_MGH66_suffix = '_align2._CDS.tsv'\n",
    "MHG66_variants = ['P1', 'P2', 'P2', 'P4']"
   ]
  },
  {
   "cell_type": "code",
   "execution_count": 4,
   "metadata": {},
   "outputs": [
    {
     "name": "stderr",
     "output_type": "stream",
     "text": [
      "c:\\Users\\Jan\\.conda\\envs\\bacdrop\\lib\\site-packages\\anndata\\_core\\anndata.py:522: FutureWarning: The dtype argument is deprecated and will be removed in late 2024.\n",
      "  warnings.warn(\n",
      "c:\\Users\\Jan\\.conda\\envs\\bacdrop\\lib\\site-packages\\anndata\\_core\\anndata.py:522: FutureWarning: The dtype argument is deprecated and will be removed in late 2024.\n",
      "  warnings.warn(\n",
      "c:\\Users\\Jan\\.conda\\envs\\bacdrop\\lib\\site-packages\\anndata\\_core\\anndata.py:522: FutureWarning: The dtype argument is deprecated and will be removed in late 2024.\n",
      "  warnings.warn(\n"
     ]
    }
   ],
   "source": [
    "data_nSBM = md.read_h5mu(path_nSBM_final)"
   ]
  },
  {
   "cell_type": "code",
   "execution_count": 26,
   "metadata": {},
   "outputs": [],
   "source": [
    "data_gex = data_nSBM['SC_genes']\n",
    "data_gex = data_gex[data_gex.obs['strains'] == 'GSM5456506_Kp_CDS']"
   ]
  },
  {
   "cell_type": "code",
   "execution_count": 27,
   "metadata": {},
   "outputs": [
    {
     "name": "stderr",
     "output_type": "stream",
     "text": [
      "c:\\Users\\Jan\\.conda\\envs\\bacdrop\\lib\\site-packages\\scanpy\\preprocessing\\_highly_variable_genes.py:220: FutureWarning: The default of observed=False is deprecated and will be changed to True in a future version of pandas. Pass observed=False to retain current behavior or observed=True to adopt the future default and silence this warning.\n",
      "  disp_grouped = df.groupby('mean_bin')['dispersions']\n",
      "c:\\Users\\Jan\\.conda\\envs\\bacdrop\\lib\\site-packages\\scanpy\\preprocessing\\_highly_variable_genes.py:544: ImplicitModificationWarning: Trying to modify attribute `._uns` of view, initializing view as actual.\n",
      "  adata.uns['hvg'] = {'flavor': flavor}\n"
     ]
    }
   ],
   "source": [
    "sc.pp.highly_variable_genes(data_gex, n_top_genes=200)\n",
    "data_gex = data_gex[:, data_gex.var['highly_variable']]"
   ]
  },
  {
   "cell_type": "code",
   "execution_count": 40,
   "metadata": {},
   "outputs": [
    {
     "data": {
      "text/plain": [
       "array([0., 0., 0., 0., 0., 0., 0., 0., 0., 0., 0., 0., 0., 0., 0., 0., 0.,\n",
       "       0., 0., 0., 0., 0., 0., 0., 0., 0., 0., 0., 0., 0., 0., 0., 0., 0.,\n",
       "       0., 0., 0., 0., 0., 0., 0., 0., 0., 0., 0., 0., 0., 0., 0., 0., 0.,\n",
       "       0., 0., 0., 0., 0., 0., 0., 0., 0., 0., 0., 0., 0., 0., 0., 0., 0.,\n",
       "       0., 0., 0., 0., 0., 0., 0., 0., 0., 0., 0., 0., 0., 0., 0., 0., 0.,\n",
       "       0., 0., 0., 0., 0., 0., 0., 0., 0., 0., 0., 0., 1., 0., 0., 0., 0.,\n",
       "       0., 0., 0., 0., 0., 0., 0., 0., 0., 0., 0., 0., 0., 0., 0., 0., 0.,\n",
       "       0., 0., 0., 0., 0., 0., 0., 0., 0., 0., 0., 0., 0., 0., 0., 0., 0.,\n",
       "       1., 0., 0., 0., 0., 0., 0., 0., 0., 0., 0., 0., 0., 0., 0., 0., 0.,\n",
       "       0., 0., 0., 0., 0., 0., 0., 0., 0., 0., 0., 0., 0., 0., 0., 0., 0.,\n",
       "       0., 0., 0., 0., 0., 0., 0., 0., 0., 0., 0., 0., 0., 0., 0., 0., 0.,\n",
       "       0., 0., 0., 0., 0., 0., 0., 0., 0., 0., 0., 0., 0., 0., 0., 0., 0.,\n",
       "       0.], dtype=float32)"
      ]
     },
     "execution_count": 40,
     "metadata": {},
     "output_type": "execute_result"
    }
   ],
   "source": [
    "data_gex.X.A[0]"
   ]
  },
  {
   "cell_type": "code",
   "execution_count": 31,
   "metadata": {},
   "outputs": [],
   "source": [
    "X_norm = sc.pp.normalize_total(data_gex, target_sum=1, inplace=False)['X']"
   ]
  },
  {
   "cell_type": "code",
   "execution_count": 38,
   "metadata": {},
   "outputs": [
    {
     "data": {
      "text/plain": [
       "array([0. , 0. , 0. , 0. , 0. , 0. , 0. , 0. , 0. , 0. , 0. , 0. , 0. ,\n",
       "       0. , 0. , 0. , 0. , 0. , 0. , 0. , 0. , 0. , 0. , 0. , 0. , 0. ,\n",
       "       0. , 0. , 0. , 0. , 0. , 0. , 0. , 0. , 0. , 0. , 0. , 0. , 0. ,\n",
       "       0. , 0. , 0. , 0. , 0. , 0. , 0. , 0. , 0. , 0. , 0. , 0. , 0. ,\n",
       "       0. , 0. , 0. , 0. , 0. , 0. , 0. , 0. , 0. , 0. , 0. , 0. , 0. ,\n",
       "       0. , 0. , 0. , 0. , 0. , 0. , 0. , 0. , 0. , 0. , 0. , 0. , 0. ,\n",
       "       0. , 0. , 0. , 0. , 0. , 0. , 0. , 0. , 0. , 0. , 0. , 0. , 0. ,\n",
       "       0. , 0. , 0. , 0. , 0. , 0. , 0.5, 0. , 0. , 0. , 0. , 0. , 0. ,\n",
       "       0. , 0. , 0. , 0. , 0. , 0. , 0. , 0. , 0. , 0. , 0. , 0. , 0. ,\n",
       "       0. , 0. , 0. , 0. , 0. , 0. , 0. , 0. , 0. , 0. , 0. , 0. , 0. ,\n",
       "       0. , 0. , 0. , 0. , 0. , 0. , 0.5, 0. , 0. , 0. , 0. , 0. , 0. ,\n",
       "       0. , 0. , 0. , 0. , 0. , 0. , 0. , 0. , 0. , 0. , 0. , 0. , 0. ,\n",
       "       0. , 0. , 0. , 0. , 0. , 0. , 0. , 0. , 0. , 0. , 0. , 0. , 0. ,\n",
       "       0. , 0. , 0. , 0. , 0. , 0. , 0. , 0. , 0. , 0. , 0. , 0. , 0. ,\n",
       "       0. , 0. , 0. , 0. , 0. , 0. , 0. , 0. , 0. , 0. , 0. , 0. , 0. ,\n",
       "       0. , 0. , 0. , 0. , 0. , 0. , 0. , 0. , 0. , 0. ], dtype=float32)"
      ]
     },
     "execution_count": 38,
     "metadata": {},
     "output_type": "execute_result"
    }
   ],
   "source": [
    "X_norm.A[0]"
   ]
  },
  {
   "cell_type": "code",
   "execution_count": 33,
   "metadata": {},
   "outputs": [
    {
     "data": {
      "text/plain": [
       "array([0.        , 0.008     , 0.00833333, 0.00934579, 0.00990099,\n",
       "       0.01030928, 0.0106383 , 0.01219512, 0.01265823, 0.01315789,\n",
       "       0.01333333, 0.01351351, 0.01388889, 0.01515152, 0.015625  ,\n",
       "       0.01587302, 0.016     , 0.01612903, 0.01639344, 0.01666667,\n",
       "       0.01694915, 0.01724138, 0.01754386, 0.01818182, 0.01851852,\n",
       "       0.01869159, 0.01960784, 0.01980198, 0.02040816, 0.02061856,\n",
       "       0.02083333, 0.0212766 , 0.02173913, 0.02272727, 0.02325581,\n",
       "       0.02380952, 0.024     , 0.02439024, 0.025     , 0.025     ,\n",
       "       0.02531646, 0.02564103, 0.02631579, 0.02666667, 0.02702703,\n",
       "       0.02777778, 0.02803738, 0.02970297, 0.03030303, 0.03092783,\n",
       "       0.03125   , 0.03174603, 0.03191489, 0.032     , 0.03225806,\n",
       "       0.03278688, 0.03333334, 0.03389831, 0.03448276, 0.03508772,\n",
       "       0.03571429, 0.03636364, 0.03658536, 0.03703704, 0.03738318,\n",
       "       0.03797469, 0.03846154, 0.03921569, 0.03947368, 0.03960396,\n",
       "       0.04      , 0.04      , 0.04054054, 0.04081633, 0.04123711,\n",
       "       0.04166667, 0.04255319, 0.04347826, 0.04545455, 0.04651163,\n",
       "       0.04672897, 0.046875  , 0.04761905, 0.04761905, 0.048     ,\n",
       "       0.0483871 , 0.04878049, 0.04918033, 0.05      , 0.05      ,\n",
       "       0.05063291, 0.05084746, 0.05128205, 0.05154639, 0.05172414,\n",
       "       0.05263158, 0.05319149, 0.05333333, 0.05405406, 0.05454545,\n",
       "       0.05555556, 0.056     , 0.05607476, 0.05882353, 0.05882353,\n",
       "       0.06060606, 0.06097561, 0.06185567, 0.0625    , 0.06349207,\n",
       "       0.06382979, 0.06451613, 0.06521739, 0.06542056, 0.06557377,\n",
       "       0.06666667, 0.06756757, 0.06779661, 0.06818182, 0.06896552,\n",
       "       0.06944445, 0.06976745, 0.07142857, 0.07272727, 0.07317073,\n",
       "       0.07407407, 0.07446808, 0.07476635, 0.075     , 0.07594937,\n",
       "       0.07692308, 0.078125  , 0.07843138, 0.07920792, 0.08      ,\n",
       "       0.08064516, 0.08108108, 0.0819672 , 0.08333334, 0.0862069 ,\n",
       "       0.08695652, 0.0877193 , 0.09090909, 0.0925926 , 0.0952381 ,\n",
       "       0.09756097, 0.09803922, 0.1       , 0.1025641 , 0.10526316,\n",
       "       0.10714287, 0.10869566, 0.109375  , 0.11111111, 0.11363637,\n",
       "       0.11627907, 0.11764706, 0.12      , 0.12121212, 0.125     ,\n",
       "       0.12727273, 0.13043478, 0.13333334, 0.14285715, 0.14814815,\n",
       "       0.15384616, 0.16666667, 0.1764706 , 0.18181819, 0.1904762 ,\n",
       "       0.2       , 0.20000002, 0.21428573, 0.21739131, 0.22222222,\n",
       "       0.23076925, 0.25      , 0.26666668, 0.27272728, 0.2857143 ,\n",
       "       0.3       , 0.33333334, 0.375     , 0.4       , 0.42857146,\n",
       "       0.44444445, 0.5       , 0.5714286 , 0.6       , 0.6666667 ,\n",
       "       0.75      , 0.8       , 1.        ], dtype=float32)"
      ]
     },
     "execution_count": 33,
     "metadata": {},
     "output_type": "execute_result"
    }
   ],
   "source": [
    "np.unique(X_norm.A)"
   ]
  },
  {
   "cell_type": "code",
   "execution_count": 42,
   "metadata": {},
   "outputs": [],
   "source": [
    "tps = ['tru' for i in range(data_gex.shape[1])]"
   ]
  },
  {
   "cell_type": "code",
   "execution_count": 43,
   "metadata": {},
   "outputs": [
    {
     "name": "stderr",
     "output_type": "stream",
     "text": [
      "c:\\Users\\Jan\\.conda\\envs\\bacdrop\\lib\\site-packages\\statsmodels\\stats\\correlation_tools.py:90: IterationLimitWarning: \n",
      "Maximum iteration reached.\n",
      "\n",
      "  warnings.warn(iteration_limit_doc, IterationLimitWarning)\n"
     ]
    },
    {
     "data": {
      "image/png": "[encoded data removed]",
      "text/plain": [
       "<Figure size 640x480 with 2 Axes>"
      ]
     },
     "metadata": {},
     "output_type": "display_data"
    }
   ],
   "source": [
    "estimate = latentcor(X_norm.A, tps=tps, showplot=True)"
   ]
  },
  {
   "cell_type": "code",
   "execution_count": 45,
   "metadata": {},
   "outputs": [
    {
     "data": {
      "text/plain": [
       "{'R':           0         1         2         3         4         5         6    \\\n",
       " 0    1.000000  0.998908  0.998771  0.998780  0.720157  0.998772  0.998161   \n",
       " 1    0.998908  1.000000  0.998795  0.998838  0.718147  0.998735  0.998232   \n",
       " 2    0.998771  0.998795  1.000000  0.998422  0.712192  0.998564  0.998734   \n",
       " 3    0.998780  0.998838  0.998422  1.000000  0.721914  0.998640  0.997646   \n",
       " 4    0.720157  0.718147  0.712192  0.721914  1.000000  0.708367  0.697979   \n",
       " ..        ...       ...       ...       ...       ...       ...       ...   \n",
       " 200  0.775938  0.772963  0.780436  0.767816  0.422903  0.777714  0.787287   \n",
       " 201  0.643667  0.639699  0.650338  0.630625  0.301151  0.644897  0.659668   \n",
       " 202  0.609758  0.605150  0.615729  0.596293  0.299621  0.610309  0.624042   \n",
       " 203  0.683715  0.679970  0.688705  0.672690  0.345709  0.686448  0.696378   \n",
       " 204  0.632142  0.628678  0.639021  0.620219  0.299392  0.634348  0.647934   \n",
       " \n",
       "           7         8         9    ...       195       196       197  \\\n",
       " 0    0.421902  0.716146  0.996946  ...  0.865499  0.833097  0.798895   \n",
       " 1    0.425181  0.715371  0.996886  ...  0.864125  0.829487  0.794866   \n",
       " 2    0.414226  0.709120  0.997361  ...  0.867364  0.836559  0.802340   \n",
       " 3    0.431109  0.722308  0.996387  ...  0.858960  0.824883  0.789085   \n",
       " 4    0.581969  0.626645  0.688346  ...  0.519438  0.482909  0.468412   \n",
       " ..        ...       ...       ...  ...       ...       ...       ...   \n",
       " 200  0.145358  0.480003  0.780620  ...  0.893311  0.898171  0.910174   \n",
       " 201  0.038050  0.233591  0.650734  ...  0.870724  0.857287  0.888031   \n",
       " 202  0.017989  0.226675  0.615771  ...  0.864083  0.855811  0.889025   \n",
       " 203  0.072300  0.317022  0.690902  ...  0.877894  0.857135  0.887660   \n",
       " 204  0.026920  0.243552  0.640499  ...  0.855014  0.829556  0.863612   \n",
       " \n",
       "           198       199       200       201       202       203       204  \n",
       " 0    0.615685  0.776866  0.775938  0.643667  0.609758  0.683715  0.632142  \n",
       " 1    0.611907  0.775364  0.772963  0.639699  0.605150  0.679970  0.628678  \n",
       " 2    0.622061  0.780692  0.780436  0.650338  0.615729  0.688705  0.639021  \n",
       " 3    0.602610  0.768178  0.767816  0.630625  0.596293  0.672690  0.620219  \n",
       " 4    0.301971  0.442963  0.422903  0.301151  0.299621  0.345709  0.299392  \n",
       " ..        ...       ...       ...       ...       ...       ...       ...  \n",
       " 200  0.881056  0.916701  1.000000  0.868209  0.905536  0.926164  0.907606  \n",
       " 201  0.985233  0.913129  0.868209  1.000000  0.970709  0.930402  0.955752  \n",
       " 202  0.983589  0.918826  0.905536  0.970709  1.000000  0.948637  0.970570  \n",
       " 203  0.947627  0.931800  0.926164  0.930402  0.948637  1.000000  0.981092  \n",
       " 204  0.970620  0.920239  0.907606  0.955752  0.970570  0.981092  1.000000  \n",
       " \n",
       " [205 rows x 205 columns],\n",
       " 'Rpointwise':           0         1         2         3         4         5         6    \\\n",
       " 0    1.000000  0.924986  0.924986  0.924916  0.921833  0.924916  0.924986   \n",
       " 1    0.924986  1.000000  0.934334  0.934214  0.931571  0.934214  0.934334   \n",
       " 2    0.924986  0.934334  1.000000  0.962107  0.960786  0.962107  0.962257   \n",
       " 3    0.924916  0.934214  0.962107  1.000000  0.912095  0.915618  0.915618   \n",
       " 4    0.921833  0.931571  0.960786  0.912095  1.000000  0.483615  0.483626   \n",
       " ..        ...       ...       ...       ...       ...       ...       ...   \n",
       " 200  0.924846  0.934153  0.962077  0.915538  0.483613  0.915538  0.980692   \n",
       " 201  0.924986  0.934334  0.962197  0.915618  0.483620  0.915618  0.980732   \n",
       " 202  0.924986  0.934334  0.962257  0.915618  0.483624  0.915618  0.980762   \n",
       " 203  0.924986  0.934334  0.962197  0.915618  0.483620  0.915618  0.980732   \n",
       " 204  0.924986  0.934334  0.962257  0.915618  0.483626  0.915618  0.980772   \n",
       " \n",
       "           7         8         9    ...       195       196       197  \\\n",
       " 0    0.918960  0.921343  0.924986  ...  0.924285  0.924846  0.924986   \n",
       " 1    0.964544  0.931151  0.934274  ...  0.965598  0.934153  0.934274   \n",
       " 2    0.959555  0.960576  0.962137  ...  0.961837  0.962077  0.962137   \n",
       " 3    0.950495  0.911534  0.915618  ...  0.951812  0.915538  0.915618   \n",
       " 4    0.569627  0.578501  0.483616  ...  0.483601  0.483613  0.483616   \n",
       " ..        ...       ...       ...  ...       ...       ...       ...   \n",
       " 200  0.046178  0.689054  0.924846  ...  0.830407  0.906230  0.924846   \n",
       " 201  0.046198  0.411320  0.924986  ...  0.830407  0.906230  0.924986   \n",
       " 202  0.046213  0.411326  0.924986  ...  0.830408  0.906230  0.924986   \n",
       " 203  0.046198  0.411320  0.924986  ...  0.830407  0.906230  0.924986   \n",
       " 204  0.046218  0.411328  0.924986  ...  0.830408  0.906230  0.924986   \n",
       " \n",
       "           198       199       200       201       202       203       204  \n",
       " 0    0.924986  0.924916  0.924846  0.924986  0.924986  0.924986  0.924986  \n",
       " 1    0.934334  0.965720  0.934153  0.934334  0.934334  0.934334  0.934334  \n",
       " 2    0.962167  0.962107  0.962077  0.962197  0.962257  0.962197  0.962257  \n",
       " 3    0.915618  0.915618  0.915538  0.915618  0.915618  0.915618  0.915618  \n",
       " 4    0.483618  0.483615  0.483613  0.483620  0.483624  0.483620  0.483626  \n",
       " ..        ...       ...       ...       ...       ...       ...       ...  \n",
       " 200  0.934153  0.915538  1.000000  0.906230  0.906230  0.906230  0.906230  \n",
       " 201  0.934334  0.915618  0.906230  1.000000  0.943661  0.943661  0.943661  \n",
       " 202  0.934334  0.915618  0.906230  0.943661  1.000000  0.971465  0.971525  \n",
       " 203  0.934334  0.915618  0.906230  0.943661  0.971465  1.000000  0.989023  \n",
       " 204  0.934334  0.915618  0.906230  0.943661  0.971525  0.989023  1.000000  \n",
       " \n",
       " [205 rows x 205 columns],\n",
       " 'plot': [Text(0.5, 1.0, 'Estimated latent correlation')],\n",
       " 'K':               0             1             2             3         4    \\\n",
       " 0    1.000000e+00 -1.123306e-06 -5.616531e-07 -1.497742e-06 -0.000010   \n",
       " 1   -1.123306e-06  1.000000e+00 -4.814169e-07 -1.283778e-06 -0.000008   \n",
       " 2   -5.616531e-07 -4.814169e-07  1.000000e+00 -6.418892e-07 -0.000004   \n",
       " 3   -1.497742e-06 -1.283778e-06 -6.418892e-07  1.000000e+00 -0.000011   \n",
       " 4   -9.735320e-06 -8.344560e-06 -4.172280e-06 -1.112608e-05  1.000000   \n",
       " ..            ...           ...           ...           ...       ...   \n",
       " 200 -1.684959e-06 -1.444251e-06 -7.221254e-07 -1.925668e-06 -0.000013   \n",
       " 201 -9.360885e-07 -8.023616e-07 -4.011808e-07 -1.069815e-06 -0.000007   \n",
       " 202 -3.744354e-07 -3.209446e-07 -1.604723e-07 -4.279262e-07 -0.000003   \n",
       " 203 -9.360885e-07 -8.023616e-07 -4.011808e-07 -1.069815e-06 -0.000007   \n",
       " 204 -1.872177e-07 -1.604723e-07 -8.023616e-08 -2.139631e-07 -0.000001   \n",
       " \n",
       "               5             6         7         8             9    ...  \\\n",
       " 0   -1.497742e-06 -1.872177e-07 -0.000017 -0.000011 -1.310524e-06  ...   \n",
       " 1   -1.283778e-06 -1.604723e-07  0.000214 -0.000009 -1.123306e-06  ...   \n",
       " 2   -6.418892e-07 -8.023616e-08 -0.000007 -0.000005 -5.616531e-07  ...   \n",
       " 3   -1.711705e-06 -2.139631e-07  0.000209 -0.000013 -1.497742e-06  ...   \n",
       " 4   -1.112608e-05 -1.390760e-06  0.000326  0.000375 -9.735320e-06  ...   \n",
       " ..            ...           ...       ...       ...           ...  ...   \n",
       " 200 -1.925668e-06 -2.407085e-07 -0.000022  0.000216 -1.684959e-06  ...   \n",
       " 201 -1.069815e-06 -1.337269e-07 -0.000012 -0.000008 -9.360885e-07  ...   \n",
       " 202 -4.279262e-07 -5.349077e-08 -0.000005 -0.000003 -3.744354e-07  ...   \n",
       " 203 -1.069815e-06 -1.337269e-07 -0.000012 -0.000008 -9.360885e-07  ...   \n",
       " 204 -2.139631e-07 -2.674539e-08 -0.000002 -0.000002 -1.872177e-07  ...   \n",
       " \n",
       "               195           196           197           198           199  \\\n",
       " 0   -3.182701e-06 -1.684959e-06 -1.310524e-06 -1.123306e-06 -1.497742e-06   \n",
       " 1    2.280579e-04 -1.444251e-06 -1.123306e-06 -9.628339e-07  2.296894e-04   \n",
       " 2   -1.364015e-06 -7.221254e-07 -5.616531e-07 -4.814169e-07 -6.418892e-07   \n",
       " 3    2.272020e-04 -1.925668e-06 -1.497742e-06 -1.283778e-06 -1.711705e-06   \n",
       " 4   -2.364292e-05 -1.251684e-05 -9.735320e-06 -8.344560e-06 -1.112608e-05   \n",
       " ..            ...           ...           ...           ...           ...   \n",
       " 200 -4.092044e-06 -2.166376e-06 -1.684959e-06 -1.444251e-06 -1.925668e-06   \n",
       " 201 -2.273358e-06 -1.203542e-06 -9.360885e-07 -8.023616e-07 -1.069815e-06   \n",
       " 202 -9.093431e-07 -4.814169e-07 -3.744354e-07 -3.209446e-07 -4.279262e-07   \n",
       " 203 -2.273358e-06 -1.203542e-06 -9.360885e-07 -8.023616e-07 -1.069815e-06   \n",
       " 204 -4.546715e-07 -2.407085e-07 -1.872177e-07 -1.604723e-07 -2.139631e-07   \n",
       " \n",
       "               200           201           202           203           204  \n",
       " 0   -1.684959e-06 -9.360885e-07 -3.744354e-07 -9.360885e-07 -1.872177e-07  \n",
       " 1   -1.444251e-06 -8.023616e-07 -3.209446e-07 -8.023616e-07 -1.604723e-07  \n",
       " 2   -7.221254e-07 -4.011808e-07 -1.604723e-07 -4.011808e-07 -8.023616e-08  \n",
       " 3   -1.925668e-06 -1.069815e-06 -4.279262e-07 -1.069815e-06 -2.139631e-07  \n",
       " 4   -1.251684e-05 -6.953800e-06 -2.781520e-06 -6.953800e-06 -1.390760e-06  \n",
       " ..            ...           ...           ...           ...           ...  \n",
       " 200  1.000000e+00 -1.203542e-06 -4.814169e-07 -1.203542e-06 -2.407085e-07  \n",
       " 201 -1.203542e-06  1.000000e+00 -2.674539e-07 -6.686346e-07 -1.337269e-07  \n",
       " 202 -4.814169e-07 -2.674539e-07  1.000000e+00 -2.674539e-07 -5.349077e-08  \n",
       " 203 -1.203542e-06 -6.686346e-07 -2.674539e-07  1.000000e+00  2.311069e-04  \n",
       " 204 -2.407085e-07 -1.337269e-07 -5.349077e-08  2.311069e-04  1.000000e+00  \n",
       " \n",
       " [205 rows x 205 columns],\n",
       " 'zratios': array([[0.99919056, 0.9993062 , 0.9996531 , 0.99907493, 0.99398705,\n",
       "         0.99907493, 0.99988437, 0.98924607, 0.99317761, 0.99919056,\n",
       "         0.99907493, 0.9986124 , 0.99953747, 0.99387142, 0.99629972,\n",
       "         0.99942183, 0.99953747, 0.9989593 , 0.99814986, 0.99976873,\n",
       "         0.99907493, 0.99907493, 0.98045791, 0.99283071, 0.99583719,\n",
       "         0.99803423, 0.9989593 , 0.9996531 , 0.99803423, 0.99953747,\n",
       "         0.99953747, 0.99884366, 0.99664662, 0.99942183, 0.99919056,\n",
       "         0.9993062 , 0.9989593 , 0.99953747, 0.98808973, 0.97247919,\n",
       "         0.98450509, 0.9993062 , 0.99976873, 0.99942183, 0.9993062 ,\n",
       "         0.99976873, 0.9993062 , 0.9993062 , 0.99560592, 0.9993062 ,\n",
       "         0.9996531 , 0.99942183, 0.99849676, 0.99942183, 0.99722479,\n",
       "         0.99907493, 0.99942183, 0.99768733, 0.9993062 , 0.9996531 ,\n",
       "         0.99583719, 0.9996531 , 0.99976873, 0.99167438, 0.98855227,\n",
       "         0.98519889, 0.98184551, 0.99560592, 0.99942183, 0.99942183,\n",
       "         0.99884366, 0.98149861, 0.99907493, 0.97641073, 0.94426457,\n",
       "         0.96796947, 0.98485199, 0.95906568, 0.98288622, 0.97548566,\n",
       "         0.96796947, 0.96901018, 0.97756707, 0.96345976, 0.96692877,\n",
       "         0.98681776, 0.99132747, 0.98022664, 0.96947271, 0.97224792,\n",
       "         0.98196115, 0.96334413, 0.98739593, 0.97340426, 0.96299722,\n",
       "         0.9776827 , 0.91558742, 0.9783765 , 0.99953747, 0.99514339,\n",
       "         0.99953747, 0.99560592, 0.9993062 , 0.99213691, 0.9993062 ,\n",
       "         0.99814986, 0.99768733, 0.99479648, 0.99872803, 0.98889917,\n",
       "         0.99421832, 0.97976411, 0.98138298, 0.98068918, 0.99213691,\n",
       "         0.99942183, 0.99953747, 0.99780296, 0.99953747, 0.99919056,\n",
       "         0.99976873, 0.99710916, 0.99942183, 0.9996531 , 0.99907493,\n",
       "         0.99074931, 0.98589269, 0.98288622, 0.99791859, 0.94692414,\n",
       "         0.9989593 , 0.99976873, 0.9989593 , 0.99872803, 0.99687789,\n",
       "         0.99907493, 0.97779833, 0.99502775, 0.99907493, 0.99953747,\n",
       "         0.9993062 , 0.9996531 , 0.99907493, 0.99780296, 0.99502775,\n",
       "         0.99942183, 0.99155874, 0.97386679, 0.99086494, 0.99838113,\n",
       "         0.99641536, 0.99907493, 0.99745606, 0.9996531 , 0.99583719,\n",
       "         0.98774283, 0.99410268, 0.99953747, 0.9759482 , 0.9762951 ,\n",
       "         0.95918131, 0.99641536, 0.99699352, 0.9989593 , 0.99190564,\n",
       "         0.99919056, 0.99907493, 0.99953747, 0.99919056, 0.99919056,\n",
       "         0.99953747, 0.9989593 , 0.99514339, 0.99872803, 0.99872803,\n",
       "         0.93674838, 0.98265495, 0.96045328, 0.95409343, 0.96958834,\n",
       "         0.96045328, 0.96276596, 0.99953747, 0.99664662, 0.99976873,\n",
       "         0.99676226, 0.98543016, 0.98068918, 0.99907493, 0.99953747,\n",
       "         0.99942183, 0.99942183, 0.99907493, 0.99953747, 0.99953747,\n",
       "         0.99803423, 0.9989593 , 0.99919056, 0.9993062 , 0.99907493,\n",
       "         0.9989593 , 0.99942183, 0.99976873, 0.99942183, 0.99988437],\n",
       "        [       nan,        nan,        nan,        nan,        nan,\n",
       "                nan,        nan,        nan,        nan,        nan,\n",
       "                nan,        nan,        nan,        nan,        nan,\n",
       "                nan,        nan,        nan,        nan,        nan,\n",
       "                nan,        nan,        nan,        nan,        nan,\n",
       "                nan,        nan,        nan,        nan,        nan,\n",
       "                nan,        nan,        nan,        nan,        nan,\n",
       "                nan,        nan,        nan,        nan,        nan,\n",
       "                nan,        nan,        nan,        nan,        nan,\n",
       "                nan,        nan,        nan,        nan,        nan,\n",
       "                nan,        nan,        nan,        nan,        nan,\n",
       "                nan,        nan,        nan,        nan,        nan,\n",
       "                nan,        nan,        nan,        nan,        nan,\n",
       "                nan,        nan,        nan,        nan,        nan,\n",
       "                nan,        nan,        nan,        nan,        nan,\n",
       "                nan,        nan,        nan,        nan,        nan,\n",
       "                nan,        nan,        nan,        nan,        nan,\n",
       "                nan,        nan,        nan,        nan,        nan,\n",
       "                nan,        nan,        nan,        nan,        nan,\n",
       "                nan,        nan,        nan,        nan,        nan,\n",
       "                nan,        nan,        nan,        nan,        nan,\n",
       "                nan,        nan,        nan,        nan,        nan,\n",
       "                nan,        nan,        nan,        nan,        nan,\n",
       "                nan,        nan,        nan,        nan,        nan,\n",
       "                nan,        nan,        nan,        nan,        nan,\n",
       "                nan,        nan,        nan,        nan,        nan,\n",
       "                nan,        nan,        nan,        nan,        nan,\n",
       "                nan,        nan,        nan,        nan,        nan,\n",
       "                nan,        nan,        nan,        nan,        nan,\n",
       "                nan,        nan,        nan,        nan,        nan,\n",
       "                nan,        nan,        nan,        nan,        nan,\n",
       "                nan,        nan,        nan,        nan,        nan,\n",
       "                nan,        nan,        nan,        nan,        nan,\n",
       "                nan,        nan,        nan,        nan,        nan,\n",
       "                nan,        nan,        nan,        nan,        nan,\n",
       "                nan,        nan,        nan,        nan,        nan,\n",
       "                nan,        nan,        nan,        nan,        nan,\n",
       "                nan,        nan,        nan,        nan,        nan,\n",
       "                nan,        nan,        nan,        nan,        nan,\n",
       "                nan,        nan,        nan,        nan,        nan,\n",
       "                nan,        nan,        nan,        nan,        nan]])}"
      ]
     },
     "execution_count": 45,
     "metadata": {},
     "output_type": "execute_result"
    }
   ],
   "source": [
    "estimate"
   ]
  },
  {
   "cell_type": "code",
   "execution_count": null,
   "metadata": {},
   "outputs": [],
   "source": [
    "simdata = gen_data(n = 10, tps = [\"ter\", \"con\", \"con\"])\n",
    "print(simdata['X'][ : 6, : ])"
   ]
  },
  {
   "cell_type": "code",
   "execution_count": 44,
   "metadata": {},
   "outputs": [
    {
     "name": "stdout",
     "output_type": "stream",
     "text": [
      "ordinal levels between 4 and 10 will be approximated by either countinuous or truncated type.\n",
      "ordinal levels between 4 and 10 will be approximated by either countinuous or truncated type.\n",
      "ordinal levels between 4 and 10 will be approximated by either countinuous or truncated type.\n",
      "ordinal levels between 4 and 10 will be approximated by either countinuous or truncated type.\n",
      "ordinal levels between 4 and 10 will be approximated by either countinuous or truncated type.\n",
      "ordinal levels between 4 and 10 will be approximated by either countinuous or truncated type.\n",
      "ordinal levels between 4 and 10 will be approximated by either countinuous or truncated type.\n",
      "ordinal levels between 4 and 10 will be approximated by either countinuous or truncated type.\n",
      "ordinal levels between 4 and 10 will be approximated by either countinuous or truncated type.\n",
      "ordinal levels between 4 and 10 will be approximated by either countinuous or truncated type.\n",
      "ordinal levels between 4 and 10 will be approximated by either countinuous or truncated type.\n",
      "ordinal levels between 4 and 10 will be approximated by either countinuous or truncated type.\n",
      "ordinal levels between 4 and 10 will be approximated by either countinuous or truncated type.\n",
      "ordinal levels between 4 and 10 will be approximated by either countinuous or truncated type.\n",
      "ordinal levels between 4 and 10 will be approximated by either countinuous or truncated type.\n",
      "ordinal levels between 4 and 10 will be approximated by either countinuous or truncated type.\n",
      "ordinal levels between 4 and 10 will be approximated by either countinuous or truncated type.\n",
      "ordinal levels between 4 and 10 will be approximated by either countinuous or truncated type.\n",
      "ordinal levels between 4 and 10 will be approximated by either countinuous or truncated type.\n",
      "ordinal levels between 4 and 10 will be approximated by either countinuous or truncated type.\n",
      "ordinal levels between 4 and 10 will be approximated by either countinuous or truncated type.\n",
      "ordinal levels between 4 and 10 will be approximated by either countinuous or truncated type.\n",
      "ordinal levels between 4 and 10 will be approximated by either countinuous or truncated type.\n",
      "ordinal levels between 4 and 10 will be approximated by either countinuous or truncated type.\n",
      "ordinal levels between 4 and 10 will be approximated by either countinuous or truncated type.\n",
      "ordinal levels between 4 and 10 will be approximated by either countinuous or truncated type.\n",
      "ordinal levels between 4 and 10 will be approximated by either countinuous or truncated type.\n",
      "ordinal levels between 4 and 10 will be approximated by either countinuous or truncated type.\n",
      "ordinal levels between 4 and 10 will be approximated by either countinuous or truncated type.\n",
      "ordinal levels between 4 and 10 will be approximated by either countinuous or truncated type.\n",
      "ordinal levels between 4 and 10 will be approximated by either countinuous or truncated type.\n",
      "ordinal levels between 4 and 10 will be approximated by either countinuous or truncated type.\n",
      "ordinal levels between 4 and 10 will be approximated by either countinuous or truncated type.\n",
      "ordinal levels between 4 and 10 will be approximated by either countinuous or truncated type.\n",
      "ordinal levels between 4 and 10 will be approximated by either countinuous or truncated type.\n",
      "ordinal levels between 4 and 10 will be approximated by either countinuous or truncated type.\n",
      "ordinal levels between 4 and 10 will be approximated by either countinuous or truncated type.\n",
      "ordinal levels between 4 and 10 will be approximated by either countinuous or truncated type.\n",
      "ordinal levels between 4 and 10 will be approximated by either countinuous or truncated type.\n",
      "ordinal levels between 4 and 10 will be approximated by either countinuous or truncated type.\n",
      "ordinal levels between 4 and 10 will be approximated by either countinuous or truncated type.\n",
      "ordinal levels between 4 and 10 will be approximated by either countinuous or truncated type.\n",
      "ordinal levels between 4 and 10 will be approximated by either countinuous or truncated type.\n",
      "ordinal levels between 4 and 10 will be approximated by either countinuous or truncated type.\n",
      "ordinal levels between 4 and 10 will be approximated by either countinuous or truncated type.\n",
      "ordinal levels between 4 and 10 will be approximated by either countinuous or truncated type.\n",
      "ordinal levels between 4 and 10 will be approximated by either countinuous or truncated type.\n",
      "ordinal levels between 4 and 10 will be approximated by either countinuous or truncated type.\n",
      "ordinal levels between 4 and 10 will be approximated by either countinuous or truncated type.\n",
      "ordinal levels between 4 and 10 will be approximated by either countinuous or truncated type.\n",
      "ordinal levels between 4 and 10 will be approximated by either countinuous or truncated type.\n",
      "ordinal levels between 4 and 10 will be approximated by either countinuous or truncated type.\n",
      "ordinal levels between 4 and 10 will be approximated by either countinuous or truncated type.\n",
      "ordinal levels between 4 and 10 will be approximated by either countinuous or truncated type.\n",
      "ordinal levels between 4 and 10 will be approximated by either countinuous or truncated type.\n",
      "ordinal levels between 4 and 10 will be approximated by either countinuous or truncated type.\n",
      "ordinal levels between 4 and 10 will be approximated by either countinuous or truncated type.\n",
      "ordinal levels between 4 and 10 will be approximated by either countinuous or truncated type.\n",
      "ordinal levels between 4 and 10 will be approximated by either countinuous or truncated type.\n",
      "ordinal levels between 4 and 10 will be approximated by either countinuous or truncated type.\n",
      "ordinal levels between 4 and 10 will be approximated by either countinuous or truncated type.\n",
      "ordinal levels between 4 and 10 will be approximated by either countinuous or truncated type.\n",
      "ordinal levels between 4 and 10 will be approximated by either countinuous or truncated type.\n",
      "ordinal levels between 4 and 10 will be approximated by either countinuous or truncated type.\n",
      "ordinal levels between 4 and 10 will be approximated by either countinuous or truncated type.\n",
      "ordinal levels between 4 and 10 will be approximated by either countinuous or truncated type.\n",
      "ordinal levels between 4 and 10 will be approximated by either countinuous or truncated type.\n",
      "ordinal levels between 4 and 10 will be approximated by either countinuous or truncated type.\n",
      "ordinal levels between 4 and 10 will be approximated by either countinuous or truncated type.\n",
      "ordinal levels between 4 and 10 will be approximated by either countinuous or truncated type.\n",
      "ordinal levels between 4 and 10 will be approximated by either countinuous or truncated type.\n",
      "ordinal levels between 4 and 10 will be approximated by either countinuous or truncated type.\n",
      "ordinal levels between 4 and 10 will be approximated by either countinuous or truncated type.\n",
      "ordinal levels between 4 and 10 will be approximated by either countinuous or truncated type.\n",
      "ordinal levels between 4 and 10 will be approximated by either countinuous or truncated type.\n",
      "ordinal levels between 4 and 10 will be approximated by either countinuous or truncated type.\n",
      "ordinal levels between 4 and 10 will be approximated by either countinuous or truncated type.\n",
      "ordinal levels between 4 and 10 will be approximated by either countinuous or truncated type.\n",
      "ordinal levels between 4 and 10 will be approximated by either countinuous or truncated type.\n",
      "ordinal levels between 4 and 10 will be approximated by either countinuous or truncated type.\n",
      "ordinal levels between 4 and 10 will be approximated by either countinuous or truncated type.\n",
      "ordinal levels between 4 and 10 will be approximated by either countinuous or truncated type.\n",
      "ordinal levels between 4 and 10 will be approximated by either countinuous or truncated type.\n",
      "ordinal levels between 4 and 10 will be approximated by either countinuous or truncated type.\n",
      "ordinal levels between 4 and 10 will be approximated by either countinuous or truncated type.\n",
      "ordinal levels between 4 and 10 will be approximated by either countinuous or truncated type.\n",
      "ordinal levels between 4 and 10 will be approximated by either countinuous or truncated type.\n",
      "ordinal levels between 4 and 10 will be approximated by either countinuous or truncated type.\n",
      "ordinal levels between 4 and 10 will be approximated by either countinuous or truncated type.\n",
      "ordinal levels between 4 and 10 will be approximated by either countinuous or truncated type.\n",
      "ordinal levels between 4 and 10 will be approximated by either countinuous or truncated type.\n",
      "ordinal levels between 4 and 10 will be approximated by either countinuous or truncated type.\n"
     ]
    },
    {
     "data": {
      "text/plain": [
       "array(['tru', 'tru', 'tru', 'tru', 'tru', 'tru', 'bin', 'tru', 'tru',\n",
       "       'tru', 'tru', 'tru', 'tru', 'tru', 'tru', 'tru', 'tru', 'tru',\n",
       "       'tru', 'ter', 'tru', 'tru', 'tru', 'tru', 'tru', 'tru', 'tru',\n",
       "       'ter', 'tru', 'tru', 'tru', 'tru', 'tru', 'tru', 'tru', 'tru',\n",
       "       'tru', 'tru', 'tru', 'tru', 'tru', 'tru', 'ter', 'tru', 'tru',\n",
       "       'ter', 'tru', 'tru', 'tru', 'tru', 'tru', 'tru', 'tru', 'tru',\n",
       "       'tru', 'tru', 'tru', 'tru', 'tru', 'tru', 'tru', 'tru', 'ter',\n",
       "       'tru', 'tru', 'tru', 'tru', 'tru', 'tru', 'tru', 'tru', 'tru',\n",
       "       'tru', 'tru', 'tru', 'tru', 'tru', 'tru', 'tru', 'tru', 'tru',\n",
       "       'tru', 'tru', 'tru', 'tru', 'tru', 'tru', 'tru', 'tru', 'tru',\n",
       "       'tru', 'tru', 'tru', 'tru', 'tru', 'tru', 'tru', 'tru', 'tru',\n",
       "       'tru', 'tru', 'tru', 'tru', 'tru', 'tru', 'tru', 'tru', 'tru',\n",
       "       'tru', 'tru', 'tru', 'tru', 'tru', 'tru', 'tru', 'tru', 'tru',\n",
       "       'tru', 'tru', 'tru', 'ter', 'tru', 'tru', 'tru', 'tru', 'tru',\n",
       "       'tru', 'tru', 'tru', 'tru', 'tru', 'ter', 'tru', 'tru', 'tru',\n",
       "       'tru', 'tru', 'tru', 'tru', 'tru', 'tru', 'tru', 'tru', 'tru',\n",
       "       'tru', 'tru', 'tru', 'tru', 'tru', 'tru', 'tru', 'tru', 'tru',\n",
       "       'tru', 'tru', 'tru', 'tru', 'tru', 'tru', 'tru', 'tru', 'tru',\n",
       "       'tru', 'tru', 'tru', 'tru', 'tru', 'tru', 'tru', 'tru', 'tru',\n",
       "       'tru', 'tru', 'tru', 'tru', 'tru', 'tru', 'tru', 'tru', 'tru',\n",
       "       'tru', 'tru', 'tru', 'tru', 'ter', 'tru', 'tru', 'tru', 'tru',\n",
       "       'tru', 'tru', 'tru', 'tru', 'tru', 'tru', 'tru', 'tru', 'tru',\n",
       "       'tru', 'tru', 'tru', 'tru', 'ter', 'tru', 'bin'], dtype='<U3')"
      ]
     },
     "execution_count": 44,
     "metadata": {},
     "output_type": "execute_result"
    }
   ],
   "source": [
    "get_tps(X_norm.A)"
   ]
  },
  {
   "cell_type": "code",
   "execution_count": null,
   "metadata": {},
   "outputs": [],
   "source": [
    "ax = sns.heatmap(\n",
    "    estimate['R'], \n",
    "    vmin=-1, vmax=1, center=0,\n",
    "    cmap=sns.diverging_palette(20, 220, n=200),\n",
    "    square=True\n",
    ")\n",
    "ax.set_xticklabels(\n",
    "    ax.get_xticklabels(),\n",
    "    rotation=45,\n",
    "    horizontalalignment='right'\n",
    ")"
   ]
  },
  {
   "cell_type": "code",
   "execution_count": 14,
   "metadata": {},
   "outputs": [],
   "source": [
    "cell0 = data_gex.X.A[:1000]"
   ]
  },
  {
   "cell_type": "code",
   "execution_count": 15,
   "metadata": {},
   "outputs": [
    {
     "data": {
      "text/plain": [
       "6.0"
      ]
     },
     "execution_count": 15,
     "metadata": {},
     "output_type": "execute_result"
    }
   ],
   "source": [
    "np.median(np.sum(cell0, axis=1))"
   ]
  },
  {
   "cell_type": "code",
   "execution_count": 16,
   "metadata": {},
   "outputs": [
    {
     "data": {
      "text/plain": [
       "8.829"
      ]
     },
     "execution_count": 16,
     "metadata": {},
     "output_type": "execute_result"
    }
   ],
   "source": [
    "np.mean(np.sum(cell0, axis=1))"
   ]
  },
  {
   "cell_type": "code",
   "execution_count": 19,
   "metadata": {},
   "outputs": [
    {
     "data": {
      "text/plain": [
       "array([ 17.,   9.,  12.,   4.,   9.,   2.,   4.,  12.,  11.,   3.,   9.,\n",
       "        12.,   8.,   2.,   2.,  16.,   3.,   9.,   3.,   6.,   7.,  10.,\n",
       "        10.,   1.,   6.,   4.,   9.,   4.,   2.,   1.,   6.,   4.,   9.,\n",
       "         3.,   6.,   9.,   3.,   4.,   2.,   7.,  13.,  13.,  14.,  13.,\n",
       "        52.,  31.,   7.,   1.,  12.,   3.,   4.,   5.,   2.,   4.,   6.,\n",
       "         6.,  11.,  37.,  10.,   4.,   5.,  13.,   1.,  12.,   1.,   4.,\n",
       "        15.,  12.,   4.,  14.,   9.,   1.,  17.,  10.,   4.,  10.,  12.,\n",
       "        21.,   4.,  32.,  17.,  12.,  10.,   5.,   4.,  11.,  12.,   4.,\n",
       "        10.,  32.,  12.,   6.,   1.,   5.,  10.,   5.,   5.,   4.,   3.,\n",
       "         2.,   4.,   4.,   5.,   4.,   4.,   7.,   6.,   6.,   6.,  20.,\n",
       "         5.,   4.,   4.,   7.,   6.,   2.,   6.,   7.,   8.,   5.,  17.,\n",
       "         8.,   9.,   4.,   1.,   7.,   9.,   9.,   8.,   3.,   4.,   4.,\n",
       "         4.,  10.,   1.,   2.,  27.,  19.,   2.,   2.,   5.,   9.,  18.,\n",
       "         8.,   3.,   2.,   1.,   1.,   5.,   3.,  13.,   7.,  10.,  13.,\n",
       "         7.,   7.,   8.,   5.,   2.,   2.,   2.,  10.,   8.,  10.,   2.,\n",
       "         6.,   9.,   3.,  20.,  13.,  12.,   8.,  11.,   2.,   9.,  10.,\n",
       "         4.,  14.,   5.,   4.,  12.,  11.,   7.,   5.,   1.,   3.,   4.,\n",
       "         1.,  14.,   7.,  25.,   4.,   8.,   9.,   3.,  11.,  16.,  12.,\n",
       "        14.,   5.,   7.,   9.,   9.,  14.,   7.,   6.,   1.,  27.,   9.,\n",
       "        22.,   9.,   5.,   2.,   1.,   3.,   3.,   2.,   1.,   6.,   3.,\n",
       "         3.,   1.,  91.,   6.,  10.,   3.,   5.,  10.,   5.,   4.,   9.,\n",
       "        13.,  27.,   9.,   2.,   9.,   2.,   5.,   4.,   5.,  15.,  24.,\n",
       "         9.,   5.,  17.,  16.,  16.,  11.,   9.,   7.,   8.,  11.,   8.,\n",
       "         7.,  11.,  22.,  13.,  20.,  23.,  37.,   5.,   3.,   6.,  13.,\n",
       "         8.,  11.,   3.,   9.,   6.,  10.,   8.,   8.,   3.,   3.,  16.,\n",
       "         2.,  10.,   7.,   4.,   3.,  16.,   4.,   4.,  17.,  30.,   3.,\n",
       "         1.,   3.,   2.,   3.,  13.,  30.,  17.,  26.,  23.,  20.,  16.,\n",
       "        13., 521.,  47.,  37.,  31.,  30.,  28.,  30.,  34.,  33.,  15.,\n",
       "        26.,  21.,  14.,   4.,   9.,   4.,  17.,   7.,   8.,   3.,  15.,\n",
       "        22.,   6.,   5.,  26.,   3.,  14.,  25.,  20.,  37.,  20.,  24.,\n",
       "        22.,  19.,  19.,  16.,  19.,  23.,  87.,  22.,  18.,  24.,  19.,\n",
       "        19.,  24.,   9.,   5.,   7.,   5.,   5.,   5.,   1.,   3.,  21.,\n",
       "         3.,   2.,   2.,  15.,   4.,   2.,   5.,  18.,   3.,   8.,   7.,\n",
       "         4.,   3.,  21.,   3.,   5.,  27.,   6.,  20.,  11.,   4.,   8.,\n",
       "         9.,   7.,  30.,  11.,   9.,  10.,   4.,  10.,   7.,   5.,   2.,\n",
       "        10.,  17.,  19.,  10.,   4.,   5.,  15.,   6.,   3.,   8.,   5.,\n",
       "        33.,  21.,  11.,   1.,  12.,   7.,   6.,   3.,  15.,   8.,   9.,\n",
       "         5.,   6.,   2.,   6.,   3.,  20.,  11.,   7.,   4.,  19.,  10.,\n",
       "         3.,   8.,  12.,  37.,  10.,   5.,   4.,   4.,   1.,   5.,   9.,\n",
       "         7.,  10.,  24.,   9.,   4.,   6.,   5.,  10.,  13.,   6.,   5.,\n",
       "        10.,   7.,   1.,  11.,   7.,   7.,   1.,   2.,   8.,   5.,   6.,\n",
       "        16.,  10.,   5.,   5.,   2.,  15.,  15.,   5.,   2.,   3.,   9.,\n",
       "         6.,   4.,   7.,   7.,   3.,   5.,  13.,  17.,   4.,   9.,  17.,\n",
       "         6.,  11.,   3.,   4.,  16.,  11.,  23.,  19.,   2.,   4.,   7.,\n",
       "         2.,  10.,  11.,   8.,  25.,   6.,   2.,   6.,  12.,  11.,   7.,\n",
       "         6.,  11.,   5.,   4.,   9.,   2.,   9.,   8.,   2.,  10.,  12.,\n",
       "         7.,   7.,   3.,   6.,   3.,   6.,   2.,  24.,   6.,   6.,   5.,\n",
       "         2.,   4.,   2.,   4.,  13.,   1.,   1.,   9.,   4.,   8.,   9.,\n",
       "         1.,   3.,   7.,   4.,   3.,   2.,   1.,   3.,   4.,   3.,   2.,\n",
       "         5.,   7.,  10.,   8.,   6.,   7.,   9.,   9.,   4.,   8.,   1.,\n",
       "         1.,   6.,   3.,   1.,   5.,  17.,  10.,   9.,   7.,   7.,   3.,\n",
       "         2.,   6.,   4.,   4.,  10.,   4.,   6.,   3.,   3.,   7.,   8.,\n",
       "         6.,  19.,   2.,   3.,   5.,   4.,   4.,   7.,   1.,   6.,   2.,\n",
       "         3.,   3.,   6.,   6.,   4.,   8.,   1.,   8.,   6.,   8.,   3.,\n",
       "        14.,  10.,  10.,   3.,   6.,  11.,  14.,   6.,   9.,  17.,  12.,\n",
       "         7.,   4.,   5.,   8.,  11.,  28.,   5.,   3.,   5.,   3.,   3.,\n",
       "         3.,  11.,   2.,   5.,   4.,  11.,  13.,   8.,   2.,   3.,   3.,\n",
       "        18.,   1.,   3.,   5.,   8.,   8.,   3.,   2.,   2.,   7.,  26.,\n",
       "         5.,   4.,   8.,   4.,   4.,   2.,   2.,   5.,   6.,  22.,   7.,\n",
       "         2.,  14.,  14.,   1.,   3.,  10.,   1.,   7.,   2.,   8.,   3.,\n",
       "         7.,   2.,   6.,   9.,   2.,  12.,   8.,  16.,   4.,   9.,   2.,\n",
       "         4.,   3.,   5.,   1.,   8.,   7.,   4.,   2.,   8.,   6.,   4.,\n",
       "         2.,   2.,   3.,  11.,   2.,   3.,  11.,   4.,   4.,   4.,  10.,\n",
       "         9.,   6.,   2.,   6.,   2.,   3.,   3.,   6.,   4.,   4.,   3.,\n",
       "         7.,   3.,   2.,  10.,   4.,   1.,   2.,   9.,   5.,   8.,   4.,\n",
       "         3.,   2.,   4.,   1.,  11.,   5.,   6.,  11.,   7.,   9.,   3.,\n",
       "        10.,   3.,   5.,  18.,   3.,   2.,   7.,   5.,   4.,   7.,  13.,\n",
       "         6.,   9.,   3.,   1.,   5.,   4.,   3.,  13.,   8.,  11.,  11.,\n",
       "        12.,  34.,   1.,   4.,  12.,   7.,  11.,   5.,   2.,   5.,   7.,\n",
       "        14.,   4.,   4.,   1.,   5.,  16.,  15.,   8.,  15.,   2.,   3.,\n",
       "        15.,  16.,  17.,  16.,  15.,  42.,  14.,  18.,  22.,   4.,  19.,\n",
       "        15.,  11.,   3.,   6.,   5.,   4.,   4.,   3.,   7.,   2.,   2.,\n",
       "         2.,   2.,  18.,   4.,   5.,  11.,   7.,  10.,   6.,   7.,   6.,\n",
       "        14.,  20.,   6.,   4.,   6.,  11.,   5.,   9.,   5.,  10.,   5.,\n",
       "         6.,   2.,   6.,   5.,   4.,   7.,   8.,   7.,   2.,  14.,   8.,\n",
       "         4.,   5.,   4.,   5.,   3.,   2.,   9.,   2.,   9.,   5.,  15.,\n",
       "        16.,   3.,   3.,   2.,   8.,  14.,   5.,   7.,   4.,   9.,   6.,\n",
       "        13.,  19.,   7.,   2.,  21.,   5.,   4.,   4.,   6.,   6.,   5.,\n",
       "         5.,   1.,   1.,   6.,   8.,   3.,   7.,   5.,   3.,   4.,   5.,\n",
       "         7.,   7.,   5.,   9.,  11.,  12.,   6.,  11.,  10.,   4.,   6.,\n",
       "         5.,   6.,   7.,  22.,   2.,   2.,   6.,   4.,   4.,   7.,   9.,\n",
       "         2.,   6.,   5.,   4.,   4.,   3.,   6.,   5.,   5.,   6.,   9.,\n",
       "         2.,   1.,   2.,   4.,   1.,   2.,   5.,   6.,  17.,   4.,  37.,\n",
       "        10.,   6.,   7.,   9.,   6.,   5.,   3.,   4.,   7.,   1.,   3.,\n",
       "         3.,   6.,   3.,  22.,   4.,   3.,   2.,  13.,   4.,  12.,   5.,\n",
       "         4.,  11.,   3.,   4.,   5.,   5.,   9.,   3.,   1.,   6.,   3.,\n",
       "         4.,   4.,  56.,   2.,   7.,   1.,   6.,   3.,   3.,   3.,  10.,\n",
       "         4.,   4.,   7.,   9.,   6.,  15.,  26.,   3.,   5.,   4.,   3.,\n",
       "         5.,  19.,   6.,   5.,   4.,   3.,  10.,   3.,  15.,   2.,  11.,\n",
       "         3.,   5.,   5.,  10.,  12.,   7.,  10.,   4.,  12.,  10.,   3.,\n",
       "         8.,   6.,   5.,   2.,   4.,   5.,   4.,   8.,   4.,  10.],\n",
       "      dtype=float32)"
      ]
     },
     "execution_count": 19,
     "metadata": {},
     "output_type": "execute_result"
    }
   ],
   "source": [
    "np.sum(cell0, axis=1)"
   ]
  },
  {
   "cell_type": "code",
   "execution_count": 20,
   "metadata": {},
   "outputs": [
    {
     "data": {
      "text/plain": [
       "84.0"
      ]
     },
     "execution_count": 20,
     "metadata": {},
     "output_type": "execute_result"
    }
   ],
   "source": [
    "data_gex.X.A.max()"
   ]
  },
  {
   "cell_type": "code",
   "execution_count": null,
   "metadata": {},
   "outputs": [],
   "source": []
  },
  {
   "cell_type": "code",
   "execution_count": null,
   "metadata": {},
   "outputs": [],
   "source": []
  }
 ],
 "metadata": {
  "kernelspec": {
   "display_name": "mvtcr_n1",
   "language": "python",
   "name": "python3"
  },
  "language_info": {
   "codemirror_mode": {
    "name": "ipython",
    "version": 3
   },
   "file_extension": ".py",
   "mimetype": "text/x-python",
   "name": "python",
   "nbconvert_exporter": "python",
   "pygments_lexer": "ipython3",
   "version": "3.10.13"
  }
 },
 "nbformat": 4,
 "nbformat_minor": 2
}
