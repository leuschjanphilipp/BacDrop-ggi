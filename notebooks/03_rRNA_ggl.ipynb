{
 "cells": [
  {
   "cell_type": "code",
   "execution_count": 1,
   "metadata": {},
   "outputs": [],
   "source": [
    "import scanpy as sc\n",
    "import pandas as pd\n",
    "import numpy as np\n",
    "import seaborn as sns\n",
    "import mudata as md\n",
    "import networkx as nx\n",
    "import matplotlib.pyplot as plt\n",
    "\n",
    "import gc\n",
    "import sys\n",
    "sys.path.append('../')\n",
    "\n",
    "from utils.gglasso_pipeline import gg_lasso_network_analysis\n",
    "from utils.utils import calc_sparsity\n",
    "from sklearn.covariance import empirical_covariance\n",
    "from latentcor import latentcor\n",
    "\n",
    "import warnings\n",
    "warnings.filterwarnings('ignore', category=FutureWarning)"
   ]
  },
  {
   "cell_type": "markdown",
   "metadata": {},
   "source": [
    "### Load data and preprocess\n",
    "- Load all four species with their high abundance gene set and subsample to only rRNA genes\n",
    "- Filter out cells containing no information\n",
    "- Converting genes to protein clusters (PCs) as index\n",
    "- Assemble for each species pd.df such that all have same dimesions as input for gglasso"
   ]
  },
  {
   "cell_type": "code",
   "execution_count": 2,
   "metadata": {},
   "outputs": [
    {
     "name": "stderr",
     "output_type": "stream",
     "text": [
      "/home/jan/anaconda3/envs/bacdrop/lib/python3.10/site-packages/mudata/_core/mudata.py:491: UserWarning: Cannot join columns with the same name because var_names are intersecting.\n",
      "  warnings.warn(\n"
     ]
    },
    {
     "data": {
      "text/plain": [
       "AnnData object with n_obs × n_vars = 2405 × 24\n",
       "    obs: 'strains', 'n_genes_by_counts', 'total_counts', 'log1p_n_genes_by_counts', 'log1p_total_counts', 'total_counts_rRNA', 'log1p_total_counts_rRNA', 'pct_counts_rRNA', 'outlier', 'n_counts'\n",
       "    var: 'strains', 'matchin_protein', 'protein', 'n_cells_by_counts', 'mean_counts', 'pct_dropout_by_counts', 'total_counts', 'n_cells', 'protein_name', 'rRNA', 'PC_lev0', 'PC_lev1', 'PC_lev2', 'PC_lev3', 'PC_lev4', 'PC_lev5', 'PC_lev6', 'log1p_mean_counts', 'log1p_total_counts', 'n_counts'\n",
       "    uns: 'genes_match', 'protein_match', 'unmatch_genes'\n",
       "    layers: 'log1p', 'norm_counts', 'raw_counts', 'sqrt_counts'"
      ]
     },
     "execution_count": 2,
     "metadata": {},
     "output_type": "execute_result"
    }
   ],
   "source": [
    "ec_mudata = md.read(\"../data/preprocessed/preprocessed_new/preprocessed/ec_mudata_preprocessed.h5mu\")\n",
    "ec_gc5 = ec_mudata[\"gc5_genes\"].copy()\n",
    "ec_gc5 = ec_gc5[:, ~ec_gc5.var[\"rRNA\"]].copy()\n",
    "sc.pp.filter_cells(ec_gc5, min_counts=1)\n",
    "ec_gc5"
   ]
  },
  {
   "cell_type": "code",
   "execution_count": 3,
   "metadata": {},
   "outputs": [
    {
     "name": "stderr",
     "output_type": "stream",
     "text": [
      "/home/jan/anaconda3/envs/bacdrop/lib/python3.10/site-packages/mudata/_core/mudata.py:491: UserWarning: Cannot join columns with the same name because var_names are intersecting.\n",
      "  warnings.warn(\n"
     ]
    },
    {
     "data": {
      "text/plain": [
       "AnnData object with n_obs × n_vars = 4657 × 33\n",
       "    obs: 'strains', 'n_genes_by_counts', 'total_counts', 'log1p_n_genes_by_counts', 'log1p_total_counts', 'total_counts_rRNA', 'log1p_total_counts_rRNA', 'pct_counts_rRNA', 'outlier', 'n_counts'\n",
       "    var: 'strains', 'matchin_protein', 'protein', 'n_cells_by_counts', 'mean_counts', 'pct_dropout_by_counts', 'total_counts', 'n_cells', 'protein_name', 'rRNA', 'PC_lev0', 'PC_lev1', 'PC_lev2', 'PC_lev3', 'PC_lev4', 'PC_lev5', 'PC_lev6', 'log1p_mean_counts', 'log1p_total_counts', 'n_counts'\n",
       "    uns: 'genes_match', 'protein_match', 'unmatch_genes'\n",
       "    layers: 'log1p', 'norm_counts', 'raw_counts', 'sqrt_counts'"
      ]
     },
     "execution_count": 3,
     "metadata": {},
     "output_type": "execute_result"
    }
   ],
   "source": [
    "efm_mudata = md.read(\"../data/preprocessed/preprocessed_new/preprocessed/efm_mudata_preprocessed.h5mu\")\n",
    "efm_gc5 = efm_mudata[\"gc5_genes\"].copy()\n",
    "efm_gc5 = efm_gc5[:, ~efm_gc5.var[\"rRNA\"]].copy()\n",
    "sc.pp.filter_cells(efm_gc5, min_counts=1)\n",
    "efm_gc5"
   ]
  },
  {
   "cell_type": "code",
   "execution_count": 4,
   "metadata": {},
   "outputs": [
    {
     "name": "stderr",
     "output_type": "stream",
     "text": [
      "/home/jan/anaconda3/envs/bacdrop/lib/python3.10/site-packages/mudata/_core/mudata.py:491: UserWarning: Cannot join columns with the same name because var_names are intersecting.\n",
      "  warnings.warn(\n"
     ]
    },
    {
     "data": {
      "text/plain": [
       "AnnData object with n_obs × n_vars = 172 × 19\n",
       "    obs: 'strains', 'n_genes_by_counts', 'total_counts', 'log1p_n_genes_by_counts', 'log1p_total_counts', 'total_counts_rRNA', 'log1p_total_counts_rRNA', 'pct_counts_rRNA', 'outlier', 'n_counts'\n",
       "    var: 'strains', 'matchin_protein', 'protein', 'n_cells_by_counts', 'mean_counts', 'pct_dropout_by_counts', 'total_counts', 'n_cells', 'protein_name', 'rRNA', 'PC_lev0', 'PC_lev1', 'PC_lev2', 'PC_lev3', 'PC_lev4', 'PC_lev5', 'PC_lev6', 'log1p_mean_counts', 'log1p_total_counts', 'n_counts'\n",
       "    uns: 'genes_match', 'protein_match', 'unmatch_genes'\n",
       "    layers: 'log1p', 'norm_counts', 'raw_counts', 'sqrt_counts'"
      ]
     },
     "execution_count": 4,
     "metadata": {},
     "output_type": "execute_result"
    }
   ],
   "source": [
    "psa_mudata = md.read(\"../data/preprocessed/preprocessed_new/preprocessed/psa_mudata_preprocessed.h5mu\")\n",
    "psa_gc5 = psa_mudata[\"gc5_genes\"].copy()\n",
    "psa_gc5 = psa_gc5[:, ~psa_gc5.var[\"rRNA\"]].copy()\n",
    "sc.pp.filter_cells(psa_gc5, min_counts=1)\n",
    "psa_gc5"
   ]
  },
  {
   "cell_type": "code",
   "execution_count": 5,
   "metadata": {},
   "outputs": [
    {
     "name": "stderr",
     "output_type": "stream",
     "text": [
      "/home/jan/anaconda3/envs/bacdrop/lib/python3.10/site-packages/mudata/_core/mudata.py:491: UserWarning: Cannot join columns with the same name because var_names are intersecting.\n",
      "  warnings.warn(\n"
     ]
    },
    {
     "data": {
      "text/plain": [
       "AnnData object with n_obs × n_vars = 646 × 18\n",
       "    obs: 'strains', 'n_genes_by_counts', 'total_counts', 'log1p_n_genes_by_counts', 'log1p_total_counts', 'total_counts_rRNA', 'log1p_total_counts_rRNA', 'pct_counts_rRNA', 'outlier', 'n_counts'\n",
       "    var: 'strains', 'matchin_protein', 'protein', 'n_cells_by_counts', 'mean_counts', 'pct_dropout_by_counts', 'total_counts', 'n_cells', 'protein_name', 'rRNA', 'PC_lev0', 'PC_lev1', 'PC_lev2', 'PC_lev3', 'PC_lev4', 'PC_lev5', 'PC_lev6', 'log1p_mean_counts', 'log1p_total_counts', 'n_counts'\n",
       "    uns: 'genes_match', 'protein_match', 'unmatch_genes'\n",
       "    layers: 'log1p', 'norm_counts', 'raw_counts', 'sqrt_counts'"
      ]
     },
     "execution_count": 5,
     "metadata": {},
     "output_type": "execute_result"
    }
   ],
   "source": [
    "kp_mudata = md.read(\"../data/preprocessed/preprocessed_new/preprocessed/kp_mudata_preprocessed.h5mu\")\n",
    "kp_gc5 = kp_mudata[\"gc5_genes\"].copy()\n",
    "kp_gc5 = kp_gc5[:, ~kp_gc5.var[\"rRNA\"]].copy()\n",
    "sc.pp.filter_cells(kp_gc5, min_counts=1)\n",
    "kp_gc5"
   ]
  },
  {
   "cell_type": "code",
   "execution_count": 6,
   "metadata": {},
   "outputs": [
    {
     "data": {
      "text/html": [
       "<pre>MuData object with n_obs × n_vars = 36469 × 33412\n",
       "  3 modalities\n",
       "    SC_genes:\t36469 x 14009\n",
       "      obs:\t&#x27;strains&#x27;\n",
       "      var:\t&#x27;strains&#x27;, &#x27;matchin_protein&#x27;, &#x27;protein&#x27;\n",
       "      uns:\t&#x27;genes_match&#x27;, &#x27;protein_match&#x27;, &#x27;unmatch_genes&#x27;\n",
       "    SC_proteins:\t36469 x 13687\n",
       "      obs:\t&#x27;strains&#x27;\n",
       "      var:\t&#x27;genes_mapping&#x27;, &#x27;strains&#x27;\n",
       "      uns:\t&#x27;Consensus_tree&#x27;, &#x27;protein_adjacency_matrix&#x27;, &#x27;protein_match&#x27;, &#x27;protein_unmatch&#x27;\n",
       "      varm:\t&#x27;protein_hierarchy&#x27;\n",
       "    SC_PCs:\t36469 x 5716\n",
       "      obs:\t&#x27;strains&#x27;\n",
       "      var:\t&#x27;PCs_match&#x27;\n",
       "      uns:\t&#x27;Consensus_tree_PCs&#x27;, &#x27;PCs&#x27;, &#x27;PCs_to_genes&#x27;, &#x27;PCs_unmatch&#x27;, &#x27;Purity_info&#x27;, &#x27;Purity_info_unique&#x27;, &#x27;protein_match&#x27;\n",
       "      varm:\t&#x27;protein_hierarchy_PCs&#x27;</pre>"
      ],
      "text/plain": [
       "MuData object with n_obs × n_vars = 36469 × 33412\n",
       "  3 modalities\n",
       "    SC_genes:\t36469 x 14009\n",
       "      obs:\t'strains'\n",
       "      var:\t'strains', 'matchin_protein', 'protein'\n",
       "      uns:\t'genes_match', 'protein_match', 'unmatch_genes'\n",
       "    SC_proteins:\t36469 x 13687\n",
       "      obs:\t'strains'\n",
       "      var:\t'genes_mapping', 'strains'\n",
       "      uns:\t'Consensus_tree', 'protein_adjacency_matrix', 'protein_match', 'protein_unmatch'\n",
       "      varm:\t'protein_hierarchy'\n",
       "    SC_PCs:\t36469 x 5716\n",
       "      obs:\t'strains'\n",
       "      var:\t'PCs_match'\n",
       "      uns:\t'Consensus_tree_PCs', 'PCs', 'PCs_to_genes', 'PCs_unmatch', 'Purity_info', 'Purity_info_unique', 'protein_match'\n",
       "      varm:\t'protein_hierarchy_PCs'"
      ]
     },
     "execution_count": 6,
     "metadata": {},
     "output_type": "execute_result"
    }
   ],
   "source": [
    "path_nSBM = '../data/data/mudata_nSBM_hierarchy_2_final_4_species.h5mu'\n",
    "data_nSBM = md.read_h5mu(path_nSBM)\n",
    "data_nSBM"
   ]
  },
  {
   "cell_type": "markdown",
   "metadata": {},
   "source": [
    "Taking the lev6 (most aggregated and connected) protein clusters and translate genes of each strain into cluster \\\n",
    "Note, in adata its obs x var; now we transpose for gglasso"
   ]
  },
  {
   "cell_type": "code",
   "execution_count": 7,
   "metadata": {},
   "outputs": [
    {
     "data": {
      "text/html": [
       "<div>\n",
       "<style scoped>\n",
       "    .dataframe tbody tr th:only-of-type {\n",
       "        vertical-align: middle;\n",
       "    }\n",
       "\n",
       "    .dataframe tbody tr th {\n",
       "        vertical-align: top;\n",
       "    }\n",
       "\n",
       "    .dataframe thead th {\n",
       "        text-align: right;\n",
       "    }\n",
       "</style>\n",
       "<table border=\"1\" class=\"dataframe\">\n",
       "  <thead>\n",
       "    <tr style=\"text-align: right;\">\n",
       "      <th></th>\n",
       "      <th>lev0</th>\n",
       "      <th>lev1</th>\n",
       "      <th>lev2</th>\n",
       "      <th>lev3</th>\n",
       "      <th>lev4</th>\n",
       "      <th>lev5</th>\n",
       "      <th>lev6</th>\n",
       "      <th>lev_root</th>\n",
       "    </tr>\n",
       "  </thead>\n",
       "  <tbody>\n",
       "    <tr>\n",
       "      <th>NP_052605.1</th>\n",
       "      <td>lev00totlen16795</td>\n",
       "      <td>forDFlev16795</td>\n",
       "      <td>forDFlev26795</td>\n",
       "      <td>forDFlev36795</td>\n",
       "      <td>forDFlev46795</td>\n",
       "      <td>forDFlev56795</td>\n",
       "      <td>forDFlev66795</td>\n",
       "      <td>root</td>\n",
       "    </tr>\n",
       "    <tr>\n",
       "      <th>NP_052606.1</th>\n",
       "      <td>lev00totlen17549</td>\n",
       "      <td>forDFlev17549</td>\n",
       "      <td>forDFlev27549</td>\n",
       "      <td>forDFlev37549</td>\n",
       "      <td>forDFlev47549</td>\n",
       "      <td>forDFlev57549</td>\n",
       "      <td>forDFlev67549</td>\n",
       "      <td>root</td>\n",
       "    </tr>\n",
       "    <tr>\n",
       "      <th>NP_052608.1</th>\n",
       "      <td>lev00totlen15594</td>\n",
       "      <td>forDFlev15594</td>\n",
       "      <td>forDFlev25594</td>\n",
       "      <td>forDFlev35594</td>\n",
       "      <td>forDFlev45594</td>\n",
       "      <td>forDFlev55594</td>\n",
       "      <td>forDFlev65594</td>\n",
       "      <td>root</td>\n",
       "    </tr>\n",
       "    <tr>\n",
       "      <th>NP_052609.1</th>\n",
       "      <td>lev00totlen12063</td>\n",
       "      <td>forDFlev12063</td>\n",
       "      <td>forDFlev22063</td>\n",
       "      <td>forDFlev32063</td>\n",
       "      <td>forDFlev42063</td>\n",
       "      <td>forDFlev52063</td>\n",
       "      <td>forDFlev62063</td>\n",
       "      <td>root</td>\n",
       "    </tr>\n",
       "    <tr>\n",
       "      <th>NP_052610.1</th>\n",
       "      <td>lev00totlen1576</td>\n",
       "      <td>forDFlev1576</td>\n",
       "      <td>forDFlev2576</td>\n",
       "      <td>forDFlev3576</td>\n",
       "      <td>forDFlev4576</td>\n",
       "      <td>forDFlev5576</td>\n",
       "      <td>forDFlev6576</td>\n",
       "      <td>root</td>\n",
       "    </tr>\n",
       "    <tr>\n",
       "      <th>...</th>\n",
       "      <td>...</td>\n",
       "      <td>...</td>\n",
       "      <td>...</td>\n",
       "      <td>...</td>\n",
       "      <td>...</td>\n",
       "      <td>...</td>\n",
       "      <td>...</td>\n",
       "      <td>...</td>\n",
       "    </tr>\n",
       "    <tr>\n",
       "      <th>WP_004152553.1</th>\n",
       "      <td>lev00totlen14198</td>\n",
       "      <td>forDFlev14198</td>\n",
       "      <td>forDFlev24198</td>\n",
       "      <td>forDFlev34198</td>\n",
       "      <td>forDFlev44198</td>\n",
       "      <td>forDFlev54198</td>\n",
       "      <td>forDFlev64198</td>\n",
       "      <td>root</td>\n",
       "    </tr>\n",
       "    <tr>\n",
       "      <th>WP_004178188.1</th>\n",
       "      <td>lev00totlen11303</td>\n",
       "      <td>forDFlev11303</td>\n",
       "      <td>forDFlev21303</td>\n",
       "      <td>forDFlev31303</td>\n",
       "      <td>forDFlev41303</td>\n",
       "      <td>forDFlev51303</td>\n",
       "      <td>forDFlev61303</td>\n",
       "      <td>root</td>\n",
       "    </tr>\n",
       "    <tr>\n",
       "      <th>WP_228131004.1</th>\n",
       "      <td>lev00totlen11253</td>\n",
       "      <td>forDFlev11253</td>\n",
       "      <td>forDFlev21253</td>\n",
       "      <td>forDFlev31253</td>\n",
       "      <td>forDFlev41253</td>\n",
       "      <td>forDFlev51253</td>\n",
       "      <td>forDFlev61253</td>\n",
       "      <td>root</td>\n",
       "    </tr>\n",
       "    <tr>\n",
       "      <th>WP_228131000.1</th>\n",
       "      <td>lev020totlen21057</td>\n",
       "      <td>forDFlev11057</td>\n",
       "      <td>forDFlev21057</td>\n",
       "      <td>forDFlev31057</td>\n",
       "      <td>forDFlev41057</td>\n",
       "      <td>forDFlev51057</td>\n",
       "      <td>forDFlev61057</td>\n",
       "      <td>root</td>\n",
       "    </tr>\n",
       "    <tr>\n",
       "      <th>WP_032417945.1</th>\n",
       "      <td>lev00totlen11212</td>\n",
       "      <td>forDFlev11212</td>\n",
       "      <td>forDFlev21212</td>\n",
       "      <td>forDFlev31212</td>\n",
       "      <td>forDFlev41212</td>\n",
       "      <td>forDFlev51212</td>\n",
       "      <td>forDFlev61212</td>\n",
       "      <td>root</td>\n",
       "    </tr>\n",
       "  </tbody>\n",
       "</table>\n",
       "<p>13687 rows × 8 columns</p>\n",
       "</div>"
      ],
      "text/plain": [
       "                             lev0           lev1           lev2  \\\n",
       "NP_052605.1      lev00totlen16795  forDFlev16795  forDFlev26795   \n",
       "NP_052606.1      lev00totlen17549  forDFlev17549  forDFlev27549   \n",
       "NP_052608.1      lev00totlen15594  forDFlev15594  forDFlev25594   \n",
       "NP_052609.1      lev00totlen12063  forDFlev12063  forDFlev22063   \n",
       "NP_052610.1       lev00totlen1576   forDFlev1576   forDFlev2576   \n",
       "...                           ...            ...            ...   \n",
       "WP_004152553.1   lev00totlen14198  forDFlev14198  forDFlev24198   \n",
       "WP_004178188.1   lev00totlen11303  forDFlev11303  forDFlev21303   \n",
       "WP_228131004.1   lev00totlen11253  forDFlev11253  forDFlev21253   \n",
       "WP_228131000.1  lev020totlen21057  forDFlev11057  forDFlev21057   \n",
       "WP_032417945.1   lev00totlen11212  forDFlev11212  forDFlev21212   \n",
       "\n",
       "                         lev3           lev4           lev5           lev6  \\\n",
       "NP_052605.1     forDFlev36795  forDFlev46795  forDFlev56795  forDFlev66795   \n",
       "NP_052606.1     forDFlev37549  forDFlev47549  forDFlev57549  forDFlev67549   \n",
       "NP_052608.1     forDFlev35594  forDFlev45594  forDFlev55594  forDFlev65594   \n",
       "NP_052609.1     forDFlev32063  forDFlev42063  forDFlev52063  forDFlev62063   \n",
       "NP_052610.1      forDFlev3576   forDFlev4576   forDFlev5576   forDFlev6576   \n",
       "...                       ...            ...            ...            ...   \n",
       "WP_004152553.1  forDFlev34198  forDFlev44198  forDFlev54198  forDFlev64198   \n",
       "WP_004178188.1  forDFlev31303  forDFlev41303  forDFlev51303  forDFlev61303   \n",
       "WP_228131004.1  forDFlev31253  forDFlev41253  forDFlev51253  forDFlev61253   \n",
       "WP_228131000.1  forDFlev31057  forDFlev41057  forDFlev51057  forDFlev61057   \n",
       "WP_032417945.1  forDFlev31212  forDFlev41212  forDFlev51212  forDFlev61212   \n",
       "\n",
       "               lev_root  \n",
       "NP_052605.1        root  \n",
       "NP_052606.1        root  \n",
       "NP_052608.1        root  \n",
       "NP_052609.1        root  \n",
       "NP_052610.1        root  \n",
       "...                 ...  \n",
       "WP_004152553.1     root  \n",
       "WP_004178188.1     root  \n",
       "WP_228131004.1     root  \n",
       "WP_228131000.1     root  \n",
       "WP_032417945.1     root  \n",
       "\n",
       "[13687 rows x 8 columns]"
      ]
     },
     "execution_count": 7,
     "metadata": {},
     "output_type": "execute_result"
    }
   ],
   "source": [
    "data_nSBM[\"SC_proteins\"].varm[\"protein_hierarchy\"]"
   ]
  },
  {
   "cell_type": "code",
   "execution_count": 8,
   "metadata": {},
   "outputs": [
    {
     "data": {
      "text/plain": [
       "{'forDFlev6183',\n",
       " 'forDFlev62429',\n",
       " 'forDFlev63405',\n",
       " 'forDFlev6348',\n",
       " 'forDFlev6543',\n",
       " 'forDFlev6943'}"
      ]
     },
     "execution_count": 8,
     "metadata": {},
     "output_type": "execute_result"
    }
   ],
   "source": [
    "intersection_genes = set(data_nSBM[\"SC_proteins\"].varm[\"protein_hierarchy\"].loc[ec_gc5.var[\"protein\"]][\"lev6\"].values).intersection(\n",
    "    set(data_nSBM[\"SC_proteins\"].varm[\"protein_hierarchy\"].loc[efm_gc5.var[\"protein\"]][\"lev6\"].values),\n",
    "    set(data_nSBM[\"SC_proteins\"].varm[\"protein_hierarchy\"].loc[psa_gc5.var[\"protein\"]][\"lev6\"].values),\n",
    "    set(data_nSBM[\"SC_proteins\"].varm[\"protein_hierarchy\"].loc[kp_gc5.var[\"protein\"]][\"lev6\"].values))\n",
    "intersection_genes"
   ]
  },
  {
   "cell_type": "code",
   "execution_count": 27,
   "metadata": {},
   "outputs": [
    {
     "name": "stdout",
     "output_type": "stream",
     "text": [
      "Strain: ec\n",
      "Strain: efm\n",
      "Strain: psa\n",
      "Strain: kp\n",
      "4 4\n",
      "(6, 6)\n",
      "(6, 150)\n"
     ]
    },
    {
     "name": "stderr",
     "output_type": "stream",
     "text": [
      "/home/jan/anaconda3/envs/bacdrop/lib/python3.10/site-packages/statsmodels/stats/correlation_tools.py:90: IterationLimitWarning: \n",
      "Maximum iteration reached.\n",
      "\n",
      "  warnings.warn(iteration_limit_doc, IterationLimitWarning)\n",
      "/home/jan/anaconda3/envs/bacdrop/lib/python3.10/site-packages/statsmodels/stats/correlation_tools.py:90: IterationLimitWarning: \n",
      "Maximum iteration reached.\n",
      "\n",
      "  warnings.warn(iteration_limit_doc, IterationLimitWarning)\n"
     ]
    }
   ],
   "source": [
    "strains_dict = {\"ec\": ec_gc5, \"efm\": efm_gc5, \"psa\": psa_gc5, \"kp\": kp_gc5}\n",
    "S = dict()\n",
    "all_obs = dict()\n",
    "N = 150\n",
    "\n",
    "idx = 0\n",
    "for name, adata in strains_dict.items():\n",
    "\n",
    "    print(f\"Strain: {name}\")\n",
    "    obs = pd.DataFrame(index=data_nSBM[\"SC_proteins\"].varm[\"protein_hierarchy\"].loc[adata.var[\"protein\"]][\"lev6\"].values,\n",
    "                      data=adata.layers[\"sqrt_counts\"].T.A)\n",
    "    #downsample to N cells\n",
    "    obs_sample = obs.sample(n=N, axis=1)\n",
    "    #only take genes present in all strains\n",
    "    obs_sample = obs_sample.loc[obs_sample.index.isin(intersection_genes)]\n",
    "    #aggregate ProtClusters\n",
    "    obs_sample = obs_sample.groupby(obs_sample.index).sum()\n",
    "    #calc latent correlations with latentcor\n",
    "    tps = [\"tru\"] * obs_sample.shape[0]\n",
    "    latent = latentcor(obs_sample.T, tps=tps, method='approx', use_nearPD=True, nu=0.001, showplot=False)\n",
    "    \n",
    "    all_obs[idx] = pd.DataFrame(index=obs_sample.index,\n",
    "                                columns=range(N),\n",
    "                                data=obs_sample.values)\n",
    "    S[idx] = latent[\"R\"].to_numpy()\n",
    "    idx += 1 \n",
    "print(len(S), len(all_obs))\n",
    "print(S[0].shape)\n",
    "print(all_obs[0].shape)"
   ]
  },
  {
   "cell_type": "code",
   "execution_count": 28,
   "metadata": {},
   "outputs": [
    {
     "data": {
      "text/html": [
       "<div>\n",
       "<style scoped>\n",
       "    .dataframe tbody tr th:only-of-type {\n",
       "        vertical-align: middle;\n",
       "    }\n",
       "\n",
       "    .dataframe tbody tr th {\n",
       "        vertical-align: top;\n",
       "    }\n",
       "\n",
       "    .dataframe thead th {\n",
       "        text-align: right;\n",
       "    }\n",
       "</style>\n",
       "<table border=\"1\" class=\"dataframe\">\n",
       "  <thead>\n",
       "    <tr style=\"text-align: right;\">\n",
       "      <th></th>\n",
       "      <th>0</th>\n",
       "      <th>1</th>\n",
       "      <th>2</th>\n",
       "      <th>3</th>\n",
       "      <th>4</th>\n",
       "      <th>5</th>\n",
       "      <th>6</th>\n",
       "      <th>7</th>\n",
       "      <th>8</th>\n",
       "      <th>9</th>\n",
       "      <th>...</th>\n",
       "      <th>140</th>\n",
       "      <th>141</th>\n",
       "      <th>142</th>\n",
       "      <th>143</th>\n",
       "      <th>144</th>\n",
       "      <th>145</th>\n",
       "      <th>146</th>\n",
       "      <th>147</th>\n",
       "      <th>148</th>\n",
       "      <th>149</th>\n",
       "    </tr>\n",
       "  </thead>\n",
       "  <tbody>\n",
       "    <tr>\n",
       "      <th>forDFlev6183</th>\n",
       "      <td>0.0</td>\n",
       "      <td>1.0</td>\n",
       "      <td>1.414214</td>\n",
       "      <td>0.0</td>\n",
       "      <td>2.000000</td>\n",
       "      <td>1.732051</td>\n",
       "      <td>0.0</td>\n",
       "      <td>4.828427</td>\n",
       "      <td>0.000000</td>\n",
       "      <td>1.414214</td>\n",
       "      <td>...</td>\n",
       "      <td>1.414214</td>\n",
       "      <td>1.0</td>\n",
       "      <td>0.0</td>\n",
       "      <td>1.0</td>\n",
       "      <td>2.0</td>\n",
       "      <td>1.000000</td>\n",
       "      <td>1.732051</td>\n",
       "      <td>0.0</td>\n",
       "      <td>0.0</td>\n",
       "      <td>0.0</td>\n",
       "    </tr>\n",
       "    <tr>\n",
       "      <th>forDFlev62429</th>\n",
       "      <td>1.0</td>\n",
       "      <td>0.0</td>\n",
       "      <td>1.000000</td>\n",
       "      <td>0.0</td>\n",
       "      <td>0.000000</td>\n",
       "      <td>0.000000</td>\n",
       "      <td>0.0</td>\n",
       "      <td>2.236068</td>\n",
       "      <td>1.732051</td>\n",
       "      <td>0.000000</td>\n",
       "      <td>...</td>\n",
       "      <td>0.000000</td>\n",
       "      <td>0.0</td>\n",
       "      <td>0.0</td>\n",
       "      <td>1.0</td>\n",
       "      <td>0.0</td>\n",
       "      <td>1.414214</td>\n",
       "      <td>1.000000</td>\n",
       "      <td>1.0</td>\n",
       "      <td>0.0</td>\n",
       "      <td>1.0</td>\n",
       "    </tr>\n",
       "    <tr>\n",
       "      <th>forDFlev63405</th>\n",
       "      <td>0.0</td>\n",
       "      <td>0.0</td>\n",
       "      <td>0.000000</td>\n",
       "      <td>0.0</td>\n",
       "      <td>0.000000</td>\n",
       "      <td>0.000000</td>\n",
       "      <td>0.0</td>\n",
       "      <td>0.000000</td>\n",
       "      <td>0.000000</td>\n",
       "      <td>0.000000</td>\n",
       "      <td>...</td>\n",
       "      <td>0.000000</td>\n",
       "      <td>0.0</td>\n",
       "      <td>0.0</td>\n",
       "      <td>1.0</td>\n",
       "      <td>0.0</td>\n",
       "      <td>0.000000</td>\n",
       "      <td>1.000000</td>\n",
       "      <td>0.0</td>\n",
       "      <td>0.0</td>\n",
       "      <td>0.0</td>\n",
       "    </tr>\n",
       "    <tr>\n",
       "      <th>forDFlev6348</th>\n",
       "      <td>0.0</td>\n",
       "      <td>0.0</td>\n",
       "      <td>0.000000</td>\n",
       "      <td>0.0</td>\n",
       "      <td>0.000000</td>\n",
       "      <td>0.000000</td>\n",
       "      <td>0.0</td>\n",
       "      <td>1.414214</td>\n",
       "      <td>0.000000</td>\n",
       "      <td>0.000000</td>\n",
       "      <td>...</td>\n",
       "      <td>1.414214</td>\n",
       "      <td>0.0</td>\n",
       "      <td>1.0</td>\n",
       "      <td>0.0</td>\n",
       "      <td>0.0</td>\n",
       "      <td>0.000000</td>\n",
       "      <td>0.000000</td>\n",
       "      <td>0.0</td>\n",
       "      <td>1.0</td>\n",
       "      <td>0.0</td>\n",
       "    </tr>\n",
       "    <tr>\n",
       "      <th>forDFlev6543</th>\n",
       "      <td>0.0</td>\n",
       "      <td>0.0</td>\n",
       "      <td>1.000000</td>\n",
       "      <td>0.0</td>\n",
       "      <td>1.414214</td>\n",
       "      <td>1.000000</td>\n",
       "      <td>1.0</td>\n",
       "      <td>0.000000</td>\n",
       "      <td>0.000000</td>\n",
       "      <td>0.000000</td>\n",
       "      <td>...</td>\n",
       "      <td>1.414214</td>\n",
       "      <td>0.0</td>\n",
       "      <td>0.0</td>\n",
       "      <td>0.0</td>\n",
       "      <td>0.0</td>\n",
       "      <td>0.000000</td>\n",
       "      <td>0.000000</td>\n",
       "      <td>0.0</td>\n",
       "      <td>0.0</td>\n",
       "      <td>0.0</td>\n",
       "    </tr>\n",
       "    <tr>\n",
       "      <th>forDFlev6943</th>\n",
       "      <td>1.0</td>\n",
       "      <td>0.0</td>\n",
       "      <td>1.414214</td>\n",
       "      <td>0.0</td>\n",
       "      <td>0.000000</td>\n",
       "      <td>1.414214</td>\n",
       "      <td>0.0</td>\n",
       "      <td>1.000000</td>\n",
       "      <td>0.000000</td>\n",
       "      <td>0.000000</td>\n",
       "      <td>...</td>\n",
       "      <td>0.000000</td>\n",
       "      <td>0.0</td>\n",
       "      <td>1.0</td>\n",
       "      <td>0.0</td>\n",
       "      <td>0.0</td>\n",
       "      <td>0.000000</td>\n",
       "      <td>1.000000</td>\n",
       "      <td>0.0</td>\n",
       "      <td>1.0</td>\n",
       "      <td>0.0</td>\n",
       "    </tr>\n",
       "  </tbody>\n",
       "</table>\n",
       "<p>6 rows × 150 columns</p>\n",
       "</div>"
      ],
      "text/plain": [
       "               0    1         2    3         4         5    6         7    \\\n",
       "forDFlev6183   0.0  1.0  1.414214  0.0  2.000000  1.732051  0.0  4.828427   \n",
       "forDFlev62429  1.0  0.0  1.000000  0.0  0.000000  0.000000  0.0  2.236068   \n",
       "forDFlev63405  0.0  0.0  0.000000  0.0  0.000000  0.000000  0.0  0.000000   \n",
       "forDFlev6348   0.0  0.0  0.000000  0.0  0.000000  0.000000  0.0  1.414214   \n",
       "forDFlev6543   0.0  0.0  1.000000  0.0  1.414214  1.000000  1.0  0.000000   \n",
       "forDFlev6943   1.0  0.0  1.414214  0.0  0.000000  1.414214  0.0  1.000000   \n",
       "\n",
       "                    8         9    ...       140  141  142  143  144  \\\n",
       "forDFlev6183   0.000000  1.414214  ...  1.414214  1.0  0.0  1.0  2.0   \n",
       "forDFlev62429  1.732051  0.000000  ...  0.000000  0.0  0.0  1.0  0.0   \n",
       "forDFlev63405  0.000000  0.000000  ...  0.000000  0.0  0.0  1.0  0.0   \n",
       "forDFlev6348   0.000000  0.000000  ...  1.414214  0.0  1.0  0.0  0.0   \n",
       "forDFlev6543   0.000000  0.000000  ...  1.414214  0.0  0.0  0.0  0.0   \n",
       "forDFlev6943   0.000000  0.000000  ...  0.000000  0.0  1.0  0.0  0.0   \n",
       "\n",
       "                    145       146  147  148  149  \n",
       "forDFlev6183   1.000000  1.732051  0.0  0.0  0.0  \n",
       "forDFlev62429  1.414214  1.000000  1.0  0.0  1.0  \n",
       "forDFlev63405  0.000000  1.000000  0.0  0.0  0.0  \n",
       "forDFlev6348   0.000000  0.000000  0.0  1.0  0.0  \n",
       "forDFlev6543   0.000000  0.000000  0.0  0.0  0.0  \n",
       "forDFlev6943   0.000000  1.000000  0.0  1.0  0.0  \n",
       "\n",
       "[6 rows x 150 columns]"
      ]
     },
     "execution_count": 28,
     "metadata": {},
     "output_type": "execute_result"
    }
   ],
   "source": [
    "all_obs[0]"
   ]
  },
  {
   "cell_type": "code",
   "execution_count": 29,
   "metadata": {},
   "outputs": [
    {
     "data": {
      "text/plain": [
       "array([[ 1.        ,  0.40822329, -0.01751956,  0.18200965,  0.00822491,\n",
       "         0.09623039],\n",
       "       [ 0.40822329,  1.        ,  0.03534707,  0.11969221, -0.06642244,\n",
       "         0.3456417 ],\n",
       "       [-0.01751956,  0.03534707,  1.        ,  0.11874971, -0.04726484,\n",
       "         0.18393601],\n",
       "       [ 0.18200965,  0.11969221,  0.11874971,  1.        ,  0.18261319,\n",
       "         0.3810573 ],\n",
       "       [ 0.00822491, -0.06642244, -0.04726484,  0.18261319,  1.        ,\n",
       "         0.07116411],\n",
       "       [ 0.09623039,  0.3456417 ,  0.18393601,  0.3810573 ,  0.07116411,\n",
       "         1.        ]])"
      ]
     },
     "execution_count": 29,
     "metadata": {},
     "output_type": "execute_result"
    }
   ],
   "source": [
    "S[0]"
   ]
  },
  {
   "cell_type": "markdown",
   "metadata": {},
   "source": [
    "### GGLASSO"
   ]
  },
  {
   "cell_type": "code",
   "execution_count": 14,
   "metadata": {},
   "outputs": [],
   "source": [
    "from gglasso.helper.ext_admm_helper import create_group_array, construct_indexer, check_G"
   ]
  },
  {
   "cell_type": "code",
   "execution_count": 30,
   "metadata": {},
   "outputs": [],
   "source": [
    "ix_exist, ix_location = construct_indexer(list(all_obs.values()))"
   ]
  },
  {
   "cell_type": "code",
   "execution_count": 31,
   "metadata": {},
   "outputs": [
    {
     "name": "stdout",
     "output_type": "stream",
     "text": [
      "Creation of bookeeping array...\n",
      "10% finished\n",
      "20% finished\n",
      "30% finished\n",
      "40% finished\n",
      "50% finished\n",
      "60% finished\n",
      "70% finished\n",
      "80% finished\n",
      "90% finished\n"
     ]
    }
   ],
   "source": [
    "G = create_group_array(ix_exist, ix_location, min_inst=4)"
   ]
  },
  {
   "cell_type": "code",
   "execution_count": 32,
   "metadata": {},
   "outputs": [],
   "source": [
    "check_G(G, 6)"
   ]
  },
  {
   "cell_type": "code",
   "execution_count": 33,
   "metadata": {},
   "outputs": [],
   "source": [
    "from gglasso.problem import glasso_problem"
   ]
  },
  {
   "cell_type": "code",
   "execution_count": 34,
   "metadata": {},
   "outputs": [],
   "source": [
    "for k in range(4):\n",
    "    assert S[k].shape[0] == S[k].shape[1], f\"Dimensions are not correct, 1st and 2nd dimension have to match but do not match for instance {k}.\"\n",
    "    assert np.max(np.abs(S[k] - S[k].T)) <= 0.1, f\"Covariance data for instance {k} is not symmetric.\""
   ]
  },
  {
   "cell_type": "code",
   "execution_count": 35,
   "metadata": {},
   "outputs": [
    {
     "name": "stdout",
     "output_type": "stream",
     "text": [
      " \n",
      "GROUP GRAPHICAL LASSO PROBLEM WITH LATENT VARIABLES\n",
      "Regularization parameters:\n",
      "{'lambda1': None, 'lambda2': None, 'mu1': None}\n"
     ]
    },
    {
     "name": "stderr",
     "output_type": "stream",
     "text": [
      "/home/jan/anaconda3/envs/bacdrop/lib/python3.10/site-packages/gglasso/problem.py:257: UserWarning: NOTE: Input data S is rescaled to correlations, this has impact on the scale of the regularization parameters!\n",
      "  warnings.warn(\"NOTE: Input data S is rescaled to correlations, this has impact on the scale of the regularization parameters!\")\n",
      "/home/jan/anaconda3/envs/bacdrop/lib/python3.10/site-packages/gglasso/problem.py:258: UserWarning: The output/solution is rescaled to covariances. All model selection output, in particular the optimal regularization parameters in self.reg_params are corresponding to the correlations.\n",
      "  warnings.warn(\"The output/solution is rescaled to covariances. All model selection output, in particular the optimal regularization parameters in self.reg_params are corresponding to the correlations.\")\n"
     ]
    }
   ],
   "source": [
    "P = glasso_problem(S=S, N=N, reg=\"GGL\", reg_params=None, latent=True, G=G, do_scaling=True)\n",
    "print(P)"
   ]
  },
  {
   "cell_type": "code",
   "execution_count": 36,
   "metadata": {},
   "outputs": [
    {
     "name": "stdout",
     "output_type": "stream",
     "text": [
      "------------Range search for instance 0------------\n",
      "ADMM terminated after 22 iterations with status: optimal.\n",
      "ADMM terminated after 22 iterations with status: optimal.\n",
      "ADMM terminated after 59 iterations with status: optimal.\n",
      "ADMM terminated after 22 iterations with status: optimal.\n",
      "ADMM terminated after 22 iterations with status: optimal.\n",
      "ADMM terminated after 59 iterations with status: optimal.\n",
      "ADMM terminated after 31 iterations with status: optimal.\n",
      "ADMM terminated after 29 iterations with status: optimal.\n",
      "ADMM terminated after 59 iterations with status: optimal.\n",
      "ADMM terminated after 30 iterations with status: optimal.\n",
      "ADMM terminated after 31 iterations with status: optimal.\n",
      "ADMM terminated after 66 iterations with status: optimal.\n",
      "ADMM terminated after 29 iterations with status: optimal.\n",
      "ADMM terminated after 28 iterations with status: optimal.\n",
      "ADMM terminated after 69 iterations with status: optimal.\n",
      "ADMM terminated after 26 iterations with status: optimal.\n",
      "ADMM terminated after 24 iterations with status: optimal.\n",
      "ADMM terminated after 24 iterations with status: optimal.\n",
      "ADMM terminated after 25 iterations with status: optimal.\n",
      "ADMM terminated after 25 iterations with status: optimal.\n",
      "ADMM terminated after 25 iterations with status: optimal.\n",
      "------------Range search for instance 1------------\n",
      "ADMM terminated after 22 iterations with status: optimal.\n",
      "ADMM terminated after 22 iterations with status: optimal.\n",
      "ADMM terminated after 196 iterations with status: optimal.\n",
      "ADMM terminated after 29 iterations with status: optimal.\n",
      "ADMM terminated after 25 iterations with status: optimal.\n",
      "ADMM terminated after 195 iterations with status: optimal.\n",
      "ADMM terminated after 35 iterations with status: optimal.\n",
      "ADMM terminated after 46 iterations with status: optimal.\n",
      "ADMM terminated after 196 iterations with status: optimal.\n",
      "ADMM terminated after 49 iterations with status: optimal.\n",
      "ADMM terminated after 51 iterations with status: optimal.\n",
      "ADMM terminated after 1000 iterations with status: primal optimal.\n",
      "ADMM terminated after 78 iterations with status: optimal.\n",
      "ADMM terminated after 52 iterations with status: optimal.\n",
      "ADMM terminated after 51 iterations with status: optimal.\n",
      "ADMM terminated after 112 iterations with status: optimal.\n",
      "ADMM terminated after 77 iterations with status: optimal.\n",
      "ADMM terminated after 54 iterations with status: optimal.\n",
      "ADMM terminated after 19 iterations with status: optimal.\n",
      "ADMM terminated after 9 iterations with status: optimal.\n",
      "ADMM terminated after 10 iterations with status: optimal.\n",
      "------------Range search for instance 2------------\n",
      "ADMM terminated after 22 iterations with status: optimal.\n",
      "ADMM terminated after 30 iterations with status: optimal.\n",
      "ADMM terminated after 294 iterations with status: optimal.\n",
      "ADMM terminated after 40 iterations with status: optimal.\n",
      "ADMM terminated after 32 iterations with status: optimal.\n",
      "ADMM terminated after 294 iterations with status: optimal.\n",
      "ADMM terminated after 62 iterations with status: optimal.\n",
      "ADMM terminated after 51 iterations with status: optimal.\n",
      "ADMM terminated after 295 iterations with status: optimal.\n",
      "ADMM terminated after 70 iterations with status: optimal.\n",
      "ADMM terminated after 90 iterations with status: optimal.\n",
      "ADMM terminated after 944 iterations with status: optimal.\n",
      "ADMM terminated after 168 iterations with status: optimal.\n",
      "ADMM terminated after 91 iterations with status: optimal.\n",
      "ADMM terminated after 101 iterations with status: optimal.\n",
      "ADMM terminated after 94 iterations with status: optimal.\n",
      "ADMM terminated after 79 iterations with status: optimal.\n",
      "ADMM terminated after 81 iterations with status: optimal.\n",
      "ADMM terminated after 36 iterations with status: optimal.\n",
      "ADMM terminated after 10 iterations with status: optimal.\n",
      "ADMM terminated after 11 iterations with status: optimal.\n",
      "------------Range search for instance 3------------\n",
      "ADMM terminated after 22 iterations with status: optimal.\n",
      "ADMM terminated after 27 iterations with status: optimal.\n",
      "ADMM terminated after 246 iterations with status: optimal.\n",
      "ADMM terminated after 37 iterations with status: optimal.\n",
      "ADMM terminated after 27 iterations with status: optimal.\n",
      "ADMM terminated after 246 iterations with status: optimal.\n",
      "ADMM terminated after 48 iterations with status: optimal.\n",
      "ADMM terminated after 38 iterations with status: optimal.\n",
      "ADMM terminated after 248 iterations with status: optimal.\n",
      "ADMM terminated after 11 iterations with status: optimal.\n",
      "ADMM terminated after 10 iterations with status: optimal.\n",
      "ADMM terminated after 1000 iterations with status: primal optimal.\n",
      "ADMM terminated after 13 iterations with status: optimal.\n",
      "ADMM terminated after 11 iterations with status: optimal.\n",
      "ADMM terminated after 382 iterations with status: optimal.\n",
      "ADMM terminated after 172 iterations with status: optimal.\n",
      "ADMM terminated after 161 iterations with status: optimal.\n",
      "ADMM terminated after 175 iterations with status: optimal.\n",
      "ADMM terminated after 249 iterations with status: optimal.\n",
      "ADMM terminated after 65 iterations with status: optimal.\n",
      "ADMM terminated after 64 iterations with status: optimal.\n",
      "ADMM terminated after 23 iterations with status: optimal.\n",
      "ADMM terminated after 23 iterations with status: optimal.\n",
      "ADMM terminated after 23 iterations with status: optimal.\n",
      "ADMM terminated after 23 iterations with status: optimal.\n",
      "ADMM terminated after 24 iterations with status: optimal.\n",
      "ADMM terminated after 24 iterations with status: optimal.\n",
      "ADMM terminated after 45 iterations with status: optimal.\n",
      "ADMM terminated after 52 iterations with status: optimal.\n",
      "ADMM terminated after 25 iterations with status: optimal.\n",
      "ADMM terminated after 37 iterations with status: optimal.\n",
      "ADMM terminated after 102 iterations with status: optimal.\n",
      "ADMM terminated after 135 iterations with status: optimal.\n",
      "ADMM terminated after 56 iterations with status: optimal.\n",
      "ADMM terminated after 50 iterations with status: optimal.\n",
      "ADMM terminated after 183 iterations with status: optimal.\n",
      "ADMM terminated after 320 iterations with status: optimal.\n",
      "ADMM terminated after 64 iterations with status: optimal.\n",
      "ADMM terminated after 60 iterations with status: optimal.\n",
      "ADMM terminated after 288 iterations with status: optimal.\n",
      "ADMM terminated after 803 iterations with status: optimal.\n",
      "ADMM terminated after 1000 iterations with status: primal optimal.\n",
      "ADMM terminated after 1000 iterations with status: primal optimal.\n",
      "ADMM terminated after 1000 iterations with status: primal optimal.\n",
      "ADMM terminated after 1000 iterations with status: primal optimal.\n",
      "ADMM terminated after 1000 iterations with status: primal optimal.\n",
      "ADMM terminated after 1000 iterations with status: primal optimal.\n",
      "ADMM terminated after 1000 iterations with status: primal optimal.\n",
      "ADMM terminated after 1000 iterations with status: primal optimal.\n",
      "{'lambda1': 0.01, 'lambda2': 0.01, 'mu1': array([1. , 0.1, 1. , 0.1])}\n"
     ]
    }
   ],
   "source": [
    "l1 =    np.logspace(0,-2,7)\n",
    "mu1 =   np.logspace(1,-1,3)\n",
    "l2 =    np.logspace(0,-2,4)\n",
    "\n",
    "modelselect_params = {'lambda1_range' : l1, 'mu1_range': mu1, 'lambda2_range': l2}\n",
    "\n",
    "P.model_selection(modelselect_params = modelselect_params, method = 'eBIC', gamma = 0.1, tol = 1e-7, rtol = 1e-7)\n",
    "\n",
    "print(P.reg_params)"
   ]
  },
  {
   "cell_type": "code",
   "execution_count": 39,
   "metadata": {},
   "outputs": [],
   "source": [
    "from gglasso.helper.ext_admm_helper import consensus\n",
    "from gglasso.helper.utils import sparsity"
   ]
  },
  {
   "cell_type": "code",
   "execution_count": 43,
   "metadata": {},
   "outputs": [
    {
     "name": "stdout",
     "output_type": "stream",
     "text": [
      "Solution sparsity (ratio of nonzero entries): \n",
      "Instance 0:  0.9333333333333333\n",
      "Instance 1:  1.0\n",
      "Instance 2:  0.9333333333333333\n",
      "Instance 3:  0.9333333333333333\n"
     ]
    },
    {
     "data": {
      "text/plain": [
       "Text(0.5, 1.0, 'Nonzero entries per group')"
      ]
     },
     "execution_count": 43,
     "metadata": {},
     "output_type": "execute_result"
    },
    {
     "data": {
      "image/png": "[encoded data removed]",
      "text/plain": [
       "<Figure size 640x480 with 1 Axes>"
      ]
     },
     "metadata": {},
     "output_type": "display_data"
    }
   ],
   "source": [
    "print(\"Solution sparsity (ratio of nonzero entries): \")\n",
    "\n",
    "for k in np.arange(4):\n",
    "    print(f\"Instance {k}: \", sparsity(P.solution.precision_[k]))\n",
    "\n",
    "\n",
    "stats = P.modelselect_stats.copy()\n",
    "nnz,_,_ = consensus(P.solution.precision_, G)\n",
    "\n",
    "fig, ax = plt.subplots()\n",
    "sns.histplot(nnz, discrete = True, ax = ax)\n",
    "#ax.set_yscale('log')\n",
    "ax.set_title('Nonzero entries per group')"
   ]
  },
  {
   "cell_type": "code",
   "execution_count": 44,
   "metadata": {},
   "outputs": [
    {
     "data": {
      "text/plain": [
       "{0: array([[ 1.20206261, -0.46983127,  0.03435263, -0.17901098, -0.        ,\n",
       "          0.08763245],\n",
       "        [-0.46983127,  1.31520657,  0.00627849,  0.04314549,  0.0912575 ,\n",
       "         -0.40821175],\n",
       "        [ 0.03435263,  0.00627849,  1.03808027, -0.06906024,  0.0605217 ,\n",
       "         -0.16383474],\n",
       "        [-0.17901098,  0.04314549, -0.06906024,  1.21998066, -0.18394825,\n",
       "         -0.42263632],\n",
       "        [-0.        ,  0.0912575 ,  0.0605217 , -0.18394825,  1.04115292,\n",
       "         -0.03631633],\n",
       "        [ 0.08763245, -0.40821175, -0.16383474, -0.42263632, -0.03631633,\n",
       "          1.3126122 ]]),\n",
       " 1: array([[ 2.26419095, -0.07539933, -1.24268191, -1.03829868, -2.74401239,\n",
       "         -1.98679004],\n",
       "        [-0.07539933,  1.04522268,  0.24966203,  0.04992364,  0.0861492 ,\n",
       "          0.0101748 ],\n",
       "        [-1.24268191,  0.24966203,  2.51099527,  1.2110421 ,  2.9307815 ,\n",
       "          1.91897752],\n",
       "        [-1.03829868,  0.04992364,  1.2110421 ,  1.72009989,  1.89004113,\n",
       "          1.20315495],\n",
       "        [-2.74401239,  0.0861492 ,  2.9307815 ,  1.89004113,  6.29028008,\n",
       "          4.2914532 ],\n",
       "        [-1.98679004,  0.0101748 ,  1.91897752,  1.20315495,  4.2914532 ,\n",
       "          3.95407453]]),\n",
       " 2: array([[ 1.43586891, -0.14360331,  0.47200804, -1.1510768 , -1.1099442 ,\n",
       "          0.02973462],\n",
       "        [-0.14360331,  1.63620587, -0.34234803,  1.92236232,  0.33777198,\n",
       "          1.81776722],\n",
       "        [ 0.47200804, -0.34234803,  1.61764366, -1.83574351, -1.17015087,\n",
       "         -0.48926253],\n",
       "        [-1.1510768 ,  1.92236232, -1.83574351,  7.75066141,  2.69826687,\n",
       "          4.8523808 ],\n",
       "        [-1.1099442 ,  0.33777198, -1.17015087,  2.69826687,  3.12978565,\n",
       "         -0.        ],\n",
       "        [ 0.02973462,  1.81776722, -0.48926253,  4.8523808 , -0.        ,\n",
       "          5.54430841]]),\n",
       " 3: array([[ 4.53925661, -0.49064542,  3.21732724,  0.        , -3.57638857,\n",
       "          3.79656723],\n",
       "        [-0.49064542,  2.32142099,  2.07639047,  1.74852403,  2.73900346,\n",
       "          0.24011339],\n",
       "        [ 3.21732724,  2.07639047,  8.2167109 ,  3.28463834,  1.35517974,\n",
       "          4.81908856],\n",
       "        [ 0.        ,  1.74852403,  3.28463834,  3.77667268,  3.63357025,\n",
       "         -0.1009122 ],\n",
       "        [-3.57638857,  2.73900346,  1.35517974,  3.63357025,  7.98092425,\n",
       "         -3.19630629],\n",
       "        [ 3.79656723,  0.24011339,  4.81908856, -0.1009122 , -3.19630629,\n",
       "          6.09442306]])}"
      ]
     },
     "execution_count": 44,
     "metadata": {},
     "output_type": "execute_result"
    }
   ],
   "source": [
    "P.solution.precision_"
   ]
  },
  {
   "cell_type": "code",
   "execution_count": 46,
   "metadata": {},
   "outputs": [
    {
     "data": {
      "text/plain": [
       "<Axes: >"
      ]
     },
     "execution_count": 46,
     "metadata": {},
     "output_type": "execute_result"
    },
    {
     "data": {
      "image/png": "[encoded data removed]",
      "text/plain": [
       "<Figure size 640x480 with 2 Axes>"
      ]
     },
     "metadata": {},
     "output_type": "display_data"
    }
   ],
   "source": [
    "sns.heatmap(P.solution.precision_[0])"
   ]
  },
  {
   "cell_type": "code",
   "execution_count": 47,
   "metadata": {},
   "outputs": [
    {
     "data": {
      "text/plain": [
       "<Axes: >"
      ]
     },
     "execution_count": 47,
     "metadata": {},
     "output_type": "execute_result"
    },
    {
     "data": {
      "image/png": "[encoded data removed]",
      "text/plain": [
       "<Figure size 640x480 with 2 Axes>"
      ]
     },
     "metadata": {},
     "output_type": "display_data"
    }
   ],
   "source": [
    "sns.heatmap(P.solution.precision_[1])"
   ]
  },
  {
   "cell_type": "code",
   "execution_count": null,
   "metadata": {},
   "outputs": [],
   "source": []
  }
 ],
 "metadata": {
  "kernelspec": {
   "display_name": "bacdrop",
   "language": "python",
   "name": "python3"
  },
  "language_info": {
   "codemirror_mode": {
    "name": "ipython",
    "version": 3
   },
   "file_extension": ".py",
   "mimetype": "text/x-python",
   "name": "python",
   "nbconvert_exporter": "python",
   "pygments_lexer": "ipython3",
   "version": "3.10.13"
  }
 },
 "nbformat": 4,
 "nbformat_minor": 2
}
