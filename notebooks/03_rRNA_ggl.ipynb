{
 "cells": [
  {
   "cell_type": "code",
   "execution_count": 1,
   "metadata": {},
   "outputs": [],
   "source": [
    "import scanpy as sc\n",
    "import pandas as pd\n",
    "import numpy as np\n",
    "import seaborn as sns\n",
    "import mudata as md\n",
    "import networkx as nx\n",
    "import matplotlib.pyplot as plt\n",
    "\n",
    "import gc\n",
    "import sys\n",
    "sys.path.append('../')\n",
    "\n",
    "from utils.gglasso_pipeline import gg_lasso_network_analysis\n",
    "from utils.utils import calc_sparsity\n",
    "from sklearn.covariance import empirical_covariance\n",
    "from latentcor import latentcor\n",
    "\n",
    "import warnings\n",
    "warnings.filterwarnings('ignore', category=FutureWarning)"
   ]
  },
  {
   "cell_type": "markdown",
   "metadata": {},
   "source": [
    "### Load data and preprocess\n",
    "- Load all four species with their high abundance gene set and subsample to only rRNA genes\n",
    "- Filter out cells containing no information\n",
    "- Converting genes to protein clusters (PCs) as index\n",
    "- Assemble for each species pd.df such that all have same dimesions as input for gglasso"
   ]
  },
  {
   "cell_type": "code",
   "execution_count": 2,
   "metadata": {},
   "outputs": [
    {
     "name": "stderr",
     "output_type": "stream",
     "text": [
      "c:\\Users\\Jan\\.conda\\envs\\bacdrop\\lib\\site-packages\\mudata\\_core\\mudata.py:491: UserWarning: Cannot join columns with the same name because var_names are intersecting.\n",
      "  warnings.warn(\n"
     ]
    },
    {
     "name": "stdout",
     "output_type": "stream",
     "text": [
      "2251\n"
     ]
    },
    {
     "data": {
      "text/plain": [
       "AnnData object with n_obs × n_vars = 2466 × 47\n",
       "    obs: 'strains', 'n_genes_by_counts', 'total_counts', 'n_counts'\n",
       "    var: 'strains', 'matchin_protein', 'protein', 'n_cells', 'protein_name', 'rRNA', 'n_cells_by_counts', 'mean_counts', 'pct_dropout_by_counts', 'total_counts'\n",
       "    uns: 'genes_match', 'protein_match', 'unmatch_genes'\n",
       "    layers: 'log1p', 'norm_counts', 'raw_counts', 'sqrt_counts'"
      ]
     },
     "execution_count": 2,
     "metadata": {},
     "output_type": "execute_result"
    }
   ],
   "source": [
    "ec_mudata = md.read(\"../data/preprocessed/ec_mudata_preprocessed.h5mu\")\n",
    "ec_adata = ec_mudata[\"high_abundance_genes\"].copy()\n",
    "ec_adata = ec_adata[:, ec_adata.var[\"rRNA\"]].copy()\n",
    "sc.pp.filter_cells(ec_adata, min_counts=1)\n",
    "del(ec_mudata)\n",
    "print(gc.collect())\n",
    "ec_adata"
   ]
  },
  {
   "cell_type": "code",
   "execution_count": 3,
   "metadata": {},
   "outputs": [
    {
     "name": "stderr",
     "output_type": "stream",
     "text": [
      "c:\\Users\\Jan\\.conda\\envs\\bacdrop\\lib\\site-packages\\mudata\\_core\\mudata.py:491: UserWarning: Cannot join columns with the same name because var_names are intersecting.\n",
      "  warnings.warn(\n"
     ]
    },
    {
     "name": "stdout",
     "output_type": "stream",
     "text": [
      "2245\n"
     ]
    },
    {
     "data": {
      "text/plain": [
       "AnnData object with n_obs × n_vars = 4563 × 52\n",
       "    obs: 'strains', 'n_genes_by_counts', 'total_counts', 'n_counts'\n",
       "    var: 'strains', 'matchin_protein', 'protein', 'n_cells', 'protein_name', 'rRNA', 'n_cells_by_counts', 'mean_counts', 'pct_dropout_by_counts', 'total_counts'\n",
       "    uns: 'genes_match', 'protein_match', 'unmatch_genes'\n",
       "    layers: 'log1p', 'norm_counts', 'raw_counts', 'sqrt_counts'"
      ]
     },
     "execution_count": 3,
     "metadata": {},
     "output_type": "execute_result"
    }
   ],
   "source": [
    "efm_mudata = md.read(\"../data/preprocessed/efm_mudata_preprocessed.h5mu\")\n",
    "efm_adata = efm_mudata[\"high_abundance_genes\"].copy()\n",
    "efm_adata = efm_adata[:, efm_adata.var[\"rRNA\"]].copy()\n",
    "sc.pp.filter_cells(efm_adata, min_counts=1)\n",
    "del(efm_mudata)\n",
    "print(gc.collect())\n",
    "efm_adata"
   ]
  },
  {
   "cell_type": "code",
   "execution_count": 4,
   "metadata": {},
   "outputs": [
    {
     "name": "stderr",
     "output_type": "stream",
     "text": [
      "c:\\Users\\Jan\\.conda\\envs\\bacdrop\\lib\\site-packages\\mudata\\_core\\mudata.py:491: UserWarning: Cannot join columns with the same name because var_names are intersecting.\n",
      "  warnings.warn(\n"
     ]
    },
    {
     "name": "stdout",
     "output_type": "stream",
     "text": [
      "2179\n"
     ]
    },
    {
     "data": {
      "text/plain": [
       "AnnData object with n_obs × n_vars = 195 × 30\n",
       "    obs: 'strains', 'n_genes_by_counts', 'total_counts', 'n_counts'\n",
       "    var: 'strains', 'matchin_protein', 'protein', 'n_cells', 'protein_name', 'rRNA', 'n_cells_by_counts', 'mean_counts', 'pct_dropout_by_counts', 'total_counts'\n",
       "    uns: 'genes_match', 'protein_match', 'unmatch_genes'\n",
       "    layers: 'log1p', 'norm_counts', 'raw_counts', 'sqrt_counts'"
      ]
     },
     "execution_count": 4,
     "metadata": {},
     "output_type": "execute_result"
    }
   ],
   "source": [
    "psa_mudata = md.read(\"../data/preprocessed/psa_mudata_preprocessed.h5mu\")\n",
    "psa_adata = psa_mudata[\"high_abundance_genes\"].copy()\n",
    "psa_adata = psa_adata[:, psa_adata.var[\"rRNA\"]].copy()\n",
    "sc.pp.filter_cells(psa_adata, min_counts=1)\n",
    "del(psa_mudata)\n",
    "print(gc.collect())\n",
    "psa_adata"
   ]
  },
  {
   "cell_type": "code",
   "execution_count": 5,
   "metadata": {},
   "outputs": [
    {
     "name": "stderr",
     "output_type": "stream",
     "text": [
      "c:\\Users\\Jan\\.conda\\envs\\bacdrop\\lib\\site-packages\\mudata\\_core\\mudata.py:491: UserWarning: Cannot join columns with the same name because var_names are intersecting.\n",
      "  warnings.warn(\n"
     ]
    },
    {
     "name": "stdout",
     "output_type": "stream",
     "text": [
      "2245\n"
     ]
    },
    {
     "data": {
      "text/plain": [
       "AnnData object with n_obs × n_vars = 770 × 44\n",
       "    obs: 'strains', 'n_genes_by_counts', 'total_counts', 'n_counts'\n",
       "    var: 'strains', 'matchin_protein', 'protein', 'n_cells', 'protein_name', 'rRNA', 'n_cells_by_counts', 'mean_counts', 'pct_dropout_by_counts', 'total_counts'\n",
       "    uns: 'genes_match', 'protein_match', 'unmatch_genes'\n",
       "    layers: 'log1p', 'norm_counts', 'raw_counts', 'sqrt_counts'"
      ]
     },
     "execution_count": 5,
     "metadata": {},
     "output_type": "execute_result"
    }
   ],
   "source": [
    "kp_mudata = md.read(\"../data/preprocessed/kp_mudata_preprocessed.h5mu\")\n",
    "kp_adata = kp_mudata[\"high_abundance_genes\"].copy()\n",
    "kp_adata = kp_adata[:, kp_adata.var[\"rRNA\"]].copy()\n",
    "sc.pp.filter_cells(kp_adata, min_counts=1)\n",
    "del(kp_mudata)\n",
    "print(gc.collect())\n",
    "kp_adata"
   ]
  },
  {
   "cell_type": "code",
   "execution_count": 6,
   "metadata": {},
   "outputs": [
    {
     "data": {
      "text/html": [
       "<pre>MuData object with n_obs × n_vars = 36469 × 33412\n",
       "  3 modalities\n",
       "    SC_genes:\t36469 x 14009\n",
       "      obs:\t&#x27;strains&#x27;\n",
       "      var:\t&#x27;strains&#x27;, &#x27;matchin_protein&#x27;, &#x27;protein&#x27;\n",
       "      uns:\t&#x27;genes_match&#x27;, &#x27;protein_match&#x27;, &#x27;unmatch_genes&#x27;\n",
       "    SC_proteins:\t36469 x 13687\n",
       "      obs:\t&#x27;strains&#x27;\n",
       "      var:\t&#x27;genes_mapping&#x27;, &#x27;strains&#x27;\n",
       "      uns:\t&#x27;Consensus_tree&#x27;, &#x27;protein_adjacency_matrix&#x27;, &#x27;protein_match&#x27;, &#x27;protein_unmatch&#x27;\n",
       "      varm:\t&#x27;protein_hierarchy&#x27;\n",
       "    SC_PCs:\t36469 x 5716\n",
       "      obs:\t&#x27;strains&#x27;\n",
       "      var:\t&#x27;PCs_match&#x27;\n",
       "      uns:\t&#x27;Consensus_tree_PCs&#x27;, &#x27;PCs&#x27;, &#x27;PCs_to_genes&#x27;, &#x27;PCs_unmatch&#x27;, &#x27;Purity_info&#x27;, &#x27;Purity_info_unique&#x27;, &#x27;protein_match&#x27;\n",
       "      varm:\t&#x27;protein_hierarchy_PCs&#x27;</pre>"
      ],
      "text/plain": [
       "MuData object with n_obs × n_vars = 36469 × 33412\n",
       "  3 modalities\n",
       "    SC_genes:\t36469 x 14009\n",
       "      obs:\t'strains'\n",
       "      var:\t'strains', 'matchin_protein', 'protein'\n",
       "      uns:\t'genes_match', 'protein_match', 'unmatch_genes'\n",
       "    SC_proteins:\t36469 x 13687\n",
       "      obs:\t'strains'\n",
       "      var:\t'genes_mapping', 'strains'\n",
       "      uns:\t'Consensus_tree', 'protein_adjacency_matrix', 'protein_match', 'protein_unmatch'\n",
       "      varm:\t'protein_hierarchy'\n",
       "    SC_PCs:\t36469 x 5716\n",
       "      obs:\t'strains'\n",
       "      var:\t'PCs_match'\n",
       "      uns:\t'Consensus_tree_PCs', 'PCs', 'PCs_to_genes', 'PCs_unmatch', 'Purity_info', 'Purity_info_unique', 'protein_match'\n",
       "      varm:\t'protein_hierarchy_PCs'"
      ]
     },
     "execution_count": 6,
     "metadata": {},
     "output_type": "execute_result"
    }
   ],
   "source": [
    "path_nSBM = '../data/raw/mudata_nSBM_hierarchy_2_final_4_species.h5mu'\n",
    "data_nSBM = md.read_h5mu(path_nSBM)\n",
    "data_nSBM"
   ]
  },
  {
   "cell_type": "markdown",
   "metadata": {},
   "source": [
    "Taking the lev6 (most aggregated and connected) protein clusters and translate genes of each strain into cluster \\\n",
    "Note, in adata its obs x var; now we transpose for gglasso"
   ]
  },
  {
   "cell_type": "code",
   "execution_count": 14,
   "metadata": {},
   "outputs": [
    {
     "data": {
      "text/html": [
       "<div>\n",
       "<style scoped>\n",
       "    .dataframe tbody tr th:only-of-type {\n",
       "        vertical-align: middle;\n",
       "    }\n",
       "\n",
       "    .dataframe tbody tr th {\n",
       "        vertical-align: top;\n",
       "    }\n",
       "\n",
       "    .dataframe thead th {\n",
       "        text-align: right;\n",
       "    }\n",
       "</style>\n",
       "<table border=\"1\" class=\"dataframe\">\n",
       "  <thead>\n",
       "    <tr style=\"text-align: right;\">\n",
       "      <th></th>\n",
       "      <th>lev0</th>\n",
       "      <th>lev1</th>\n",
       "      <th>lev2</th>\n",
       "      <th>lev3</th>\n",
       "      <th>lev4</th>\n",
       "      <th>lev5</th>\n",
       "      <th>lev6</th>\n",
       "      <th>lev_root</th>\n",
       "    </tr>\n",
       "  </thead>\n",
       "  <tbody>\n",
       "    <tr>\n",
       "      <th>NP_052605.1</th>\n",
       "      <td>lev00totlen16795</td>\n",
       "      <td>forDFlev16795</td>\n",
       "      <td>forDFlev26795</td>\n",
       "      <td>forDFlev36795</td>\n",
       "      <td>forDFlev46795</td>\n",
       "      <td>forDFlev56795</td>\n",
       "      <td>forDFlev66795</td>\n",
       "      <td>root</td>\n",
       "    </tr>\n",
       "    <tr>\n",
       "      <th>NP_052606.1</th>\n",
       "      <td>lev00totlen17549</td>\n",
       "      <td>forDFlev17549</td>\n",
       "      <td>forDFlev27549</td>\n",
       "      <td>forDFlev37549</td>\n",
       "      <td>forDFlev47549</td>\n",
       "      <td>forDFlev57549</td>\n",
       "      <td>forDFlev67549</td>\n",
       "      <td>root</td>\n",
       "    </tr>\n",
       "    <tr>\n",
       "      <th>NP_052608.1</th>\n",
       "      <td>lev00totlen15594</td>\n",
       "      <td>forDFlev15594</td>\n",
       "      <td>forDFlev25594</td>\n",
       "      <td>forDFlev35594</td>\n",
       "      <td>forDFlev45594</td>\n",
       "      <td>forDFlev55594</td>\n",
       "      <td>forDFlev65594</td>\n",
       "      <td>root</td>\n",
       "    </tr>\n",
       "    <tr>\n",
       "      <th>NP_052609.1</th>\n",
       "      <td>lev00totlen12063</td>\n",
       "      <td>forDFlev12063</td>\n",
       "      <td>forDFlev22063</td>\n",
       "      <td>forDFlev32063</td>\n",
       "      <td>forDFlev42063</td>\n",
       "      <td>forDFlev52063</td>\n",
       "      <td>forDFlev62063</td>\n",
       "      <td>root</td>\n",
       "    </tr>\n",
       "    <tr>\n",
       "      <th>NP_052610.1</th>\n",
       "      <td>lev00totlen1576</td>\n",
       "      <td>forDFlev1576</td>\n",
       "      <td>forDFlev2576</td>\n",
       "      <td>forDFlev3576</td>\n",
       "      <td>forDFlev4576</td>\n",
       "      <td>forDFlev5576</td>\n",
       "      <td>forDFlev6576</td>\n",
       "      <td>root</td>\n",
       "    </tr>\n",
       "    <tr>\n",
       "      <th>...</th>\n",
       "      <td>...</td>\n",
       "      <td>...</td>\n",
       "      <td>...</td>\n",
       "      <td>...</td>\n",
       "      <td>...</td>\n",
       "      <td>...</td>\n",
       "      <td>...</td>\n",
       "      <td>...</td>\n",
       "    </tr>\n",
       "    <tr>\n",
       "      <th>WP_004152553.1</th>\n",
       "      <td>lev00totlen14198</td>\n",
       "      <td>forDFlev14198</td>\n",
       "      <td>forDFlev24198</td>\n",
       "      <td>forDFlev34198</td>\n",
       "      <td>forDFlev44198</td>\n",
       "      <td>forDFlev54198</td>\n",
       "      <td>forDFlev64198</td>\n",
       "      <td>root</td>\n",
       "    </tr>\n",
       "    <tr>\n",
       "      <th>WP_004178188.1</th>\n",
       "      <td>lev00totlen11303</td>\n",
       "      <td>forDFlev11303</td>\n",
       "      <td>forDFlev21303</td>\n",
       "      <td>forDFlev31303</td>\n",
       "      <td>forDFlev41303</td>\n",
       "      <td>forDFlev51303</td>\n",
       "      <td>forDFlev61303</td>\n",
       "      <td>root</td>\n",
       "    </tr>\n",
       "    <tr>\n",
       "      <th>WP_228131004.1</th>\n",
       "      <td>lev00totlen11253</td>\n",
       "      <td>forDFlev11253</td>\n",
       "      <td>forDFlev21253</td>\n",
       "      <td>forDFlev31253</td>\n",
       "      <td>forDFlev41253</td>\n",
       "      <td>forDFlev51253</td>\n",
       "      <td>forDFlev61253</td>\n",
       "      <td>root</td>\n",
       "    </tr>\n",
       "    <tr>\n",
       "      <th>WP_228131000.1</th>\n",
       "      <td>lev020totlen21057</td>\n",
       "      <td>forDFlev11057</td>\n",
       "      <td>forDFlev21057</td>\n",
       "      <td>forDFlev31057</td>\n",
       "      <td>forDFlev41057</td>\n",
       "      <td>forDFlev51057</td>\n",
       "      <td>forDFlev61057</td>\n",
       "      <td>root</td>\n",
       "    </tr>\n",
       "    <tr>\n",
       "      <th>WP_032417945.1</th>\n",
       "      <td>lev00totlen11212</td>\n",
       "      <td>forDFlev11212</td>\n",
       "      <td>forDFlev21212</td>\n",
       "      <td>forDFlev31212</td>\n",
       "      <td>forDFlev41212</td>\n",
       "      <td>forDFlev51212</td>\n",
       "      <td>forDFlev61212</td>\n",
       "      <td>root</td>\n",
       "    </tr>\n",
       "  </tbody>\n",
       "</table>\n",
       "<p>13687 rows × 8 columns</p>\n",
       "</div>"
      ],
      "text/plain": [
       "                             lev0           lev1           lev2  \\\n",
       "NP_052605.1      lev00totlen16795  forDFlev16795  forDFlev26795   \n",
       "NP_052606.1      lev00totlen17549  forDFlev17549  forDFlev27549   \n",
       "NP_052608.1      lev00totlen15594  forDFlev15594  forDFlev25594   \n",
       "NP_052609.1      lev00totlen12063  forDFlev12063  forDFlev22063   \n",
       "NP_052610.1       lev00totlen1576   forDFlev1576   forDFlev2576   \n",
       "...                           ...            ...            ...   \n",
       "WP_004152553.1   lev00totlen14198  forDFlev14198  forDFlev24198   \n",
       "WP_004178188.1   lev00totlen11303  forDFlev11303  forDFlev21303   \n",
       "WP_228131004.1   lev00totlen11253  forDFlev11253  forDFlev21253   \n",
       "WP_228131000.1  lev020totlen21057  forDFlev11057  forDFlev21057   \n",
       "WP_032417945.1   lev00totlen11212  forDFlev11212  forDFlev21212   \n",
       "\n",
       "                         lev3           lev4           lev5           lev6  \\\n",
       "NP_052605.1     forDFlev36795  forDFlev46795  forDFlev56795  forDFlev66795   \n",
       "NP_052606.1     forDFlev37549  forDFlev47549  forDFlev57549  forDFlev67549   \n",
       "NP_052608.1     forDFlev35594  forDFlev45594  forDFlev55594  forDFlev65594   \n",
       "NP_052609.1     forDFlev32063  forDFlev42063  forDFlev52063  forDFlev62063   \n",
       "NP_052610.1      forDFlev3576   forDFlev4576   forDFlev5576   forDFlev6576   \n",
       "...                       ...            ...            ...            ...   \n",
       "WP_004152553.1  forDFlev34198  forDFlev44198  forDFlev54198  forDFlev64198   \n",
       "WP_004178188.1  forDFlev31303  forDFlev41303  forDFlev51303  forDFlev61303   \n",
       "WP_228131004.1  forDFlev31253  forDFlev41253  forDFlev51253  forDFlev61253   \n",
       "WP_228131000.1  forDFlev31057  forDFlev41057  forDFlev51057  forDFlev61057   \n",
       "WP_032417945.1  forDFlev31212  forDFlev41212  forDFlev51212  forDFlev61212   \n",
       "\n",
       "               lev_root  \n",
       "NP_052605.1        root  \n",
       "NP_052606.1        root  \n",
       "NP_052608.1        root  \n",
       "NP_052609.1        root  \n",
       "NP_052610.1        root  \n",
       "...                 ...  \n",
       "WP_004152553.1     root  \n",
       "WP_004178188.1     root  \n",
       "WP_228131004.1     root  \n",
       "WP_228131000.1     root  \n",
       "WP_032417945.1     root  \n",
       "\n",
       "[13687 rows x 8 columns]"
      ]
     },
     "execution_count": 14,
     "metadata": {},
     "output_type": "execute_result"
    }
   ],
   "source": [
    "data_nSBM[\"SC_proteins\"].varm[\"protein_hierarchy\"]"
   ]
  },
  {
   "cell_type": "code",
   "execution_count": 7,
   "metadata": {},
   "outputs": [
    {
     "data": {
      "text/plain": [
       "(47, 2466)"
      ]
     },
     "execution_count": 7,
     "metadata": {},
     "output_type": "execute_result"
    }
   ],
   "source": [
    "ec_obs = pd.DataFrame(index=data_nSBM[\"SC_proteins\"].varm[\"protein_hierarchy\"].loc[ec_adata.var[\"protein\"]][\"lev6\"],\n",
    "                      data=ec_adata.layers[\"sqrt_counts\"].T.A) \n",
    "ec_obs.shape"
   ]
  },
  {
   "cell_type": "code",
   "execution_count": 13,
   "metadata": {},
   "outputs": [
    {
     "data": {
      "text/html": [
       "<div>\n",
       "<style scoped>\n",
       "    .dataframe tbody tr th:only-of-type {\n",
       "        vertical-align: middle;\n",
       "    }\n",
       "\n",
       "    .dataframe tbody tr th {\n",
       "        vertical-align: top;\n",
       "    }\n",
       "\n",
       "    .dataframe thead th {\n",
       "        text-align: right;\n",
       "    }\n",
       "</style>\n",
       "<table border=\"1\" class=\"dataframe\">\n",
       "  <thead>\n",
       "    <tr style=\"text-align: right;\">\n",
       "      <th></th>\n",
       "      <th>0</th>\n",
       "      <th>1</th>\n",
       "      <th>2</th>\n",
       "      <th>3</th>\n",
       "      <th>4</th>\n",
       "      <th>5</th>\n",
       "      <th>6</th>\n",
       "      <th>7</th>\n",
       "      <th>8</th>\n",
       "      <th>9</th>\n",
       "      <th>...</th>\n",
       "      <th>2456</th>\n",
       "      <th>2457</th>\n",
       "      <th>2458</th>\n",
       "      <th>2459</th>\n",
       "      <th>2460</th>\n",
       "      <th>2461</th>\n",
       "      <th>2462</th>\n",
       "      <th>2463</th>\n",
       "      <th>2464</th>\n",
       "      <th>2465</th>\n",
       "    </tr>\n",
       "    <tr>\n",
       "      <th>lev6</th>\n",
       "      <th></th>\n",
       "      <th></th>\n",
       "      <th></th>\n",
       "      <th></th>\n",
       "      <th></th>\n",
       "      <th></th>\n",
       "      <th></th>\n",
       "      <th></th>\n",
       "      <th></th>\n",
       "      <th></th>\n",
       "      <th></th>\n",
       "      <th></th>\n",
       "      <th></th>\n",
       "      <th></th>\n",
       "      <th></th>\n",
       "      <th></th>\n",
       "      <th></th>\n",
       "      <th></th>\n",
       "      <th></th>\n",
       "      <th></th>\n",
       "      <th></th>\n",
       "    </tr>\n",
       "  </thead>\n",
       "  <tbody>\n",
       "    <tr>\n",
       "      <th>forDFlev6944</th>\n",
       "      <td>0.0</td>\n",
       "      <td>0.0</td>\n",
       "      <td>0.0</td>\n",
       "      <td>0.0</td>\n",
       "      <td>0.0</td>\n",
       "      <td>0.0</td>\n",
       "      <td>0.0</td>\n",
       "      <td>0.0</td>\n",
       "      <td>0.0</td>\n",
       "      <td>0.0</td>\n",
       "      <td>...</td>\n",
       "      <td>0.0</td>\n",
       "      <td>0.0</td>\n",
       "      <td>0.0</td>\n",
       "      <td>0.0</td>\n",
       "      <td>0.0</td>\n",
       "      <td>0.0</td>\n",
       "      <td>0.0</td>\n",
       "      <td>0.0</td>\n",
       "      <td>1.0</td>\n",
       "      <td>0.0</td>\n",
       "    </tr>\n",
       "    <tr>\n",
       "      <th>forDFlev62548</th>\n",
       "      <td>0.0</td>\n",
       "      <td>0.0</td>\n",
       "      <td>0.0</td>\n",
       "      <td>0.0</td>\n",
       "      <td>0.0</td>\n",
       "      <td>0.0</td>\n",
       "      <td>0.0</td>\n",
       "      <td>0.0</td>\n",
       "      <td>0.0</td>\n",
       "      <td>0.0</td>\n",
       "      <td>...</td>\n",
       "      <td>0.0</td>\n",
       "      <td>0.0</td>\n",
       "      <td>0.0</td>\n",
       "      <td>0.0</td>\n",
       "      <td>0.0</td>\n",
       "      <td>0.0</td>\n",
       "      <td>0.0</td>\n",
       "      <td>0.0</td>\n",
       "      <td>0.0</td>\n",
       "      <td>0.0</td>\n",
       "    </tr>\n",
       "    <tr>\n",
       "      <th>forDFlev61171</th>\n",
       "      <td>0.0</td>\n",
       "      <td>0.0</td>\n",
       "      <td>0.0</td>\n",
       "      <td>0.0</td>\n",
       "      <td>1.0</td>\n",
       "      <td>0.0</td>\n",
       "      <td>0.0</td>\n",
       "      <td>0.0</td>\n",
       "      <td>0.0</td>\n",
       "      <td>0.0</td>\n",
       "      <td>...</td>\n",
       "      <td>0.0</td>\n",
       "      <td>0.0</td>\n",
       "      <td>0.0</td>\n",
       "      <td>0.0</td>\n",
       "      <td>0.0</td>\n",
       "      <td>0.0</td>\n",
       "      <td>0.0</td>\n",
       "      <td>0.0</td>\n",
       "      <td>0.0</td>\n",
       "      <td>0.0</td>\n",
       "    </tr>\n",
       "    <tr>\n",
       "      <th>forDFlev61251</th>\n",
       "      <td>0.0</td>\n",
       "      <td>0.0</td>\n",
       "      <td>0.0</td>\n",
       "      <td>0.0</td>\n",
       "      <td>0.0</td>\n",
       "      <td>0.0</td>\n",
       "      <td>0.0</td>\n",
       "      <td>0.0</td>\n",
       "      <td>0.0</td>\n",
       "      <td>0.0</td>\n",
       "      <td>...</td>\n",
       "      <td>0.0</td>\n",
       "      <td>0.0</td>\n",
       "      <td>0.0</td>\n",
       "      <td>0.0</td>\n",
       "      <td>0.0</td>\n",
       "      <td>0.0</td>\n",
       "      <td>0.0</td>\n",
       "      <td>0.0</td>\n",
       "      <td>0.0</td>\n",
       "      <td>0.0</td>\n",
       "    </tr>\n",
       "    <tr>\n",
       "      <th>forDFlev62166</th>\n",
       "      <td>0.0</td>\n",
       "      <td>0.0</td>\n",
       "      <td>0.0</td>\n",
       "      <td>0.0</td>\n",
       "      <td>0.0</td>\n",
       "      <td>0.0</td>\n",
       "      <td>0.0</td>\n",
       "      <td>0.0</td>\n",
       "      <td>0.0</td>\n",
       "      <td>0.0</td>\n",
       "      <td>...</td>\n",
       "      <td>0.0</td>\n",
       "      <td>0.0</td>\n",
       "      <td>0.0</td>\n",
       "      <td>0.0</td>\n",
       "      <td>0.0</td>\n",
       "      <td>0.0</td>\n",
       "      <td>0.0</td>\n",
       "      <td>0.0</td>\n",
       "      <td>0.0</td>\n",
       "      <td>0.0</td>\n",
       "    </tr>\n",
       "  </tbody>\n",
       "</table>\n",
       "<p>5 rows × 2466 columns</p>\n",
       "</div>"
      ],
      "text/plain": [
       "               0     1     2     3     4     5     6     7     8     9     \\\n",
       "lev6                                                                        \n",
       "forDFlev6944    0.0   0.0   0.0   0.0   0.0   0.0   0.0   0.0   0.0   0.0   \n",
       "forDFlev62548   0.0   0.0   0.0   0.0   0.0   0.0   0.0   0.0   0.0   0.0   \n",
       "forDFlev61171   0.0   0.0   0.0   0.0   1.0   0.0   0.0   0.0   0.0   0.0   \n",
       "forDFlev61251   0.0   0.0   0.0   0.0   0.0   0.0   0.0   0.0   0.0   0.0   \n",
       "forDFlev62166   0.0   0.0   0.0   0.0   0.0   0.0   0.0   0.0   0.0   0.0   \n",
       "\n",
       "               ...  2456  2457  2458  2459  2460  2461  2462  2463  2464  2465  \n",
       "lev6           ...                                                              \n",
       "forDFlev6944   ...   0.0   0.0   0.0   0.0   0.0   0.0   0.0   0.0   1.0   0.0  \n",
       "forDFlev62548  ...   0.0   0.0   0.0   0.0   0.0   0.0   0.0   0.0   0.0   0.0  \n",
       "forDFlev61171  ...   0.0   0.0   0.0   0.0   0.0   0.0   0.0   0.0   0.0   0.0  \n",
       "forDFlev61251  ...   0.0   0.0   0.0   0.0   0.0   0.0   0.0   0.0   0.0   0.0  \n",
       "forDFlev62166  ...   0.0   0.0   0.0   0.0   0.0   0.0   0.0   0.0   0.0   0.0  \n",
       "\n",
       "[5 rows x 2466 columns]"
      ]
     },
     "execution_count": 13,
     "metadata": {},
     "output_type": "execute_result"
    }
   ],
   "source": [
    "ec_obs.head()"
   ]
  },
  {
   "cell_type": "code",
   "execution_count": 8,
   "metadata": {},
   "outputs": [
    {
     "data": {
      "text/plain": [
       "(52, 4563)"
      ]
     },
     "execution_count": 8,
     "metadata": {},
     "output_type": "execute_result"
    }
   ],
   "source": [
    "efm_obs = pd.DataFrame(index=data_nSBM[\"SC_proteins\"].varm[\"protein_hierarchy\"].loc[efm_adata.var[\"protein\"]][\"lev6\"],\n",
    "                      data=efm_adata.layers[\"sqrt_counts\"].T.A) \n",
    "efm_obs.shape"
   ]
  },
  {
   "cell_type": "code",
   "execution_count": 9,
   "metadata": {},
   "outputs": [
    {
     "data": {
      "text/plain": [
       "(30, 195)"
      ]
     },
     "execution_count": 9,
     "metadata": {},
     "output_type": "execute_result"
    }
   ],
   "source": [
    "psa_obs = pd.DataFrame(index=data_nSBM[\"SC_proteins\"].varm[\"protein_hierarchy\"].loc[psa_adata.var[\"protein\"]][\"lev6\"],\n",
    "                      data=psa_adata.layers[\"sqrt_counts\"].T.A) \n",
    "psa_obs.shape"
   ]
  },
  {
   "cell_type": "code",
   "execution_count": 10,
   "metadata": {},
   "outputs": [
    {
     "data": {
      "text/plain": [
       "(44, 770)"
      ]
     },
     "execution_count": 10,
     "metadata": {},
     "output_type": "execute_result"
    }
   ],
   "source": [
    "kp_obs = pd.DataFrame(index=data_nSBM[\"SC_proteins\"].varm[\"protein_hierarchy\"].loc[kp_adata.var[\"protein\"]][\"lev6\"],\n",
    "                      data=kp_adata.layers[\"sqrt_counts\"].T.A) \n",
    "kp_obs.shape"
   ]
  },
  {
   "cell_type": "code",
   "execution_count": 15,
   "metadata": {},
   "outputs": [],
   "source": [
    "all_obs = {0: ec_obs,\n",
    "           1: efm_obs,\n",
    "           2: psa_obs,\n",
    "           3: kp_obs}"
   ]
  },
  {
   "cell_type": "code",
   "execution_count": 16,
   "metadata": {},
   "outputs": [],
   "source": [
    "from gglasso.helper.ext_admm_helper import create_group_array, construct_indexer, check_G"
   ]
  },
  {
   "cell_type": "code",
   "execution_count": 17,
   "metadata": {},
   "outputs": [],
   "source": [
    "ix_exist, ix_location = construct_indexer(list(all_obs.values()))"
   ]
  },
  {
   "cell_type": "code",
   "execution_count": 23,
   "metadata": {},
   "outputs": [
    {
     "name": "stdout",
     "output_type": "stream",
     "text": [
      "Creation of bookeeping array...\n",
      "10% finished\n",
      "20% finished\n",
      "30% finished\n",
      "40% finished\n",
      "50% finished\n",
      "60% finished\n",
      "70% finished\n",
      "80% finished\n",
      "90% finished\n"
     ]
    }
   ],
   "source": [
    "G = create_group_array(ix_exist, ix_location, min_inst = 4-1)"
   ]
  },
  {
   "cell_type": "code",
   "execution_count": 24,
   "metadata": {},
   "outputs": [
    {
     "ename": "AssertionError",
     "evalue": "Only upper diagonal entries should be contained in G",
     "output_type": "error",
     "traceback": [
      "\u001b[1;31m---------------------------------------------------------------------------\u001b[0m",
      "\u001b[1;31mAssertionError\u001b[0m                            Traceback (most recent call last)",
      "Cell \u001b[1;32mIn[24], line 1\u001b[0m\n\u001b[1;32m----> 1\u001b[0m \u001b[43mcheck_G\u001b[49m\u001b[43m(\u001b[49m\u001b[43mG\u001b[49m\u001b[43m,\u001b[49m\u001b[43m \u001b[49m\u001b[38;5;241;43m52\u001b[39;49m\u001b[43m)\u001b[49m\n",
      "File \u001b[1;32mc:\\Users\\Jan\\.conda\\envs\\bacdrop\\lib\\site-packages\\gglasso\\helper\\ext_admm_helper.py:101\u001b[0m, in \u001b[0;36mcheck_G\u001b[1;34m(G, p)\u001b[0m\n\u001b[0;32m     97\u001b[0m \u001b[38;5;28;01massert\u001b[39;00m np\u001b[38;5;241m.\u001b[39mall(G \u001b[38;5;241m>\u001b[39m\u001b[38;5;241m=\u001b[39m\u001b[38;5;241m-\u001b[39m\u001b[38;5;241m1\u001b[39m), \u001b[38;5;124m\"\u001b[39m\u001b[38;5;124mNo negative indices allowed (only -1 for indicating a missing feature)\u001b[39m\u001b[38;5;124m\"\u001b[39m\n\u001b[0;32m     99\u001b[0m \u001b[38;5;28;01massert\u001b[39;00m np\u001b[38;5;241m.\u001b[39mall(G\u001b[38;5;241m.\u001b[39mmax(axis \u001b[38;5;241m=\u001b[39m (\u001b[38;5;241m0\u001b[39m,\u001b[38;5;241m1\u001b[39m)) \u001b[38;5;241m<\u001b[39m p), \u001b[38;5;124m\"\u001b[39m\u001b[38;5;124mindices larger as dimension were found\u001b[39m\u001b[38;5;124m\"\u001b[39m\n\u001b[1;32m--> 101\u001b[0m \u001b[38;5;28;01massert\u001b[39;00m np\u001b[38;5;241m.\u001b[39mall(G[\u001b[38;5;241m0\u001b[39m,:,:] \u001b[38;5;241m<\u001b[39m\u001b[38;5;241m=\u001b[39m G[\u001b[38;5;241m1\u001b[39m,:,:]), \u001b[38;5;124m\"\u001b[39m\u001b[38;5;124mOnly upper diagonal entries should be contained in G\u001b[39m\u001b[38;5;124m\"\u001b[39m\n\u001b[0;32m    103\u001b[0m \u001b[38;5;28;01mreturn\u001b[39;00m\n",
      "\u001b[1;31mAssertionError\u001b[0m: Only upper diagonal entries should be contained in G"
     ]
    }
   ],
   "source": [
    "check_G(G, 52)"
   ]
  },
  {
   "cell_type": "code",
   "execution_count": 28,
   "metadata": {},
   "outputs": [
    {
     "data": {
      "text/plain": [
       "(2, 797, 4)"
      ]
     },
     "execution_count": 28,
     "metadata": {},
     "output_type": "execute_result"
    }
   ],
   "source": [
    "G.shape"
   ]
  },
  {
   "cell_type": "code",
   "execution_count": null,
   "metadata": {},
   "outputs": [],
   "source": []
  }
 ],
 "metadata": {
  "kernelspec": {
   "display_name": "bacdrop",
   "language": "python",
   "name": "python3"
  },
  "language_info": {
   "codemirror_mode": {
    "name": "ipython",
    "version": 3
   },
   "file_extension": ".py",
   "mimetype": "text/x-python",
   "name": "python",
   "nbconvert_exporter": "python",
   "pygments_lexer": "ipython3",
   "version": "3.10.13"
  }
 },
 "nbformat": 4,
 "nbformat_minor": 2
}
