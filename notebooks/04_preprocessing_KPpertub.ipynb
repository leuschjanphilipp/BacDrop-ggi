{
 "cells": [
  {
   "cell_type": "code",
   "execution_count": 1,
   "metadata": {},
   "outputs": [],
   "source": [
    "import scanpy as sc\n",
    "import pandas as pd\n",
    "import numpy as np\n",
    "import mudata as md\n",
    "import seaborn as sns\n",
    "import matplotlib.pyplot as plt\n",
    "\n",
    "import gc\n",
    "import sys\n",
    "sys.path.append('../')\n",
    "\n",
    "from tqdm import tqdm\n",
    "from latentcor import latentcor\n",
    "from scipy.sparse import csr_matrix\n",
    "from utils.gglasso_pipeline import gg_lasso_network_analysis\n",
    "from utils.utils import calc_sparsity, fetch_protein_names\n",
    "\n",
    "import warnings\n",
    "warnings.filterwarnings('ignore', category=FutureWarning)"
   ]
  },
  {
   "cell_type": "code",
   "execution_count": 2,
   "metadata": {},
   "outputs": [],
   "source": [
    "path_raw_data = \"../data/raw/\"\n",
    "experiments = [\"MGH66_Abx3_P1_align2._CDS.tsv\",\n",
    "               \"MGH66_Abx3_P2_align2._CDS.tsv\",\n",
    "               \"MGH66_Abx3_P3_align2._CDS.tsv\",\n",
    "               \"MGH66_Abx3_P4_align2._CDS.tsv\"]"
   ]
  },
  {
   "cell_type": "markdown",
   "metadata": {},
   "source": [
    "# P1"
   ]
  },
  {
   "cell_type": "code",
   "execution_count": 3,
   "metadata": {},
   "outputs": [],
   "source": [
    "adata = sc.read_csv(filename=path_raw_data + experiments[0], delimiter='\\t')"
   ]
  },
  {
   "cell_type": "code",
   "execution_count": 10,
   "metadata": {},
   "outputs": [],
   "source": [
    "obs_tmp = adata.var.copy()\n",
    "var_tmp = adata.obs.copy()\n",
    "X_tmp = csr_matrix(adata.X.T)\n",
    "\n",
    "adata = sc.AnnData(X=X_tmp, obs=obs_tmp, var=var_tmp)\n",
    "adata"
   ]
  },
  {
   "cell_type": "code",
   "execution_count": 19,
   "metadata": {},
   "outputs": [
    {
     "name": "stdout",
     "output_type": "stream",
     "text": [
      "Sparity:\t\t 0.9980492107440664\n",
      "Mean counts per gene:\t 8.321548\n",
      "Median counts per gene:\t 6.0\n",
      "Mean genes per cell: \t 839.40607\n",
      "Median genes per cell:\t 97.5\n"
     ]
    }
   ],
   "source": [
    "print(\"Sparity:\\t\\t\", calc_sparsity(adata.X.A))\n",
    "print(\"Mean counts per gene:\\t\", np.mean(np.sum(adata.X.A, axis=1)))\n",
    "print(\"Median counts per gene:\\t\", np.median(np.sum(adata.X.A, axis=1)))\n",
    "print(\"Mean genes per cell: \\t\", np.mean(np.sum(adata.X.A, axis=0)))\n",
    "print(\"Median genes per cell:\\t\", np.median(np.sum(adata.X.A, axis=0)))"
   ]
  },
  {
   "cell_type": "code",
   "execution_count": null,
   "metadata": {},
   "outputs": [],
   "source": [
    "adata.var[\"gene\"] = [gene[4:] for gene in adata.var.index]\n",
    "adata.var"
   ]
  },
  {
   "cell_type": "code",
   "execution_count": 158,
   "metadata": {},
   "outputs": [],
   "source": [
    "#accession_numbers = [gene[4:] for gene in adata.var.index[-10:]]\n",
    "#accession_numbers = [gene[4:] for gene in adata.var[~adata.var.index.str.startswith(\"cds-WP\")].index.values]\n",
    "accession_numbers = [gene[4:] for gene in adata.var[adata.var.index.str.startswith(\"cds-WP\")].index.values]\n",
    "#accession_numbers = adata.var.index.values"
   ]
  },
  {
   "cell_type": "code",
   "execution_count": 159,
   "metadata": {},
   "outputs": [
    {
     "data": {
      "text/plain": [
       "3881"
      ]
     },
     "execution_count": 159,
     "metadata": {},
     "output_type": "execute_result"
    }
   ],
   "source": [
    "len(accession_numbers)"
   ]
  },
  {
   "cell_type": "code",
   "execution_count": null,
   "metadata": {},
   "outputs": [],
   "source": [
    "batch_size = 1\n",
    "gene_to_protein = dict()\n",
    "\n",
    "for i in tqdm(range(0, len(accession_numbers), batch_size)):\n",
    "    try:\n",
    "        batch = accession_numbers[i:i + batch_size]\n",
    "        protein_names = fetch_protein_names(batch)\n",
    "        gene_to_protein.update(dict(zip(batch, protein_names)))\n",
    "        print(len(gene_to_protein))\n",
    "    except Exception as e:\n",
    "        print(f\"Error fetching batch {batch}: {e}\")\n",
    "        continue"
   ]
  },
  {
   "cell_type": "code",
   "execution_count": 129,
   "metadata": {},
   "outputs": [
    {
     "data": {
      "text/html": [
       "<div>\n",
       "<style scoped>\n",
       "    .dataframe tbody tr th:only-of-type {\n",
       "        vertical-align: middle;\n",
       "    }\n",
       "\n",
       "    .dataframe tbody tr th {\n",
       "        vertical-align: top;\n",
       "    }\n",
       "\n",
       "    .dataframe thead th {\n",
       "        text-align: right;\n",
       "    }\n",
       "</style>\n",
       "<table border=\"1\" class=\"dataframe\">\n",
       "  <thead>\n",
       "    <tr style=\"text-align: right;\">\n",
       "      <th></th>\n",
       "      <th>gene</th>\n",
       "      <th>long_protein_name</th>\n",
       "    </tr>\n",
       "  </thead>\n",
       "  <tbody>\n",
       "    <tr>\n",
       "      <th>cds-AF52_RS00180</th>\n",
       "      <td>AF52_RS00180</td>\n",
       "      <td>None</td>\n",
       "    </tr>\n",
       "    <tr>\n",
       "      <th>cds-AF52_RS00275</th>\n",
       "      <td>AF52_RS00275</td>\n",
       "      <td>None</td>\n",
       "    </tr>\n",
       "    <tr>\n",
       "      <th>cds-AF52_RS00620</th>\n",
       "      <td>AF52_RS00620</td>\n",
       "      <td>None</td>\n",
       "    </tr>\n",
       "    <tr>\n",
       "      <th>cds-AF52_RS01000</th>\n",
       "      <td>AF52_RS01000</td>\n",
       "      <td>None</td>\n",
       "    </tr>\n",
       "    <tr>\n",
       "      <th>cds-AF52_RS01015</th>\n",
       "      <td>AF52_RS01015</td>\n",
       "      <td>None</td>\n",
       "    </tr>\n",
       "    <tr>\n",
       "      <th>...</th>\n",
       "      <td>...</td>\n",
       "      <td>...</td>\n",
       "    </tr>\n",
       "    <tr>\n",
       "      <th>cds-WP_187079192.1</th>\n",
       "      <td>WP_187079192.1</td>\n",
       "      <td>WP_187079192.1 IS5-like element IS903B family ...</td>\n",
       "    </tr>\n",
       "    <tr>\n",
       "      <th>cds-WP_187079193.1</th>\n",
       "      <td>WP_187079193.1</td>\n",
       "      <td>WP_187079193.1 aspartate aminotransferase fami...</td>\n",
       "    </tr>\n",
       "    <tr>\n",
       "      <th>cds-WP_187079194.1</th>\n",
       "      <td>WP_187079194.1</td>\n",
       "      <td>WP_187079194.1 ribokinase [Klebsiella pneumoniae]</td>\n",
       "    </tr>\n",
       "    <tr>\n",
       "      <th>cds-WP_187079196.1</th>\n",
       "      <td>WP_187079196.1</td>\n",
       "      <td>WP_187079196.1 6-carboxytetrahydropterin synth...</td>\n",
       "    </tr>\n",
       "    <tr>\n",
       "      <th>cds-WP_187079197.1</th>\n",
       "      <td>WP_187079197.1</td>\n",
       "      <td>WP_187079197.1 bifunctional ADP-dependent NAD(...</td>\n",
       "    </tr>\n",
       "  </tbody>\n",
       "</table>\n",
       "<p>4066 rows × 2 columns</p>\n",
       "</div>"
      ],
      "text/plain": [
       "                              gene  \\\n",
       "cds-AF52_RS00180      AF52_RS00180   \n",
       "cds-AF52_RS00275      AF52_RS00275   \n",
       "cds-AF52_RS00620      AF52_RS00620   \n",
       "cds-AF52_RS01000      AF52_RS01000   \n",
       "cds-AF52_RS01015      AF52_RS01015   \n",
       "...                            ...   \n",
       "cds-WP_187079192.1  WP_187079192.1   \n",
       "cds-WP_187079193.1  WP_187079193.1   \n",
       "cds-WP_187079194.1  WP_187079194.1   \n",
       "cds-WP_187079196.1  WP_187079196.1   \n",
       "cds-WP_187079197.1  WP_187079197.1   \n",
       "\n",
       "                                                    long_protein_name  \n",
       "cds-AF52_RS00180                                                 None  \n",
       "cds-AF52_RS00275                                                 None  \n",
       "cds-AF52_RS00620                                                 None  \n",
       "cds-AF52_RS01000                                                 None  \n",
       "cds-AF52_RS01015                                                 None  \n",
       "...                                                               ...  \n",
       "cds-WP_187079192.1  WP_187079192.1 IS5-like element IS903B family ...  \n",
       "cds-WP_187079193.1  WP_187079193.1 aspartate aminotransferase fami...  \n",
       "cds-WP_187079194.1  WP_187079194.1 ribokinase [Klebsiella pneumoniae]  \n",
       "cds-WP_187079196.1  WP_187079196.1 6-carboxytetrahydropterin synth...  \n",
       "cds-WP_187079197.1  WP_187079197.1 bifunctional ADP-dependent NAD(...  \n",
       "\n",
       "[4066 rows x 2 columns]"
      ]
     },
     "execution_count": 129,
     "metadata": {},
     "output_type": "execute_result"
    }
   ],
   "source": [
    "adata.var['long_protein_name'] = adata.var['gene'].map(gene_to_protein)\n",
    "adata.var['long_protein_name'].fillna(\"None\", inplace=True)\n",
    "adata.var"
   ]
  },
  {
   "cell_type": "code",
   "execution_count": 149,
   "metadata": {},
   "outputs": [
    {
     "data": {
      "text/plain": [
       "Klebsiella                     2399\n",
       "Klebsiella pneumoniae           769\n",
       "Enterobacteriaceae              324\n",
       "Gammaproteobacteria             126\n",
       "Enterobacterales                 70\n",
       "Bacteria                         54\n",
       "Klebsiella/Raoultella group      22\n",
       "Pseudomonadota                    7\n",
       "Klebsiella quasipneumoniae        2\n",
       "Klebsiella grimontii              1\n",
       "Name: species, dtype: int64"
      ]
     },
     "execution_count": 149,
     "metadata": {},
     "output_type": "execute_result"
    }
   ],
   "source": [
    "adata.var['species'] = adata.var['long_protein_name'].str.extract(r'\\[([^]]+)\\]$')\n",
    "adata.var.species.value_counts()"
   ]
  },
  {
   "cell_type": "code",
   "execution_count": 150,
   "metadata": {},
   "outputs": [
    {
     "data": {
      "text/html": [
       "<div>\n",
       "<style scoped>\n",
       "    .dataframe tbody tr th:only-of-type {\n",
       "        vertical-align: middle;\n",
       "    }\n",
       "\n",
       "    .dataframe tbody tr th {\n",
       "        vertical-align: top;\n",
       "    }\n",
       "\n",
       "    .dataframe thead th {\n",
       "        text-align: right;\n",
       "    }\n",
       "</style>\n",
       "<table border=\"1\" class=\"dataframe\">\n",
       "  <thead>\n",
       "    <tr style=\"text-align: right;\">\n",
       "      <th></th>\n",
       "      <th>gene</th>\n",
       "      <th>long_protein_name</th>\n",
       "      <th>species</th>\n",
       "      <th>protein_name</th>\n",
       "    </tr>\n",
       "  </thead>\n",
       "  <tbody>\n",
       "    <tr>\n",
       "      <th>cds-AF52_RS00180</th>\n",
       "      <td>AF52_RS00180</td>\n",
       "      <td>None</td>\n",
       "      <td>NaN</td>\n",
       "      <td>NaN</td>\n",
       "    </tr>\n",
       "    <tr>\n",
       "      <th>cds-AF52_RS00275</th>\n",
       "      <td>AF52_RS00275</td>\n",
       "      <td>None</td>\n",
       "      <td>NaN</td>\n",
       "      <td>NaN</td>\n",
       "    </tr>\n",
       "    <tr>\n",
       "      <th>cds-AF52_RS00620</th>\n",
       "      <td>AF52_RS00620</td>\n",
       "      <td>None</td>\n",
       "      <td>NaN</td>\n",
       "      <td>NaN</td>\n",
       "    </tr>\n",
       "    <tr>\n",
       "      <th>cds-AF52_RS01000</th>\n",
       "      <td>AF52_RS01000</td>\n",
       "      <td>None</td>\n",
       "      <td>NaN</td>\n",
       "      <td>NaN</td>\n",
       "    </tr>\n",
       "    <tr>\n",
       "      <th>cds-AF52_RS01015</th>\n",
       "      <td>AF52_RS01015</td>\n",
       "      <td>None</td>\n",
       "      <td>NaN</td>\n",
       "      <td>NaN</td>\n",
       "    </tr>\n",
       "    <tr>\n",
       "      <th>...</th>\n",
       "      <td>...</td>\n",
       "      <td>...</td>\n",
       "      <td>...</td>\n",
       "      <td>...</td>\n",
       "    </tr>\n",
       "    <tr>\n",
       "      <th>cds-WP_187079192.1</th>\n",
       "      <td>WP_187079192.1</td>\n",
       "      <td>WP_187079192.1 IS5-like element IS903B family ...</td>\n",
       "      <td>Klebsiella pneumoniae</td>\n",
       "      <td>IS5-like element IS903B family transposase</td>\n",
       "    </tr>\n",
       "    <tr>\n",
       "      <th>cds-WP_187079193.1</th>\n",
       "      <td>WP_187079193.1</td>\n",
       "      <td>WP_187079193.1 aspartate aminotransferase fami...</td>\n",
       "      <td>Klebsiella pneumoniae</td>\n",
       "      <td>aspartate aminotransferase family protein</td>\n",
       "    </tr>\n",
       "    <tr>\n",
       "      <th>cds-WP_187079194.1</th>\n",
       "      <td>WP_187079194.1</td>\n",
       "      <td>WP_187079194.1 ribokinase [Klebsiella pneumoniae]</td>\n",
       "      <td>Klebsiella pneumoniae</td>\n",
       "      <td>ribokinase</td>\n",
       "    </tr>\n",
       "    <tr>\n",
       "      <th>cds-WP_187079196.1</th>\n",
       "      <td>WP_187079196.1</td>\n",
       "      <td>WP_187079196.1 6-carboxytetrahydropterin synth...</td>\n",
       "      <td>Klebsiella pneumoniae</td>\n",
       "      <td>6-carboxytetrahydropterin synthase QueD</td>\n",
       "    </tr>\n",
       "    <tr>\n",
       "      <th>cds-WP_187079197.1</th>\n",
       "      <td>WP_187079197.1</td>\n",
       "      <td>WP_187079197.1 bifunctional ADP-dependent NAD(...</td>\n",
       "      <td>Klebsiella pneumoniae</td>\n",
       "      <td>bifunctional ADP-dependent NAD(P)H-hydrate deh...</td>\n",
       "    </tr>\n",
       "  </tbody>\n",
       "</table>\n",
       "<p>4066 rows × 4 columns</p>\n",
       "</div>"
      ],
      "text/plain": [
       "                              gene  \\\n",
       "cds-AF52_RS00180      AF52_RS00180   \n",
       "cds-AF52_RS00275      AF52_RS00275   \n",
       "cds-AF52_RS00620      AF52_RS00620   \n",
       "cds-AF52_RS01000      AF52_RS01000   \n",
       "cds-AF52_RS01015      AF52_RS01015   \n",
       "...                            ...   \n",
       "cds-WP_187079192.1  WP_187079192.1   \n",
       "cds-WP_187079193.1  WP_187079193.1   \n",
       "cds-WP_187079194.1  WP_187079194.1   \n",
       "cds-WP_187079196.1  WP_187079196.1   \n",
       "cds-WP_187079197.1  WP_187079197.1   \n",
       "\n",
       "                                                    long_protein_name  \\\n",
       "cds-AF52_RS00180                                                 None   \n",
       "cds-AF52_RS00275                                                 None   \n",
       "cds-AF52_RS00620                                                 None   \n",
       "cds-AF52_RS01000                                                 None   \n",
       "cds-AF52_RS01015                                                 None   \n",
       "...                                                               ...   \n",
       "cds-WP_187079192.1  WP_187079192.1 IS5-like element IS903B family ...   \n",
       "cds-WP_187079193.1  WP_187079193.1 aspartate aminotransferase fami...   \n",
       "cds-WP_187079194.1  WP_187079194.1 ribokinase [Klebsiella pneumoniae]   \n",
       "cds-WP_187079196.1  WP_187079196.1 6-carboxytetrahydropterin synth...   \n",
       "cds-WP_187079197.1  WP_187079197.1 bifunctional ADP-dependent NAD(...   \n",
       "\n",
       "                                  species  \\\n",
       "cds-AF52_RS00180                      NaN   \n",
       "cds-AF52_RS00275                      NaN   \n",
       "cds-AF52_RS00620                      NaN   \n",
       "cds-AF52_RS01000                      NaN   \n",
       "cds-AF52_RS01015                      NaN   \n",
       "...                                   ...   \n",
       "cds-WP_187079192.1  Klebsiella pneumoniae   \n",
       "cds-WP_187079193.1  Klebsiella pneumoniae   \n",
       "cds-WP_187079194.1  Klebsiella pneumoniae   \n",
       "cds-WP_187079196.1  Klebsiella pneumoniae   \n",
       "cds-WP_187079197.1  Klebsiella pneumoniae   \n",
       "\n",
       "                                                         protein_name  \n",
       "cds-AF52_RS00180                                                  NaN  \n",
       "cds-AF52_RS00275                                                  NaN  \n",
       "cds-AF52_RS00620                                                  NaN  \n",
       "cds-AF52_RS01000                                                  NaN  \n",
       "cds-AF52_RS01015                                                  NaN  \n",
       "...                                                               ...  \n",
       "cds-WP_187079192.1         IS5-like element IS903B family transposase  \n",
       "cds-WP_187079193.1          aspartate aminotransferase family protein  \n",
       "cds-WP_187079194.1                                         ribokinase  \n",
       "cds-WP_187079196.1            6-carboxytetrahydropterin synthase QueD  \n",
       "cds-WP_187079197.1  bifunctional ADP-dependent NAD(P)H-hydrate deh...  \n",
       "\n",
       "[4066 rows x 4 columns]"
      ]
     },
     "execution_count": 150,
     "metadata": {},
     "output_type": "execute_result"
    }
   ],
   "source": [
    "adata.var['protein_name'] = adata.var['long_protein_name'].str.split(' ', 1).str[1].str.rsplit('[', 1).str[0].str.strip()\n",
    "adata.var"
   ]
  },
  {
   "cell_type": "code",
   "execution_count": 152,
   "metadata": {},
   "outputs": [
    {
     "data": {
      "text/plain": [
       "False    4005\n",
       "True       61\n",
       "Name: rRNA, dtype: int64"
      ]
     },
     "execution_count": 152,
     "metadata": {},
     "output_type": "execute_result"
    }
   ],
   "source": [
    "adata.var['rRNA'] = adata.var['long_protein_name'].str.contains(r'30S|50S')\n",
    "adata.var[\"rRNA\"].value_counts()"
   ]
  },
  {
   "cell_type": "code",
   "execution_count": 168,
   "metadata": {},
   "outputs": [
    {
     "data": {
      "text/plain": [
       "AnnData object with n_obs × n_vars = 410143 × 4066\n",
       "    var: 'gene', 'long_protein_name', 'species', 'protein_name', 'rRNA'"
      ]
     },
     "execution_count": 168,
     "metadata": {},
     "output_type": "execute_result"
    }
   ],
   "source": [
    "adata"
   ]
  },
  {
   "cell_type": "code",
   "execution_count": 167,
   "metadata": {},
   "outputs": [],
   "source": [
    "sc.write(adata=adata, filename=\"../data/preprocessed/MGH66_P1_untreated.h5ad\")"
   ]
  },
  {
   "cell_type": "markdown",
   "metadata": {},
   "source": [
    "# P2"
   ]
  },
  {
   "cell_type": "code",
   "execution_count": 3,
   "metadata": {},
   "outputs": [],
   "source": [
    "adata = sc.read_csv(filename=path_raw_data + experiments[1], delimiter='\\t')"
   ]
  },
  {
   "cell_type": "code",
   "execution_count": 4,
   "metadata": {},
   "outputs": [
    {
     "data": {
      "text/plain": [
       "AnnData object with n_obs × n_vars = 3987 × 392941"
      ]
     },
     "execution_count": 4,
     "metadata": {},
     "output_type": "execute_result"
    }
   ],
   "source": [
    "adata"
   ]
  },
  {
   "cell_type": "code",
   "execution_count": 5,
   "metadata": {},
   "outputs": [
    {
     "data": {
      "text/plain": [
       "AnnData object with n_obs × n_vars = 392941 × 3987"
      ]
     },
     "execution_count": 5,
     "metadata": {},
     "output_type": "execute_result"
    }
   ],
   "source": [
    "obs_tmp = adata.var.copy()\n",
    "var_tmp = adata.obs.copy()\n",
    "X_tmp = csr_matrix(adata.X.T)\n",
    "\n",
    "adata = sc.AnnData(X=X_tmp, obs=obs_tmp, var=var_tmp)\n",
    "adata"
   ]
  },
  {
   "cell_type": "code",
   "execution_count": 6,
   "metadata": {},
   "outputs": [
    {
     "data": {
      "text/html": [
       "<div>\n",
       "<style scoped>\n",
       "    .dataframe tbody tr th:only-of-type {\n",
       "        vertical-align: middle;\n",
       "    }\n",
       "\n",
       "    .dataframe tbody tr th {\n",
       "        vertical-align: top;\n",
       "    }\n",
       "\n",
       "    .dataframe thead th {\n",
       "        text-align: right;\n",
       "    }\n",
       "</style>\n",
       "<table border=\"1\" class=\"dataframe\">\n",
       "  <thead>\n",
       "    <tr style=\"text-align: right;\">\n",
       "      <th></th>\n",
       "    </tr>\n",
       "  </thead>\n",
       "  <tbody>\n",
       "    <tr>\n",
       "      <th>cds-AF52_RS00165</th>\n",
       "    </tr>\n",
       "    <tr>\n",
       "      <th>cds-AF52_RS00180</th>\n",
       "    </tr>\n",
       "    <tr>\n",
       "      <th>cds-AF52_RS00620</th>\n",
       "    </tr>\n",
       "    <tr>\n",
       "      <th>cds-AF52_RS01000</th>\n",
       "    </tr>\n",
       "    <tr>\n",
       "      <th>cds-AF52_RS01010</th>\n",
       "    </tr>\n",
       "    <tr>\n",
       "      <th>...</th>\n",
       "    </tr>\n",
       "    <tr>\n",
       "      <th>cds-WP_187079193.1</th>\n",
       "    </tr>\n",
       "    <tr>\n",
       "      <th>cds-WP_187079194.1</th>\n",
       "    </tr>\n",
       "    <tr>\n",
       "      <th>cds-WP_187079195.1</th>\n",
       "    </tr>\n",
       "    <tr>\n",
       "      <th>cds-WP_187079196.1</th>\n",
       "    </tr>\n",
       "    <tr>\n",
       "      <th>cds-WP_187079197.1</th>\n",
       "    </tr>\n",
       "  </tbody>\n",
       "</table>\n",
       "<p>3987 rows × 0 columns</p>\n",
       "</div>"
      ],
      "text/plain": [
       "Empty DataFrame\n",
       "Columns: []\n",
       "Index: [cds-AF52_RS00165, cds-AF52_RS00180, cds-AF52_RS00620, cds-AF52_RS01000, cds-AF52_RS01010, cds-AF52_RS01015, cds-AF52_RS01020, cds-AF52_RS01025, cds-AF52_RS01030, cds-AF52_RS01075, cds-AF52_RS01195, cds-AF52_RS0122900, cds-AF52_RS0122905, cds-AF52_RS0122945, cds-AF52_RS0122950, cds-AF52_RS0123015, cds-AF52_RS0123080, cds-AF52_RS0123140, cds-AF52_RS0123150, cds-AF52_RS0123155, cds-AF52_RS0123160, cds-AF52_RS0123220, cds-AF52_RS0123225, cds-AF52_RS0123260, cds-AF52_RS0123265, cds-AF52_RS0123290, cds-AF52_RS0123305, cds-AF52_RS0123325, cds-AF52_RS0123345, cds-AF52_RS0123360, cds-AF52_RS0123375, cds-AF52_RS0123460, cds-AF52_RS0123510, cds-AF52_RS0123600, cds-AF52_RS0123605, cds-AF52_RS0123640, cds-AF52_RS0123645, cds-AF52_RS0123810, cds-AF52_RS0123875, cds-AF52_RS0123915, cds-AF52_RS0123935, cds-AF52_RS0123960, cds-AF52_RS0123990, cds-AF52_RS0124095, cds-AF52_RS0124105, cds-AF52_RS0124110, cds-AF52_RS0124215, cds-AF52_RS0124245, cds-AF52_RS0124265, cds-AF52_RS0124285, cds-AF52_RS0124360, cds-AF52_RS0124460, cds-AF52_RS0124535, cds-AF52_RS0124695, cds-AF52_RS0124710, cds-AF52_RS0124720, cds-AF52_RS0124785, cds-AF52_RS01580, cds-AF52_RS01615, cds-AF52_RS02025, cds-AF52_RS02175, cds-AF52_RS02415, cds-AF52_RS02545, cds-AF52_RS03490, cds-AF52_RS03500, cds-AF52_RS04955, cds-AF52_RS05115, cds-AF52_RS05135, cds-AF52_RS05525, cds-AF52_RS06930, cds-AF52_RS07235, cds-AF52_RS07280, cds-AF52_RS07290, cds-AF52_RS07335, cds-AF52_RS07345, cds-AF52_RS07610, cds-AF52_RS08005, cds-AF52_RS08010, cds-AF52_RS08250, cds-AF52_RS08255, cds-AF52_RS08260, cds-AF52_RS08695, cds-AF52_RS09835, cds-AF52_RS09845, cds-AF52_RS09860, cds-AF52_RS10260, cds-AF52_RS10285, cds-AF52_RS10495, cds-AF52_RS10695, cds-AF52_RS11325, cds-AF52_RS11330, cds-AF52_RS11335, cds-AF52_RS11510, cds-AF52_RS11815, cds-AF52_RS11970, cds-AF52_RS13575, cds-AF52_RS13845, cds-AF52_RS14400, cds-AF52_RS14410, cds-AF52_RS14415, ...]\n",
       "\n",
       "[3987 rows x 0 columns]"
      ]
     },
     "execution_count": 6,
     "metadata": {},
     "output_type": "execute_result"
    }
   ],
   "source": [
    "adata.var"
   ]
  },
  {
   "cell_type": "code",
   "execution_count": 7,
   "metadata": {},
   "outputs": [
    {
     "data": {
      "text/html": [
       "<div>\n",
       "<style scoped>\n",
       "    .dataframe tbody tr th:only-of-type {\n",
       "        vertical-align: middle;\n",
       "    }\n",
       "\n",
       "    .dataframe tbody tr th {\n",
       "        vertical-align: top;\n",
       "    }\n",
       "\n",
       "    .dataframe thead th {\n",
       "        text-align: right;\n",
       "    }\n",
       "</style>\n",
       "<table border=\"1\" class=\"dataframe\">\n",
       "  <thead>\n",
       "    <tr style=\"text-align: right;\">\n",
       "      <th></th>\n",
       "      <th>gene</th>\n",
       "    </tr>\n",
       "  </thead>\n",
       "  <tbody>\n",
       "    <tr>\n",
       "      <th>cds-AF52_RS00165</th>\n",
       "      <td>AF52_RS00165</td>\n",
       "    </tr>\n",
       "    <tr>\n",
       "      <th>cds-AF52_RS00180</th>\n",
       "      <td>AF52_RS00180</td>\n",
       "    </tr>\n",
       "    <tr>\n",
       "      <th>cds-AF52_RS00620</th>\n",
       "      <td>AF52_RS00620</td>\n",
       "    </tr>\n",
       "    <tr>\n",
       "      <th>cds-AF52_RS01000</th>\n",
       "      <td>AF52_RS01000</td>\n",
       "    </tr>\n",
       "    <tr>\n",
       "      <th>cds-AF52_RS01010</th>\n",
       "      <td>AF52_RS01010</td>\n",
       "    </tr>\n",
       "    <tr>\n",
       "      <th>...</th>\n",
       "      <td>...</td>\n",
       "    </tr>\n",
       "    <tr>\n",
       "      <th>cds-WP_187079193.1</th>\n",
       "      <td>WP_187079193.1</td>\n",
       "    </tr>\n",
       "    <tr>\n",
       "      <th>cds-WP_187079194.1</th>\n",
       "      <td>WP_187079194.1</td>\n",
       "    </tr>\n",
       "    <tr>\n",
       "      <th>cds-WP_187079195.1</th>\n",
       "      <td>WP_187079195.1</td>\n",
       "    </tr>\n",
       "    <tr>\n",
       "      <th>cds-WP_187079196.1</th>\n",
       "      <td>WP_187079196.1</td>\n",
       "    </tr>\n",
       "    <tr>\n",
       "      <th>cds-WP_187079197.1</th>\n",
       "      <td>WP_187079197.1</td>\n",
       "    </tr>\n",
       "  </tbody>\n",
       "</table>\n",
       "<p>3987 rows × 1 columns</p>\n",
       "</div>"
      ],
      "text/plain": [
       "                              gene\n",
       "cds-AF52_RS00165      AF52_RS00165\n",
       "cds-AF52_RS00180      AF52_RS00180\n",
       "cds-AF52_RS00620      AF52_RS00620\n",
       "cds-AF52_RS01000      AF52_RS01000\n",
       "cds-AF52_RS01010      AF52_RS01010\n",
       "...                            ...\n",
       "cds-WP_187079193.1  WP_187079193.1\n",
       "cds-WP_187079194.1  WP_187079194.1\n",
       "cds-WP_187079195.1  WP_187079195.1\n",
       "cds-WP_187079196.1  WP_187079196.1\n",
       "cds-WP_187079197.1  WP_187079197.1\n",
       "\n",
       "[3987 rows x 1 columns]"
      ]
     },
     "execution_count": 7,
     "metadata": {},
     "output_type": "execute_result"
    }
   ],
   "source": [
    "adata.var[\"gene\"] = [gene[4:] for gene in adata.var.index]\n",
    "adata.var"
   ]
  },
  {
   "cell_type": "code",
   "execution_count": 8,
   "metadata": {},
   "outputs": [
    {
     "data": {
      "text/plain": [
       "3800"
      ]
     },
     "execution_count": 8,
     "metadata": {},
     "output_type": "execute_result"
    }
   ],
   "source": [
    "accession_numbers = [gene[4:] for gene in adata.var[adata.var.index.str.startswith(\"cds-WP\")].index.values]\n",
    "len(accession_numbers)"
   ]
  },
  {
   "cell_type": "code",
   "execution_count": 9,
   "metadata": {},
   "outputs": [
    {
     "name": "stderr",
     "output_type": "stream",
     "text": [
      "100%|██████████| 1247/1247 [00:00<00:00, 3135669.72it/s]\n",
      "  5%|▌         | 1/19 [00:03<01:05,  3.64s/it]"
     ]
    },
    {
     "name": "stdout",
     "output_type": "stream",
     "text": [
      "200\n"
     ]
    },
    {
     "name": "stderr",
     "output_type": "stream",
     "text": [
      "100%|██████████| 1304/1304 [00:00<00:00, 3308755.24it/s]\n",
      " 11%|█         | 2/19 [00:08<01:15,  4.43s/it]"
     ]
    },
    {
     "name": "stdout",
     "output_type": "stream",
     "text": [
      "400\n"
     ]
    },
    {
     "name": "stderr",
     "output_type": "stream",
     "text": [
      "100%|██████████| 1237/1237 [00:00<00:00, 3210615.13it/s]\n",
      " 16%|█▌        | 3/19 [00:14<01:17,  4.86s/it]"
     ]
    },
    {
     "name": "stdout",
     "output_type": "stream",
     "text": [
      "600\n"
     ]
    },
    {
     "name": "stderr",
     "output_type": "stream",
     "text": [
      "100%|██████████| 1233/1233 [00:00<00:00, 2487530.94it/s]\n",
      " 21%|██        | 4/19 [00:17<01:06,  4.46s/it]"
     ]
    },
    {
     "name": "stdout",
     "output_type": "stream",
     "text": [
      "800\n"
     ]
    },
    {
     "name": "stderr",
     "output_type": "stream",
     "text": [
      "100%|██████████| 1310/1310 [00:00<00:00, 3093771.53it/s]\n",
      " 26%|██▋       | 5/19 [00:20<00:52,  3.73s/it]"
     ]
    },
    {
     "name": "stdout",
     "output_type": "stream",
     "text": [
      "1000\n"
     ]
    },
    {
     "name": "stderr",
     "output_type": "stream",
     "text": [
      "100%|██████████| 1251/1251 [00:00<00:00, 2241381.59it/s]\n",
      " 32%|███▏      | 6/19 [00:23<00:46,  3.56s/it]"
     ]
    },
    {
     "name": "stdout",
     "output_type": "stream",
     "text": [
      "1200\n"
     ]
    },
    {
     "name": "stderr",
     "output_type": "stream",
     "text": [
      "100%|██████████| 1261/1261 [00:00<00:00, 3260799.84it/s]\n",
      " 37%|███▋      | 7/19 [00:26<00:40,  3.34s/it]"
     ]
    },
    {
     "name": "stdout",
     "output_type": "stream",
     "text": [
      "1400\n"
     ]
    },
    {
     "name": "stderr",
     "output_type": "stream",
     "text": [
      "100%|██████████| 1269/1269 [00:00<00:00, 2274603.32it/s]\n",
      " 42%|████▏     | 8/19 [00:29<00:35,  3.18s/it]"
     ]
    },
    {
     "name": "stdout",
     "output_type": "stream",
     "text": [
      "1599\n"
     ]
    },
    {
     "name": "stderr",
     "output_type": "stream",
     "text": [
      "100%|██████████| 1563/1563 [00:00<00:00, 3138198.73it/s]\n",
      " 47%|████▋     | 9/19 [00:31<00:30,  3.03s/it]"
     ]
    },
    {
     "name": "stdout",
     "output_type": "stream",
     "text": [
      "1799\n"
     ]
    },
    {
     "name": "stderr",
     "output_type": "stream",
     "text": [
      "100%|██████████| 1507/1507 [00:00<00:00, 2860097.80it/s]\n",
      " 53%|█████▎    | 10/19 [00:34<00:27,  3.01s/it]"
     ]
    },
    {
     "name": "stdout",
     "output_type": "stream",
     "text": [
      "1999\n"
     ]
    },
    {
     "name": "stderr",
     "output_type": "stream",
     "text": [
      "100%|██████████| 1436/1436 [00:00<00:00, 3001006.75it/s]\n",
      " 58%|█████▊    | 11/19 [00:37<00:24,  3.03s/it]"
     ]
    },
    {
     "name": "stdout",
     "output_type": "stream",
     "text": [
      "2198\n"
     ]
    },
    {
     "name": "stderr",
     "output_type": "stream",
     "text": [
      "100%|██████████| 1447/1447 [00:00<00:00, 2321789.55it/s]\n",
      " 63%|██████▎   | 12/19 [00:40<00:21,  3.02s/it]"
     ]
    },
    {
     "name": "stdout",
     "output_type": "stream",
     "text": [
      "2398\n"
     ]
    },
    {
     "name": "stderr",
     "output_type": "stream",
     "text": [
      "100%|██████████| 1405/1405 [00:00<00:00, 2965776.10it/s]\n",
      " 68%|██████▊   | 13/19 [00:43<00:17,  2.96s/it]"
     ]
    },
    {
     "name": "stdout",
     "output_type": "stream",
     "text": [
      "2598\n"
     ]
    },
    {
     "name": "stderr",
     "output_type": "stream",
     "text": [
      "100%|██████████| 324/324 [00:00<00:00, 2564065.09it/s]\n",
      " 74%|███████▎  | 14/19 [00:45<00:12,  2.45s/it]"
     ]
    },
    {
     "name": "stdout",
     "output_type": "stream",
     "text": [
      "2639\n"
     ]
    },
    {
     "name": "stderr",
     "output_type": "stream",
     "text": [
      "100%|██████████| 1507/1507 [00:00<00:00, 3198793.59it/s]\n",
      " 79%|███████▉  | 15/19 [00:48<00:10,  2.62s/it]"
     ]
    },
    {
     "name": "stdout",
     "output_type": "stream",
     "text": [
      "2834\n"
     ]
    },
    {
     "name": "stderr",
     "output_type": "stream",
     "text": [
      "100%|██████████| 1620/1620 [00:00<00:00, 3142817.98it/s]\n",
      " 84%|████████▍ | 16/19 [00:50<00:07,  2.49s/it]"
     ]
    },
    {
     "name": "stdout",
     "output_type": "stream",
     "text": [
      "3034\n"
     ]
    },
    {
     "name": "stderr",
     "output_type": "stream",
     "text": [
      "100%|██████████| 1545/1545 [00:00<00:00, 2011859.57it/s]\n",
      " 89%|████████▉ | 17/19 [00:54<00:05,  2.92s/it]"
     ]
    },
    {
     "name": "stdout",
     "output_type": "stream",
     "text": [
      "3233\n"
     ]
    },
    {
     "name": "stderr",
     "output_type": "stream",
     "text": [
      "100%|██████████| 1651/1651 [00:00<00:00, 3018655.58it/s]\n",
      " 95%|█████████▍| 18/19 [00:57<00:02,  2.93s/it]"
     ]
    },
    {
     "name": "stdout",
     "output_type": "stream",
     "text": [
      "3433\n"
     ]
    },
    {
     "name": "stderr",
     "output_type": "stream",
     "text": [
      "100%|██████████| 1545/1545 [00:00<00:00, 2003152.91it/s]\n",
      "100%|██████████| 19/19 [01:05<00:00,  3.44s/it]"
     ]
    },
    {
     "name": "stdout",
     "output_type": "stream",
     "text": [
      "3633\n"
     ]
    },
    {
     "name": "stderr",
     "output_type": "stream",
     "text": [
      "\n"
     ]
    }
   ],
   "source": [
    "batch_size = 200\n",
    "gene_to_protein = dict()\n",
    "\n",
    "for i in tqdm(range(0, len(accession_numbers), batch_size)):\n",
    "    try:\n",
    "        batch = accession_numbers[i:i + batch_size]\n",
    "        protein_names = fetch_protein_names(batch)\n",
    "        gene_to_protein.update(dict(zip(batch, protein_names)))\n",
    "        print(len(gene_to_protein))\n",
    "    except Exception as e:\n",
    "        print(f\"Error fetching batch {batch}: {e}\")\n",
    "        continue"
   ]
  },
  {
   "cell_type": "code",
   "execution_count": 11,
   "metadata": {},
   "outputs": [
    {
     "data": {
      "text/html": [
       "<div>\n",
       "<style scoped>\n",
       "    .dataframe tbody tr th:only-of-type {\n",
       "        vertical-align: middle;\n",
       "    }\n",
       "\n",
       "    .dataframe tbody tr th {\n",
       "        vertical-align: top;\n",
       "    }\n",
       "\n",
       "    .dataframe thead th {\n",
       "        text-align: right;\n",
       "    }\n",
       "</style>\n",
       "<table border=\"1\" class=\"dataframe\">\n",
       "  <thead>\n",
       "    <tr style=\"text-align: right;\">\n",
       "      <th></th>\n",
       "      <th>gene</th>\n",
       "      <th>long_protein_name</th>\n",
       "    </tr>\n",
       "  </thead>\n",
       "  <tbody>\n",
       "    <tr>\n",
       "      <th>cds-AF52_RS00165</th>\n",
       "      <td>AF52_RS00165</td>\n",
       "      <td>None</td>\n",
       "    </tr>\n",
       "    <tr>\n",
       "      <th>cds-AF52_RS00180</th>\n",
       "      <td>AF52_RS00180</td>\n",
       "      <td>None</td>\n",
       "    </tr>\n",
       "    <tr>\n",
       "      <th>cds-AF52_RS00620</th>\n",
       "      <td>AF52_RS00620</td>\n",
       "      <td>None</td>\n",
       "    </tr>\n",
       "    <tr>\n",
       "      <th>cds-AF52_RS01000</th>\n",
       "      <td>AF52_RS01000</td>\n",
       "      <td>None</td>\n",
       "    </tr>\n",
       "    <tr>\n",
       "      <th>cds-AF52_RS01010</th>\n",
       "      <td>AF52_RS01010</td>\n",
       "      <td>None</td>\n",
       "    </tr>\n",
       "    <tr>\n",
       "      <th>...</th>\n",
       "      <td>...</td>\n",
       "      <td>...</td>\n",
       "    </tr>\n",
       "    <tr>\n",
       "      <th>cds-WP_187079193.1</th>\n",
       "      <td>WP_187079193.1</td>\n",
       "      <td>WP_187079193.1 aspartate aminotransferase fami...</td>\n",
       "    </tr>\n",
       "    <tr>\n",
       "      <th>cds-WP_187079194.1</th>\n",
       "      <td>WP_187079194.1</td>\n",
       "      <td>WP_187079194.1 ribokinase [Klebsiella pneumoniae]</td>\n",
       "    </tr>\n",
       "    <tr>\n",
       "      <th>cds-WP_187079195.1</th>\n",
       "      <td>WP_187079195.1</td>\n",
       "      <td>WP_187079195.1 HlyD family efflux transporter ...</td>\n",
       "    </tr>\n",
       "    <tr>\n",
       "      <th>cds-WP_187079196.1</th>\n",
       "      <td>WP_187079196.1</td>\n",
       "      <td>WP_187079196.1 6-carboxytetrahydropterin synth...</td>\n",
       "    </tr>\n",
       "    <tr>\n",
       "      <th>cds-WP_187079197.1</th>\n",
       "      <td>WP_187079197.1</td>\n",
       "      <td>WP_187079197.1 bifunctional ADP-dependent NAD(...</td>\n",
       "    </tr>\n",
       "  </tbody>\n",
       "</table>\n",
       "<p>3987 rows × 2 columns</p>\n",
       "</div>"
      ],
      "text/plain": [
       "                              gene  \\\n",
       "cds-AF52_RS00165      AF52_RS00165   \n",
       "cds-AF52_RS00180      AF52_RS00180   \n",
       "cds-AF52_RS00620      AF52_RS00620   \n",
       "cds-AF52_RS01000      AF52_RS01000   \n",
       "cds-AF52_RS01010      AF52_RS01010   \n",
       "...                            ...   \n",
       "cds-WP_187079193.1  WP_187079193.1   \n",
       "cds-WP_187079194.1  WP_187079194.1   \n",
       "cds-WP_187079195.1  WP_187079195.1   \n",
       "cds-WP_187079196.1  WP_187079196.1   \n",
       "cds-WP_187079197.1  WP_187079197.1   \n",
       "\n",
       "                                                    long_protein_name  \n",
       "cds-AF52_RS00165                                                 None  \n",
       "cds-AF52_RS00180                                                 None  \n",
       "cds-AF52_RS00620                                                 None  \n",
       "cds-AF52_RS01000                                                 None  \n",
       "cds-AF52_RS01010                                                 None  \n",
       "...                                                               ...  \n",
       "cds-WP_187079193.1  WP_187079193.1 aspartate aminotransferase fami...  \n",
       "cds-WP_187079194.1  WP_187079194.1 ribokinase [Klebsiella pneumoniae]  \n",
       "cds-WP_187079195.1  WP_187079195.1 HlyD family efflux transporter ...  \n",
       "cds-WP_187079196.1  WP_187079196.1 6-carboxytetrahydropterin synth...  \n",
       "cds-WP_187079197.1  WP_187079197.1 bifunctional ADP-dependent NAD(...  \n",
       "\n",
       "[3987 rows x 2 columns]"
      ]
     },
     "execution_count": 11,
     "metadata": {},
     "output_type": "execute_result"
    }
   ],
   "source": [
    "adata.var['long_protein_name'] = adata.var['gene'].map(gene_to_protein)\n",
    "adata.var['long_protein_name'].fillna(\"None\", inplace=True)\n",
    "adata.var"
   ]
  },
  {
   "cell_type": "code",
   "execution_count": 12,
   "metadata": {},
   "outputs": [
    {
     "data": {
      "text/plain": [
       "Klebsiella                     2291\n",
       "Klebsiella pneumoniae           741\n",
       "Enterobacteriaceae              332\n",
       "Gammaproteobacteria             121\n",
       "Enterobacterales                 67\n",
       "Bacteria                         54\n",
       "Klebsiella/Raoultella group      15\n",
       "Pseudomonadota                    9\n",
       "Klebsiella quasipneumoniae        2\n",
       "Klebsiella grimontii              1\n",
       "Name: species, dtype: int64"
      ]
     },
     "execution_count": 12,
     "metadata": {},
     "output_type": "execute_result"
    }
   ],
   "source": [
    "adata.var['species'] = adata.var['long_protein_name'].str.extract(r'\\[([^]]+)\\]$')\n",
    "adata.var.species.value_counts()"
   ]
  },
  {
   "cell_type": "code",
   "execution_count": 13,
   "metadata": {},
   "outputs": [
    {
     "data": {
      "text/html": [
       "<div>\n",
       "<style scoped>\n",
       "    .dataframe tbody tr th:only-of-type {\n",
       "        vertical-align: middle;\n",
       "    }\n",
       "\n",
       "    .dataframe tbody tr th {\n",
       "        vertical-align: top;\n",
       "    }\n",
       "\n",
       "    .dataframe thead th {\n",
       "        text-align: right;\n",
       "    }\n",
       "</style>\n",
       "<table border=\"1\" class=\"dataframe\">\n",
       "  <thead>\n",
       "    <tr style=\"text-align: right;\">\n",
       "      <th></th>\n",
       "      <th>gene</th>\n",
       "      <th>long_protein_name</th>\n",
       "      <th>species</th>\n",
       "      <th>protein_name</th>\n",
       "    </tr>\n",
       "  </thead>\n",
       "  <tbody>\n",
       "    <tr>\n",
       "      <th>cds-AF52_RS00165</th>\n",
       "      <td>AF52_RS00165</td>\n",
       "      <td>None</td>\n",
       "      <td>NaN</td>\n",
       "      <td>NaN</td>\n",
       "    </tr>\n",
       "    <tr>\n",
       "      <th>cds-AF52_RS00180</th>\n",
       "      <td>AF52_RS00180</td>\n",
       "      <td>None</td>\n",
       "      <td>NaN</td>\n",
       "      <td>NaN</td>\n",
       "    </tr>\n",
       "    <tr>\n",
       "      <th>cds-AF52_RS00620</th>\n",
       "      <td>AF52_RS00620</td>\n",
       "      <td>None</td>\n",
       "      <td>NaN</td>\n",
       "      <td>NaN</td>\n",
       "    </tr>\n",
       "    <tr>\n",
       "      <th>cds-AF52_RS01000</th>\n",
       "      <td>AF52_RS01000</td>\n",
       "      <td>None</td>\n",
       "      <td>NaN</td>\n",
       "      <td>NaN</td>\n",
       "    </tr>\n",
       "    <tr>\n",
       "      <th>cds-AF52_RS01010</th>\n",
       "      <td>AF52_RS01010</td>\n",
       "      <td>None</td>\n",
       "      <td>NaN</td>\n",
       "      <td>NaN</td>\n",
       "    </tr>\n",
       "    <tr>\n",
       "      <th>...</th>\n",
       "      <td>...</td>\n",
       "      <td>...</td>\n",
       "      <td>...</td>\n",
       "      <td>...</td>\n",
       "    </tr>\n",
       "    <tr>\n",
       "      <th>cds-WP_187079193.1</th>\n",
       "      <td>WP_187079193.1</td>\n",
       "      <td>WP_187079193.1 aspartate aminotransferase fami...</td>\n",
       "      <td>Klebsiella pneumoniae</td>\n",
       "      <td>aspartate aminotransferase family protein</td>\n",
       "    </tr>\n",
       "    <tr>\n",
       "      <th>cds-WP_187079194.1</th>\n",
       "      <td>WP_187079194.1</td>\n",
       "      <td>WP_187079194.1 ribokinase [Klebsiella pneumoniae]</td>\n",
       "      <td>Klebsiella pneumoniae</td>\n",
       "      <td>ribokinase</td>\n",
       "    </tr>\n",
       "    <tr>\n",
       "      <th>cds-WP_187079195.1</th>\n",
       "      <td>WP_187079195.1</td>\n",
       "      <td>WP_187079195.1 HlyD family efflux transporter ...</td>\n",
       "      <td>Klebsiella pneumoniae</td>\n",
       "      <td>HlyD family efflux transporter periplasmic ada...</td>\n",
       "    </tr>\n",
       "    <tr>\n",
       "      <th>cds-WP_187079196.1</th>\n",
       "      <td>WP_187079196.1</td>\n",
       "      <td>WP_187079196.1 6-carboxytetrahydropterin synth...</td>\n",
       "      <td>Klebsiella pneumoniae</td>\n",
       "      <td>6-carboxytetrahydropterin synthase QueD</td>\n",
       "    </tr>\n",
       "    <tr>\n",
       "      <th>cds-WP_187079197.1</th>\n",
       "      <td>WP_187079197.1</td>\n",
       "      <td>WP_187079197.1 bifunctional ADP-dependent NAD(...</td>\n",
       "      <td>Klebsiella pneumoniae</td>\n",
       "      <td>bifunctional ADP-dependent NAD(P)H-hydrate deh...</td>\n",
       "    </tr>\n",
       "  </tbody>\n",
       "</table>\n",
       "<p>3987 rows × 4 columns</p>\n",
       "</div>"
      ],
      "text/plain": [
       "                              gene  \\\n",
       "cds-AF52_RS00165      AF52_RS00165   \n",
       "cds-AF52_RS00180      AF52_RS00180   \n",
       "cds-AF52_RS00620      AF52_RS00620   \n",
       "cds-AF52_RS01000      AF52_RS01000   \n",
       "cds-AF52_RS01010      AF52_RS01010   \n",
       "...                            ...   \n",
       "cds-WP_187079193.1  WP_187079193.1   \n",
       "cds-WP_187079194.1  WP_187079194.1   \n",
       "cds-WP_187079195.1  WP_187079195.1   \n",
       "cds-WP_187079196.1  WP_187079196.1   \n",
       "cds-WP_187079197.1  WP_187079197.1   \n",
       "\n",
       "                                                    long_protein_name  \\\n",
       "cds-AF52_RS00165                                                 None   \n",
       "cds-AF52_RS00180                                                 None   \n",
       "cds-AF52_RS00620                                                 None   \n",
       "cds-AF52_RS01000                                                 None   \n",
       "cds-AF52_RS01010                                                 None   \n",
       "...                                                               ...   \n",
       "cds-WP_187079193.1  WP_187079193.1 aspartate aminotransferase fami...   \n",
       "cds-WP_187079194.1  WP_187079194.1 ribokinase [Klebsiella pneumoniae]   \n",
       "cds-WP_187079195.1  WP_187079195.1 HlyD family efflux transporter ...   \n",
       "cds-WP_187079196.1  WP_187079196.1 6-carboxytetrahydropterin synth...   \n",
       "cds-WP_187079197.1  WP_187079197.1 bifunctional ADP-dependent NAD(...   \n",
       "\n",
       "                                  species  \\\n",
       "cds-AF52_RS00165                      NaN   \n",
       "cds-AF52_RS00180                      NaN   \n",
       "cds-AF52_RS00620                      NaN   \n",
       "cds-AF52_RS01000                      NaN   \n",
       "cds-AF52_RS01010                      NaN   \n",
       "...                                   ...   \n",
       "cds-WP_187079193.1  Klebsiella pneumoniae   \n",
       "cds-WP_187079194.1  Klebsiella pneumoniae   \n",
       "cds-WP_187079195.1  Klebsiella pneumoniae   \n",
       "cds-WP_187079196.1  Klebsiella pneumoniae   \n",
       "cds-WP_187079197.1  Klebsiella pneumoniae   \n",
       "\n",
       "                                                         protein_name  \n",
       "cds-AF52_RS00165                                                  NaN  \n",
       "cds-AF52_RS00180                                                  NaN  \n",
       "cds-AF52_RS00620                                                  NaN  \n",
       "cds-AF52_RS01000                                                  NaN  \n",
       "cds-AF52_RS01010                                                  NaN  \n",
       "...                                                               ...  \n",
       "cds-WP_187079193.1          aspartate aminotransferase family protein  \n",
       "cds-WP_187079194.1                                         ribokinase  \n",
       "cds-WP_187079195.1  HlyD family efflux transporter periplasmic ada...  \n",
       "cds-WP_187079196.1            6-carboxytetrahydropterin synthase QueD  \n",
       "cds-WP_187079197.1  bifunctional ADP-dependent NAD(P)H-hydrate deh...  \n",
       "\n",
       "[3987 rows x 4 columns]"
      ]
     },
     "execution_count": 13,
     "metadata": {},
     "output_type": "execute_result"
    }
   ],
   "source": [
    "adata.var['protein_name'] = adata.var['long_protein_name'].str.split(' ', 1).str[1].str.rsplit('[', 1).str[0].str.strip()\n",
    "adata.var"
   ]
  },
  {
   "cell_type": "code",
   "execution_count": 17,
   "metadata": {},
   "outputs": [
    {
     "data": {
      "text/plain": [
       "False    3926\n",
       "True       61\n",
       "Name: rRNA, dtype: int64"
      ]
     },
     "execution_count": 17,
     "metadata": {},
     "output_type": "execute_result"
    }
   ],
   "source": [
    "adata.var['rRNA'] = adata.var['long_protein_name'].str.contains(r'30S|50S')\n",
    "adata.var[\"rRNA\"].value_counts()"
   ]
  },
  {
   "cell_type": "code",
   "execution_count": 18,
   "metadata": {},
   "outputs": [],
   "source": [
    "sc.write(adata=adata, filename=\"../data/preprocessed/MGH66_P2_meropenem.h5ad\")"
   ]
  },
  {
   "cell_type": "markdown",
   "metadata": {},
   "source": [
    "# P3"
   ]
  },
  {
   "cell_type": "code",
   "execution_count": 3,
   "metadata": {},
   "outputs": [],
   "source": [
    "adata = sc.read_csv(filename=path_raw_data + experiments[2], delimiter='\\t')"
   ]
  },
  {
   "cell_type": "code",
   "execution_count": 4,
   "metadata": {},
   "outputs": [
    {
     "data": {
      "text/plain": [
       "AnnData object with n_obs × n_vars = 3391 × 390322"
      ]
     },
     "execution_count": 4,
     "metadata": {},
     "output_type": "execute_result"
    }
   ],
   "source": [
    "adata"
   ]
  },
  {
   "cell_type": "code",
   "execution_count": 5,
   "metadata": {},
   "outputs": [
    {
     "data": {
      "text/plain": [
       "AnnData object with n_obs × n_vars = 390322 × 3391"
      ]
     },
     "execution_count": 5,
     "metadata": {},
     "output_type": "execute_result"
    }
   ],
   "source": [
    "obs_tmp = adata.var.copy()\n",
    "var_tmp = adata.obs.copy()\n",
    "X_tmp = csr_matrix(adata.X.T)\n",
    "\n",
    "adata = sc.AnnData(X=X_tmp, obs=obs_tmp, var=var_tmp)\n",
    "adata"
   ]
  },
  {
   "cell_type": "code",
   "execution_count": 6,
   "metadata": {},
   "outputs": [
    {
     "data": {
      "text/html": [
       "<div>\n",
       "<style scoped>\n",
       "    .dataframe tbody tr th:only-of-type {\n",
       "        vertical-align: middle;\n",
       "    }\n",
       "\n",
       "    .dataframe tbody tr th {\n",
       "        vertical-align: top;\n",
       "    }\n",
       "\n",
       "    .dataframe thead th {\n",
       "        text-align: right;\n",
       "    }\n",
       "</style>\n",
       "<table border=\"1\" class=\"dataframe\">\n",
       "  <thead>\n",
       "    <tr style=\"text-align: right;\">\n",
       "      <th></th>\n",
       "      <th>gene</th>\n",
       "    </tr>\n",
       "  </thead>\n",
       "  <tbody>\n",
       "    <tr>\n",
       "      <th>cds-AF52_RS00165</th>\n",
       "      <td>AF52_RS00165</td>\n",
       "    </tr>\n",
       "    <tr>\n",
       "      <th>cds-AF52_RS00275</th>\n",
       "      <td>AF52_RS00275</td>\n",
       "    </tr>\n",
       "    <tr>\n",
       "      <th>cds-AF52_RS00620</th>\n",
       "      <td>AF52_RS00620</td>\n",
       "    </tr>\n",
       "    <tr>\n",
       "      <th>cds-AF52_RS01000</th>\n",
       "      <td>AF52_RS01000</td>\n",
       "    </tr>\n",
       "    <tr>\n",
       "      <th>cds-AF52_RS01010</th>\n",
       "      <td>AF52_RS01010</td>\n",
       "    </tr>\n",
       "    <tr>\n",
       "      <th>...</th>\n",
       "      <td>...</td>\n",
       "    </tr>\n",
       "    <tr>\n",
       "      <th>cds-WP_187079193.1</th>\n",
       "      <td>WP_187079193.1</td>\n",
       "    </tr>\n",
       "    <tr>\n",
       "      <th>cds-WP_187079194.1</th>\n",
       "      <td>WP_187079194.1</td>\n",
       "    </tr>\n",
       "    <tr>\n",
       "      <th>cds-WP_187079195.1</th>\n",
       "      <td>WP_187079195.1</td>\n",
       "    </tr>\n",
       "    <tr>\n",
       "      <th>cds-WP_187079196.1</th>\n",
       "      <td>WP_187079196.1</td>\n",
       "    </tr>\n",
       "    <tr>\n",
       "      <th>cds-WP_187079197.1</th>\n",
       "      <td>WP_187079197.1</td>\n",
       "    </tr>\n",
       "  </tbody>\n",
       "</table>\n",
       "<p>3391 rows × 1 columns</p>\n",
       "</div>"
      ],
      "text/plain": [
       "                              gene\n",
       "cds-AF52_RS00165      AF52_RS00165\n",
       "cds-AF52_RS00275      AF52_RS00275\n",
       "cds-AF52_RS00620      AF52_RS00620\n",
       "cds-AF52_RS01000      AF52_RS01000\n",
       "cds-AF52_RS01010      AF52_RS01010\n",
       "...                            ...\n",
       "cds-WP_187079193.1  WP_187079193.1\n",
       "cds-WP_187079194.1  WP_187079194.1\n",
       "cds-WP_187079195.1  WP_187079195.1\n",
       "cds-WP_187079196.1  WP_187079196.1\n",
       "cds-WP_187079197.1  WP_187079197.1\n",
       "\n",
       "[3391 rows x 1 columns]"
      ]
     },
     "execution_count": 6,
     "metadata": {},
     "output_type": "execute_result"
    }
   ],
   "source": [
    "adata.var[\"gene\"] = [gene[4:] for gene in adata.var.index]\n",
    "adata.var"
   ]
  },
  {
   "cell_type": "code",
   "execution_count": 7,
   "metadata": {},
   "outputs": [
    {
     "data": {
      "text/plain": [
       "3246"
      ]
     },
     "execution_count": 7,
     "metadata": {},
     "output_type": "execute_result"
    }
   ],
   "source": [
    "accession_numbers = [gene[4:] for gene in adata.var[adata.var.index.str.startswith(\"cds-WP\")].index.values]\n",
    "len(accession_numbers)"
   ]
  },
  {
   "cell_type": "code",
   "execution_count": 8,
   "metadata": {},
   "outputs": [
    {
     "name": "stderr",
     "output_type": "stream",
     "text": [
      "100%|██████████| 1251/1251 [00:00<00:00, 2405811.24it/s]\n",
      "  6%|▌         | 1/17 [00:03<00:57,  3.56s/it]"
     ]
    },
    {
     "name": "stdout",
     "output_type": "stream",
     "text": [
      "200\n"
     ]
    },
    {
     "name": "stderr",
     "output_type": "stream",
     "text": [
      "100%|██████████| 1320/1320 [00:00<00:00, 2724646.30it/s]\n",
      " 12%|█▏        | 2/17 [00:07<01:00,  4.05s/it]"
     ]
    },
    {
     "name": "stdout",
     "output_type": "stream",
     "text": [
      "400\n"
     ]
    },
    {
     "name": "stderr",
     "output_type": "stream",
     "text": [
      "100%|██████████| 1279/1279 [00:00<00:00, 2749623.18it/s]\n",
      " 18%|█▊        | 3/17 [00:11<00:52,  3.75s/it]"
     ]
    },
    {
     "name": "stdout",
     "output_type": "stream",
     "text": [
      "600\n"
     ]
    },
    {
     "name": "stderr",
     "output_type": "stream",
     "text": [
      "100%|██████████| 1272/1272 [00:00<00:00, 3181368.33it/s]\n",
      " 24%|██▎       | 4/17 [00:14<00:47,  3.65s/it]"
     ]
    },
    {
     "name": "stdout",
     "output_type": "stream",
     "text": [
      "800\n"
     ]
    },
    {
     "name": "stderr",
     "output_type": "stream",
     "text": [
      "100%|██████████| 1293/1293 [00:00<00:00, 3207117.13it/s]\n",
      " 29%|██▉       | 5/17 [00:17<00:39,  3.32s/it]"
     ]
    },
    {
     "name": "stdout",
     "output_type": "stream",
     "text": [
      "1000\n"
     ]
    },
    {
     "name": "stderr",
     "output_type": "stream",
     "text": [
      "100%|██████████| 1241/1241 [00:00<00:00, 3081782.87it/s]\n",
      " 35%|███▌      | 6/17 [00:20<00:34,  3.12s/it]"
     ]
    },
    {
     "name": "stdout",
     "output_type": "stream",
     "text": [
      "1200\n"
     ]
    },
    {
     "name": "stderr",
     "output_type": "stream",
     "text": [
      "100%|██████████| 1309/1309 [00:00<00:00, 2479830.14it/s]\n",
      " 41%|████      | 7/17 [00:23<00:30,  3.03s/it]"
     ]
    },
    {
     "name": "stdout",
     "output_type": "stream",
     "text": [
      "1399\n"
     ]
    },
    {
     "name": "stderr",
     "output_type": "stream",
     "text": [
      "100%|██████████| 1577/1577 [00:00<00:00, 3228119.77it/s]\n",
      " 47%|████▋     | 8/17 [00:26<00:28,  3.13s/it]"
     ]
    },
    {
     "name": "stdout",
     "output_type": "stream",
     "text": [
      "1599\n"
     ]
    },
    {
     "name": "stderr",
     "output_type": "stream",
     "text": [
      "100%|██████████| 1451/1451 [00:00<00:00, 1754377.37it/s]\n",
      " 53%|█████▎    | 9/17 [00:30<00:26,  3.34s/it]"
     ]
    },
    {
     "name": "stdout",
     "output_type": "stream",
     "text": [
      "1797\n"
     ]
    },
    {
     "name": "stderr",
     "output_type": "stream",
     "text": [
      "100%|██████████| 1469/1469 [00:00<00:00, 2615209.07it/s]\n",
      " 59%|█████▉    | 10/17 [00:35<00:27,  3.88s/it]"
     ]
    },
    {
     "name": "stdout",
     "output_type": "stream",
     "text": [
      "1997\n"
     ]
    },
    {
     "name": "stderr",
     "output_type": "stream",
     "text": [
      "100%|██████████| 1435/1435 [00:00<00:00, 3340081.15it/s]\n",
      " 65%|██████▍   | 11/17 [00:40<00:24,  4.13s/it]"
     ]
    },
    {
     "name": "stdout",
     "output_type": "stream",
     "text": [
      "2197\n"
     ]
    },
    {
     "name": "stderr",
     "output_type": "stream",
     "text": [
      "100%|██████████| 943/943 [00:00<00:00, 2985078.24it/s]\n",
      " 71%|███████   | 12/17 [00:43<00:20,  4.00s/it]"
     ]
    },
    {
     "name": "stdout",
     "output_type": "stream",
     "text": [
      "2315\n"
     ]
    },
    {
     "name": "stderr",
     "output_type": "stream",
     "text": [
      "100%|██████████| 1480/1480 [00:00<00:00, 3105337.63it/s]\n",
      " 76%|███████▋  | 13/17 [00:48<00:16,  4.22s/it]"
     ]
    },
    {
     "name": "stdout",
     "output_type": "stream",
     "text": [
      "2510\n"
     ]
    },
    {
     "name": "stderr",
     "output_type": "stream",
     "text": [
      "100%|██████████| 1615/1615 [00:00<00:00, 2967061.31it/s]\n",
      " 82%|████████▏ | 14/17 [00:54<00:14,  4.84s/it]"
     ]
    },
    {
     "name": "stdout",
     "output_type": "stream",
     "text": [
      "2709\n"
     ]
    },
    {
     "name": "stderr",
     "output_type": "stream",
     "text": [
      "100%|██████████| 1615/1615 [00:00<00:00, 2235577.87it/s]\n",
      " 88%|████████▊ | 15/17 [00:59<00:09,  4.70s/it]"
     ]
    },
    {
     "name": "stdout",
     "output_type": "stream",
     "text": [
      "2909\n"
     ]
    },
    {
     "name": "stderr",
     "output_type": "stream",
     "text": [
      "100%|██████████| 1671/1671 [00:00<00:00, 1697839.63it/s]\n",
      " 94%|█████████▍| 16/17 [01:03<00:04,  4.50s/it]"
     ]
    },
    {
     "name": "stdout",
     "output_type": "stream",
     "text": [
      "3109\n"
     ]
    },
    {
     "name": "stderr",
     "output_type": "stream",
     "text": [
      "100%|██████████| 280/280 [00:00<00:00, 1727066.35it/s]\n",
      "100%|██████████| 17/17 [01:07<00:00,  3.99s/it]"
     ]
    },
    {
     "name": "stdout",
     "output_type": "stream",
     "text": [
      "3155\n"
     ]
    },
    {
     "name": "stderr",
     "output_type": "stream",
     "text": [
      "\n"
     ]
    }
   ],
   "source": [
    "batch_size = 200\n",
    "gene_to_protein = dict()\n",
    "\n",
    "for i in tqdm(range(0, len(accession_numbers), batch_size)):\n",
    "    try:\n",
    "        batch = accession_numbers[i:i + batch_size]\n",
    "        protein_names = fetch_protein_names(batch)\n",
    "        gene_to_protein.update(dict(zip(batch, protein_names)))\n",
    "        print(len(gene_to_protein))\n",
    "    except Exception as e:\n",
    "        print(f\"Error fetching batch {batch}: {e}\")\n",
    "        continue"
   ]
  },
  {
   "cell_type": "code",
   "execution_count": 9,
   "metadata": {},
   "outputs": [
    {
     "data": {
      "text/html": [
       "<div>\n",
       "<style scoped>\n",
       "    .dataframe tbody tr th:only-of-type {\n",
       "        vertical-align: middle;\n",
       "    }\n",
       "\n",
       "    .dataframe tbody tr th {\n",
       "        vertical-align: top;\n",
       "    }\n",
       "\n",
       "    .dataframe thead th {\n",
       "        text-align: right;\n",
       "    }\n",
       "</style>\n",
       "<table border=\"1\" class=\"dataframe\">\n",
       "  <thead>\n",
       "    <tr style=\"text-align: right;\">\n",
       "      <th></th>\n",
       "      <th>gene</th>\n",
       "      <th>long_protein_name</th>\n",
       "      <th>species</th>\n",
       "      <th>protein_name</th>\n",
       "      <th>rRNA</th>\n",
       "    </tr>\n",
       "  </thead>\n",
       "  <tbody>\n",
       "    <tr>\n",
       "      <th>cds-AF52_RS00165</th>\n",
       "      <td>AF52_RS00165</td>\n",
       "      <td>None</td>\n",
       "      <td>NaN</td>\n",
       "      <td>NaN</td>\n",
       "      <td>False</td>\n",
       "    </tr>\n",
       "    <tr>\n",
       "      <th>cds-AF52_RS00275</th>\n",
       "      <td>AF52_RS00275</td>\n",
       "      <td>None</td>\n",
       "      <td>NaN</td>\n",
       "      <td>NaN</td>\n",
       "      <td>False</td>\n",
       "    </tr>\n",
       "    <tr>\n",
       "      <th>cds-AF52_RS00620</th>\n",
       "      <td>AF52_RS00620</td>\n",
       "      <td>None</td>\n",
       "      <td>NaN</td>\n",
       "      <td>NaN</td>\n",
       "      <td>False</td>\n",
       "    </tr>\n",
       "    <tr>\n",
       "      <th>cds-AF52_RS01000</th>\n",
       "      <td>AF52_RS01000</td>\n",
       "      <td>None</td>\n",
       "      <td>NaN</td>\n",
       "      <td>NaN</td>\n",
       "      <td>False</td>\n",
       "    </tr>\n",
       "    <tr>\n",
       "      <th>cds-AF52_RS01010</th>\n",
       "      <td>AF52_RS01010</td>\n",
       "      <td>None</td>\n",
       "      <td>NaN</td>\n",
       "      <td>NaN</td>\n",
       "      <td>False</td>\n",
       "    </tr>\n",
       "    <tr>\n",
       "      <th>...</th>\n",
       "      <td>...</td>\n",
       "      <td>...</td>\n",
       "      <td>...</td>\n",
       "      <td>...</td>\n",
       "      <td>...</td>\n",
       "    </tr>\n",
       "    <tr>\n",
       "      <th>cds-WP_187079193.1</th>\n",
       "      <td>WP_187079193.1</td>\n",
       "      <td>WP_187079193.1 aspartate aminotransferase fami...</td>\n",
       "      <td>Klebsiella pneumoniae</td>\n",
       "      <td>aspartate aminotransferase family protein</td>\n",
       "      <td>False</td>\n",
       "    </tr>\n",
       "    <tr>\n",
       "      <th>cds-WP_187079194.1</th>\n",
       "      <td>WP_187079194.1</td>\n",
       "      <td>WP_187079194.1 ribokinase [Klebsiella pneumoniae]</td>\n",
       "      <td>Klebsiella pneumoniae</td>\n",
       "      <td>ribokinase</td>\n",
       "      <td>False</td>\n",
       "    </tr>\n",
       "    <tr>\n",
       "      <th>cds-WP_187079195.1</th>\n",
       "      <td>WP_187079195.1</td>\n",
       "      <td>WP_187079195.1 HlyD family efflux transporter ...</td>\n",
       "      <td>Klebsiella pneumoniae</td>\n",
       "      <td>HlyD family efflux transporter periplasmic ada...</td>\n",
       "      <td>False</td>\n",
       "    </tr>\n",
       "    <tr>\n",
       "      <th>cds-WP_187079196.1</th>\n",
       "      <td>WP_187079196.1</td>\n",
       "      <td>WP_187079196.1 6-carboxytetrahydropterin synth...</td>\n",
       "      <td>Klebsiella pneumoniae</td>\n",
       "      <td>6-carboxytetrahydropterin synthase QueD</td>\n",
       "      <td>False</td>\n",
       "    </tr>\n",
       "    <tr>\n",
       "      <th>cds-WP_187079197.1</th>\n",
       "      <td>WP_187079197.1</td>\n",
       "      <td>WP_187079197.1 bifunctional ADP-dependent NAD(...</td>\n",
       "      <td>Klebsiella pneumoniae</td>\n",
       "      <td>bifunctional ADP-dependent NAD(P)H-hydrate deh...</td>\n",
       "      <td>False</td>\n",
       "    </tr>\n",
       "  </tbody>\n",
       "</table>\n",
       "<p>3391 rows × 5 columns</p>\n",
       "</div>"
      ],
      "text/plain": [
       "                              gene  \\\n",
       "cds-AF52_RS00165      AF52_RS00165   \n",
       "cds-AF52_RS00275      AF52_RS00275   \n",
       "cds-AF52_RS00620      AF52_RS00620   \n",
       "cds-AF52_RS01000      AF52_RS01000   \n",
       "cds-AF52_RS01010      AF52_RS01010   \n",
       "...                            ...   \n",
       "cds-WP_187079193.1  WP_187079193.1   \n",
       "cds-WP_187079194.1  WP_187079194.1   \n",
       "cds-WP_187079195.1  WP_187079195.1   \n",
       "cds-WP_187079196.1  WP_187079196.1   \n",
       "cds-WP_187079197.1  WP_187079197.1   \n",
       "\n",
       "                                                    long_protein_name  \\\n",
       "cds-AF52_RS00165                                                 None   \n",
       "cds-AF52_RS00275                                                 None   \n",
       "cds-AF52_RS00620                                                 None   \n",
       "cds-AF52_RS01000                                                 None   \n",
       "cds-AF52_RS01010                                                 None   \n",
       "...                                                               ...   \n",
       "cds-WP_187079193.1  WP_187079193.1 aspartate aminotransferase fami...   \n",
       "cds-WP_187079194.1  WP_187079194.1 ribokinase [Klebsiella pneumoniae]   \n",
       "cds-WP_187079195.1  WP_187079195.1 HlyD family efflux transporter ...   \n",
       "cds-WP_187079196.1  WP_187079196.1 6-carboxytetrahydropterin synth...   \n",
       "cds-WP_187079197.1  WP_187079197.1 bifunctional ADP-dependent NAD(...   \n",
       "\n",
       "                                  species  \\\n",
       "cds-AF52_RS00165                      NaN   \n",
       "cds-AF52_RS00275                      NaN   \n",
       "cds-AF52_RS00620                      NaN   \n",
       "cds-AF52_RS01000                      NaN   \n",
       "cds-AF52_RS01010                      NaN   \n",
       "...                                   ...   \n",
       "cds-WP_187079193.1  Klebsiella pneumoniae   \n",
       "cds-WP_187079194.1  Klebsiella pneumoniae   \n",
       "cds-WP_187079195.1  Klebsiella pneumoniae   \n",
       "cds-WP_187079196.1  Klebsiella pneumoniae   \n",
       "cds-WP_187079197.1  Klebsiella pneumoniae   \n",
       "\n",
       "                                                         protein_name   rRNA  \n",
       "cds-AF52_RS00165                                                  NaN  False  \n",
       "cds-AF52_RS00275                                                  NaN  False  \n",
       "cds-AF52_RS00620                                                  NaN  False  \n",
       "cds-AF52_RS01000                                                  NaN  False  \n",
       "cds-AF52_RS01010                                                  NaN  False  \n",
       "...                                                               ...    ...  \n",
       "cds-WP_187079193.1          aspartate aminotransferase family protein  False  \n",
       "cds-WP_187079194.1                                         ribokinase  False  \n",
       "cds-WP_187079195.1  HlyD family efflux transporter periplasmic ada...  False  \n",
       "cds-WP_187079196.1            6-carboxytetrahydropterin synthase QueD  False  \n",
       "cds-WP_187079197.1  bifunctional ADP-dependent NAD(P)H-hydrate deh...  False  \n",
       "\n",
       "[3391 rows x 5 columns]"
      ]
     },
     "execution_count": 9,
     "metadata": {},
     "output_type": "execute_result"
    }
   ],
   "source": [
    "adata.var['long_protein_name'] = adata.var['gene'].map(gene_to_protein)\n",
    "adata.var['long_protein_name'].fillna(\"None\", inplace=True)\n",
    "\n",
    "adata.var['species'] = adata.var['long_protein_name'].str.extract(r'\\[([^]]+)\\]$')\n",
    "\n",
    "adata.var['protein_name'] = adata.var['long_protein_name'].str.split(' ', 1).str[1].str.rsplit('[', 1).str[0].str.strip()\n",
    "\n",
    "adata.var['rRNA'] = adata.var['long_protein_name'].str.contains(r'30S|50S')\n",
    "\n",
    "adata.var"
   ]
  },
  {
   "cell_type": "code",
   "execution_count": 10,
   "metadata": {},
   "outputs": [],
   "source": [
    "sc.write(adata=adata, filename=\"../data/preprocessed/MGH66_P3_ciprofloxacin.h5ad\")"
   ]
  },
  {
   "cell_type": "markdown",
   "metadata": {},
   "source": [
    "# P4"
   ]
  },
  {
   "cell_type": "code",
   "execution_count": 3,
   "metadata": {},
   "outputs": [],
   "source": [
    "adata = sc.read_csv(filename=path_raw_data + experiments[0], delimiter='\\t')"
   ]
  },
  {
   "cell_type": "code",
   "execution_count": 4,
   "metadata": {},
   "outputs": [
    {
     "data": {
      "text/plain": [
       "AnnData object with n_obs × n_vars = 410143 × 4066"
      ]
     },
     "execution_count": 4,
     "metadata": {},
     "output_type": "execute_result"
    }
   ],
   "source": [
    "obs_tmp = adata.var.copy()\n",
    "var_tmp = adata.obs.copy()\n",
    "X_tmp = csr_matrix(adata.X.T)\n",
    "\n",
    "adata = sc.AnnData(X=X_tmp, obs=obs_tmp, var=var_tmp)\n",
    "adata"
   ]
  },
  {
   "cell_type": "code",
   "execution_count": 5,
   "metadata": {},
   "outputs": [
    {
     "data": {
      "text/html": [
       "<div>\n",
       "<style scoped>\n",
       "    .dataframe tbody tr th:only-of-type {\n",
       "        vertical-align: middle;\n",
       "    }\n",
       "\n",
       "    .dataframe tbody tr th {\n",
       "        vertical-align: top;\n",
       "    }\n",
       "\n",
       "    .dataframe thead th {\n",
       "        text-align: right;\n",
       "    }\n",
       "</style>\n",
       "<table border=\"1\" class=\"dataframe\">\n",
       "  <thead>\n",
       "    <tr style=\"text-align: right;\">\n",
       "      <th></th>\n",
       "      <th>gene</th>\n",
       "    </tr>\n",
       "  </thead>\n",
       "  <tbody>\n",
       "    <tr>\n",
       "      <th>cds-AF52_RS00180</th>\n",
       "      <td>AF52_RS00180</td>\n",
       "    </tr>\n",
       "    <tr>\n",
       "      <th>cds-AF52_RS00275</th>\n",
       "      <td>AF52_RS00275</td>\n",
       "    </tr>\n",
       "    <tr>\n",
       "      <th>cds-AF52_RS00620</th>\n",
       "      <td>AF52_RS00620</td>\n",
       "    </tr>\n",
       "    <tr>\n",
       "      <th>cds-AF52_RS01000</th>\n",
       "      <td>AF52_RS01000</td>\n",
       "    </tr>\n",
       "    <tr>\n",
       "      <th>cds-AF52_RS01015</th>\n",
       "      <td>AF52_RS01015</td>\n",
       "    </tr>\n",
       "    <tr>\n",
       "      <th>...</th>\n",
       "      <td>...</td>\n",
       "    </tr>\n",
       "    <tr>\n",
       "      <th>cds-WP_187079192.1</th>\n",
       "      <td>WP_187079192.1</td>\n",
       "    </tr>\n",
       "    <tr>\n",
       "      <th>cds-WP_187079193.1</th>\n",
       "      <td>WP_187079193.1</td>\n",
       "    </tr>\n",
       "    <tr>\n",
       "      <th>cds-WP_187079194.1</th>\n",
       "      <td>WP_187079194.1</td>\n",
       "    </tr>\n",
       "    <tr>\n",
       "      <th>cds-WP_187079196.1</th>\n",
       "      <td>WP_187079196.1</td>\n",
       "    </tr>\n",
       "    <tr>\n",
       "      <th>cds-WP_187079197.1</th>\n",
       "      <td>WP_187079197.1</td>\n",
       "    </tr>\n",
       "  </tbody>\n",
       "</table>\n",
       "<p>4066 rows × 1 columns</p>\n",
       "</div>"
      ],
      "text/plain": [
       "                              gene\n",
       "cds-AF52_RS00180      AF52_RS00180\n",
       "cds-AF52_RS00275      AF52_RS00275\n",
       "cds-AF52_RS00620      AF52_RS00620\n",
       "cds-AF52_RS01000      AF52_RS01000\n",
       "cds-AF52_RS01015      AF52_RS01015\n",
       "...                            ...\n",
       "cds-WP_187079192.1  WP_187079192.1\n",
       "cds-WP_187079193.1  WP_187079193.1\n",
       "cds-WP_187079194.1  WP_187079194.1\n",
       "cds-WP_187079196.1  WP_187079196.1\n",
       "cds-WP_187079197.1  WP_187079197.1\n",
       "\n",
       "[4066 rows x 1 columns]"
      ]
     },
     "execution_count": 5,
     "metadata": {},
     "output_type": "execute_result"
    }
   ],
   "source": [
    "adata.var[\"gene\"] = [gene[4:] for gene in adata.var.index]\n",
    "adata.var"
   ]
  },
  {
   "cell_type": "code",
   "execution_count": 6,
   "metadata": {},
   "outputs": [
    {
     "data": {
      "text/plain": [
       "3881"
      ]
     },
     "execution_count": 6,
     "metadata": {},
     "output_type": "execute_result"
    }
   ],
   "source": [
    "accession_numbers = [gene[4:] for gene in adata.var[adata.var.index.str.startswith(\"cds-WP\")].index.values]\n",
    "len(accession_numbers)"
   ]
  },
  {
   "cell_type": "code",
   "execution_count": 7,
   "metadata": {},
   "outputs": [
    {
     "name": "stderr",
     "output_type": "stream",
     "text": [
      "100%|██████████| 1237/1237 [00:00<00:00, 927485.53it/s]\n",
      "  5%|▌         | 1/20 [00:03<01:09,  3.64s/it]"
     ]
    },
    {
     "name": "stdout",
     "output_type": "stream",
     "text": [
      "200\n"
     ]
    },
    {
     "name": "stderr",
     "output_type": "stream",
     "text": [
      "100%|██████████| 1291/1291 [00:00<00:00, 3092430.88it/s]\n",
      " 10%|█         | 2/20 [00:08<01:14,  4.15s/it]"
     ]
    },
    {
     "name": "stdout",
     "output_type": "stream",
     "text": [
      "400\n"
     ]
    },
    {
     "name": "stderr",
     "output_type": "stream",
     "text": [
      "100%|██████████| 1243/1243 [00:00<00:00, 3043502.55it/s]\n",
      " 15%|█▌        | 3/20 [00:12<01:12,  4.27s/it]"
     ]
    },
    {
     "name": "stdout",
     "output_type": "stream",
     "text": [
      "600\n"
     ]
    },
    {
     "name": "stderr",
     "output_type": "stream",
     "text": [
      "100%|██████████| 1241/1241 [00:00<00:00, 2663833.81it/s]\n",
      " 20%|██        | 4/20 [00:21<01:39,  6.22s/it]"
     ]
    },
    {
     "name": "stdout",
     "output_type": "stream",
     "text": [
      "800\n"
     ]
    },
    {
     "name": "stderr",
     "output_type": "stream",
     "text": [
      "100%|██████████| 1315/1315 [00:00<00:00, 1250115.54it/s]\n",
      " 25%|██▌       | 5/20 [00:33<02:02,  8.15s/it]"
     ]
    },
    {
     "name": "stdout",
     "output_type": "stream",
     "text": [
      "1000\n"
     ]
    },
    {
     "name": "stderr",
     "output_type": "stream",
     "text": [
      "100%|██████████| 1264/1264 [00:00<00:00, 1414137.17it/s]\n",
      " 30%|███       | 6/20 [00:36<01:29,  6.37s/it]"
     ]
    },
    {
     "name": "stdout",
     "output_type": "stream",
     "text": [
      "1200\n"
     ]
    },
    {
     "name": "stderr",
     "output_type": "stream",
     "text": [
      "100%|██████████| 1239/1239 [00:00<00:00, 1492887.86it/s]\n",
      " 35%|███▌      | 7/20 [00:40<01:12,  5.60s/it]"
     ]
    },
    {
     "name": "stdout",
     "output_type": "stream",
     "text": [
      "1400\n"
     ]
    },
    {
     "name": "stderr",
     "output_type": "stream",
     "text": [
      "100%|██████████| 1302/1302 [00:00<00:00, 3028831.84it/s]\n",
      " 40%|████      | 8/20 [00:46<01:09,  5.78s/it]"
     ]
    },
    {
     "name": "stdout",
     "output_type": "stream",
     "text": [
      "1600\n"
     ]
    },
    {
     "name": "stderr",
     "output_type": "stream",
     "text": [
      "100%|██████████| 1497/1497 [00:00<00:00, 3083925.88it/s]\n",
      " 45%|████▌     | 9/20 [00:51<01:00,  5.54s/it]"
     ]
    },
    {
     "name": "stdout",
     "output_type": "stream",
     "text": [
      "1800\n"
     ]
    },
    {
     "name": "stderr",
     "output_type": "stream",
     "text": [
      "100%|██████████| 1523/1523 [00:00<00:00, 1761700.22it/s]\n",
      " 50%|█████     | 10/20 [00:57<00:56,  5.69s/it]"
     ]
    },
    {
     "name": "stdout",
     "output_type": "stream",
     "text": [
      "2000\n"
     ]
    },
    {
     "name": "stderr",
     "output_type": "stream",
     "text": [
      "100%|██████████| 1464/1464 [00:00<00:00, 2707434.33it/s]\n",
      " 55%|█████▌    | 11/20 [01:04<00:54,  6.06s/it]"
     ]
    },
    {
     "name": "stdout",
     "output_type": "stream",
     "text": [
      "2199\n"
     ]
    },
    {
     "name": "stderr",
     "output_type": "stream",
     "text": [
      "100%|██████████| 1403/1403 [00:00<00:00, 3108615.17it/s]\n",
      " 60%|██████    | 12/20 [01:10<00:47,  5.93s/it]"
     ]
    },
    {
     "name": "stdout",
     "output_type": "stream",
     "text": [
      "2399\n"
     ]
    },
    {
     "name": "stderr",
     "output_type": "stream",
     "text": [
      "100%|██████████| 1391/1391 [00:00<00:00, 3101688.92it/s]\n",
      " 65%|██████▌   | 13/20 [01:14<00:38,  5.45s/it]"
     ]
    },
    {
     "name": "stdout",
     "output_type": "stream",
     "text": [
      "2599\n"
     ]
    },
    {
     "name": "stderr",
     "output_type": "stream",
     "text": [
      "100%|██████████| 840/840 [00:00<00:00, 2013265.92it/s]\n",
      " 70%|███████   | 14/20 [01:17<00:27,  4.62s/it]"
     ]
    },
    {
     "name": "stdout",
     "output_type": "stream",
     "text": [
      "2699\n"
     ]
    },
    {
     "name": "stderr",
     "output_type": "stream",
     "text": [
      "100%|██████████| 1498/1498 [00:00<00:00, 1527983.32it/s]\n",
      " 75%|███████▌  | 15/20 [01:21<00:23,  4.70s/it]"
     ]
    },
    {
     "name": "stdout",
     "output_type": "stream",
     "text": [
      "2894\n"
     ]
    },
    {
     "name": "stderr",
     "output_type": "stream",
     "text": [
      "100%|██████████| 1569/1569 [00:00<00:00, 2687163.32it/s]\n",
      " 80%|████████  | 16/20 [01:37<00:31,  7.94s/it]"
     ]
    },
    {
     "name": "stdout",
     "output_type": "stream",
     "text": [
      "3094\n"
     ]
    },
    {
     "name": "stderr",
     "output_type": "stream",
     "text": [
      "100%|██████████| 1591/1591 [00:00<00:00, 3390821.98it/s]\n",
      " 85%|████████▌ | 17/20 [01:51<00:29,  9.78s/it]"
     ]
    },
    {
     "name": "stdout",
     "output_type": "stream",
     "text": [
      "3293\n"
     ]
    },
    {
     "name": "stderr",
     "output_type": "stream",
     "text": [
      "100%|██████████| 1594/1594 [00:00<00:00, 3214288.74it/s]\n",
      " 90%|█████████ | 18/20 [02:01<00:19,  9.72s/it]"
     ]
    },
    {
     "name": "stdout",
     "output_type": "stream",
     "text": [
      "3493\n"
     ]
    },
    {
     "name": "stderr",
     "output_type": "stream",
     "text": [
      "100%|██████████| 1666/1666 [00:00<00:00, 2886290.98it/s]\n",
      " 95%|█████████▌| 19/20 [02:07<00:08,  8.65s/it]"
     ]
    },
    {
     "name": "stdout",
     "output_type": "stream",
     "text": [
      "3693\n"
     ]
    },
    {
     "name": "stderr",
     "output_type": "stream",
     "text": [
      "100%|██████████| 552/552 [00:00<00:00, 2704738.09it/s]\n",
      "100%|██████████| 20/20 [02:12<00:00,  6.62s/it]"
     ]
    },
    {
     "name": "stdout",
     "output_type": "stream",
     "text": [
      "3774\n"
     ]
    },
    {
     "name": "stderr",
     "output_type": "stream",
     "text": [
      "\n"
     ]
    }
   ],
   "source": [
    "batch_size = 200\n",
    "gene_to_protein = dict()\n",
    "\n",
    "for i in tqdm(range(0, len(accession_numbers), batch_size)):\n",
    "    try:\n",
    "        batch = accession_numbers[i:i + batch_size]\n",
    "        protein_names = fetch_protein_names(batch)\n",
    "        gene_to_protein.update(dict(zip(batch, protein_names)))\n",
    "        print(len(gene_to_protein))\n",
    "    except Exception as e:\n",
    "        print(f\"Error fetching batch {batch}: {e}\")\n",
    "        continue"
   ]
  },
  {
   "cell_type": "code",
   "execution_count": 8,
   "metadata": {},
   "outputs": [
    {
     "data": {
      "text/html": [
       "<div>\n",
       "<style scoped>\n",
       "    .dataframe tbody tr th:only-of-type {\n",
       "        vertical-align: middle;\n",
       "    }\n",
       "\n",
       "    .dataframe tbody tr th {\n",
       "        vertical-align: top;\n",
       "    }\n",
       "\n",
       "    .dataframe thead th {\n",
       "        text-align: right;\n",
       "    }\n",
       "</style>\n",
       "<table border=\"1\" class=\"dataframe\">\n",
       "  <thead>\n",
       "    <tr style=\"text-align: right;\">\n",
       "      <th></th>\n",
       "      <th>gene</th>\n",
       "      <th>long_protein_name</th>\n",
       "      <th>species</th>\n",
       "      <th>protein_name</th>\n",
       "      <th>rRNA</th>\n",
       "    </tr>\n",
       "  </thead>\n",
       "  <tbody>\n",
       "    <tr>\n",
       "      <th>cds-AF52_RS00180</th>\n",
       "      <td>AF52_RS00180</td>\n",
       "      <td>None</td>\n",
       "      <td>NaN</td>\n",
       "      <td>NaN</td>\n",
       "      <td>False</td>\n",
       "    </tr>\n",
       "    <tr>\n",
       "      <th>cds-AF52_RS00275</th>\n",
       "      <td>AF52_RS00275</td>\n",
       "      <td>None</td>\n",
       "      <td>NaN</td>\n",
       "      <td>NaN</td>\n",
       "      <td>False</td>\n",
       "    </tr>\n",
       "    <tr>\n",
       "      <th>cds-AF52_RS00620</th>\n",
       "      <td>AF52_RS00620</td>\n",
       "      <td>None</td>\n",
       "      <td>NaN</td>\n",
       "      <td>NaN</td>\n",
       "      <td>False</td>\n",
       "    </tr>\n",
       "    <tr>\n",
       "      <th>cds-AF52_RS01000</th>\n",
       "      <td>AF52_RS01000</td>\n",
       "      <td>None</td>\n",
       "      <td>NaN</td>\n",
       "      <td>NaN</td>\n",
       "      <td>False</td>\n",
       "    </tr>\n",
       "    <tr>\n",
       "      <th>cds-AF52_RS01015</th>\n",
       "      <td>AF52_RS01015</td>\n",
       "      <td>None</td>\n",
       "      <td>NaN</td>\n",
       "      <td>NaN</td>\n",
       "      <td>False</td>\n",
       "    </tr>\n",
       "    <tr>\n",
       "      <th>...</th>\n",
       "      <td>...</td>\n",
       "      <td>...</td>\n",
       "      <td>...</td>\n",
       "      <td>...</td>\n",
       "      <td>...</td>\n",
       "    </tr>\n",
       "    <tr>\n",
       "      <th>cds-WP_187079192.1</th>\n",
       "      <td>WP_187079192.1</td>\n",
       "      <td>WP_187079192.1 IS5-like element IS903B family ...</td>\n",
       "      <td>Klebsiella pneumoniae</td>\n",
       "      <td>IS5-like element IS903B family transposase</td>\n",
       "      <td>False</td>\n",
       "    </tr>\n",
       "    <tr>\n",
       "      <th>cds-WP_187079193.1</th>\n",
       "      <td>WP_187079193.1</td>\n",
       "      <td>WP_187079193.1 aspartate aminotransferase fami...</td>\n",
       "      <td>Klebsiella pneumoniae</td>\n",
       "      <td>aspartate aminotransferase family protein</td>\n",
       "      <td>False</td>\n",
       "    </tr>\n",
       "    <tr>\n",
       "      <th>cds-WP_187079194.1</th>\n",
       "      <td>WP_187079194.1</td>\n",
       "      <td>WP_187079194.1 ribokinase [Klebsiella pneumoniae]</td>\n",
       "      <td>Klebsiella pneumoniae</td>\n",
       "      <td>ribokinase</td>\n",
       "      <td>False</td>\n",
       "    </tr>\n",
       "    <tr>\n",
       "      <th>cds-WP_187079196.1</th>\n",
       "      <td>WP_187079196.1</td>\n",
       "      <td>WP_187079196.1 6-carboxytetrahydropterin synth...</td>\n",
       "      <td>Klebsiella pneumoniae</td>\n",
       "      <td>6-carboxytetrahydropterin synthase QueD</td>\n",
       "      <td>False</td>\n",
       "    </tr>\n",
       "    <tr>\n",
       "      <th>cds-WP_187079197.1</th>\n",
       "      <td>WP_187079197.1</td>\n",
       "      <td>WP_187079197.1 bifunctional ADP-dependent NAD(...</td>\n",
       "      <td>Klebsiella pneumoniae</td>\n",
       "      <td>bifunctional ADP-dependent NAD(P)H-hydrate deh...</td>\n",
       "      <td>False</td>\n",
       "    </tr>\n",
       "  </tbody>\n",
       "</table>\n",
       "<p>4066 rows × 5 columns</p>\n",
       "</div>"
      ],
      "text/plain": [
       "                              gene  \\\n",
       "cds-AF52_RS00180      AF52_RS00180   \n",
       "cds-AF52_RS00275      AF52_RS00275   \n",
       "cds-AF52_RS00620      AF52_RS00620   \n",
       "cds-AF52_RS01000      AF52_RS01000   \n",
       "cds-AF52_RS01015      AF52_RS01015   \n",
       "...                            ...   \n",
       "cds-WP_187079192.1  WP_187079192.1   \n",
       "cds-WP_187079193.1  WP_187079193.1   \n",
       "cds-WP_187079194.1  WP_187079194.1   \n",
       "cds-WP_187079196.1  WP_187079196.1   \n",
       "cds-WP_187079197.1  WP_187079197.1   \n",
       "\n",
       "                                                    long_protein_name  \\\n",
       "cds-AF52_RS00180                                                 None   \n",
       "cds-AF52_RS00275                                                 None   \n",
       "cds-AF52_RS00620                                                 None   \n",
       "cds-AF52_RS01000                                                 None   \n",
       "cds-AF52_RS01015                                                 None   \n",
       "...                                                               ...   \n",
       "cds-WP_187079192.1  WP_187079192.1 IS5-like element IS903B family ...   \n",
       "cds-WP_187079193.1  WP_187079193.1 aspartate aminotransferase fami...   \n",
       "cds-WP_187079194.1  WP_187079194.1 ribokinase [Klebsiella pneumoniae]   \n",
       "cds-WP_187079196.1  WP_187079196.1 6-carboxytetrahydropterin synth...   \n",
       "cds-WP_187079197.1  WP_187079197.1 bifunctional ADP-dependent NAD(...   \n",
       "\n",
       "                                  species  \\\n",
       "cds-AF52_RS00180                      NaN   \n",
       "cds-AF52_RS00275                      NaN   \n",
       "cds-AF52_RS00620                      NaN   \n",
       "cds-AF52_RS01000                      NaN   \n",
       "cds-AF52_RS01015                      NaN   \n",
       "...                                   ...   \n",
       "cds-WP_187079192.1  Klebsiella pneumoniae   \n",
       "cds-WP_187079193.1  Klebsiella pneumoniae   \n",
       "cds-WP_187079194.1  Klebsiella pneumoniae   \n",
       "cds-WP_187079196.1  Klebsiella pneumoniae   \n",
       "cds-WP_187079197.1  Klebsiella pneumoniae   \n",
       "\n",
       "                                                         protein_name   rRNA  \n",
       "cds-AF52_RS00180                                                  NaN  False  \n",
       "cds-AF52_RS00275                                                  NaN  False  \n",
       "cds-AF52_RS00620                                                  NaN  False  \n",
       "cds-AF52_RS01000                                                  NaN  False  \n",
       "cds-AF52_RS01015                                                  NaN  False  \n",
       "...                                                               ...    ...  \n",
       "cds-WP_187079192.1         IS5-like element IS903B family transposase  False  \n",
       "cds-WP_187079193.1          aspartate aminotransferase family protein  False  \n",
       "cds-WP_187079194.1                                         ribokinase  False  \n",
       "cds-WP_187079196.1            6-carboxytetrahydropterin synthase QueD  False  \n",
       "cds-WP_187079197.1  bifunctional ADP-dependent NAD(P)H-hydrate deh...  False  \n",
       "\n",
       "[4066 rows x 5 columns]"
      ]
     },
     "execution_count": 8,
     "metadata": {},
     "output_type": "execute_result"
    }
   ],
   "source": [
    "adata.var['long_protein_name'] = adata.var['gene'].map(gene_to_protein)\n",
    "adata.var['long_protein_name'].fillna(\"None\", inplace=True)\n",
    "\n",
    "adata.var['species'] = adata.var['long_protein_name'].str.extract(r'\\[([^]]+)\\]$')\n",
    "\n",
    "adata.var['protein_name'] = adata.var['long_protein_name'].str.split(' ', 1).str[1].str.rsplit('[', 1).str[0].str.strip()\n",
    "\n",
    "adata.var['rRNA'] = adata.var['long_protein_name'].str.contains(r'30S|50S')\n",
    "\n",
    "adata.var"
   ]
  },
  {
   "cell_type": "code",
   "execution_count": 9,
   "metadata": {},
   "outputs": [],
   "source": [
    "sc.write(adata=adata, filename=\"../data/preprocessed/MGH66_P4_gentamicin.h5ad\")"
   ]
  },
  {
   "cell_type": "code",
   "execution_count": null,
   "metadata": {},
   "outputs": [],
   "source": []
  },
  {
   "cell_type": "code",
   "execution_count": null,
   "metadata": {},
   "outputs": [],
   "source": []
  },
  {
   "cell_type": "code",
   "execution_count": null,
   "metadata": {},
   "outputs": [],
   "source": []
  }
 ],
 "metadata": {
  "kernelspec": {
   "display_name": "bacdrop",
   "language": "python",
   "name": "python3"
  },
  "language_info": {
   "codemirror_mode": {
    "name": "ipython",
    "version": 3
   },
   "file_extension": ".py",
   "mimetype": "text/x-python",
   "name": "python",
   "nbconvert_exporter": "python",
   "pygments_lexer": "ipython3",
   "version": "3.10.13"
  }
 },
 "nbformat": 4,
 "nbformat_minor": 2
}
