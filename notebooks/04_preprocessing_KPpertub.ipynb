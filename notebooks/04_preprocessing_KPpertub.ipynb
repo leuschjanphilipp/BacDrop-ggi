{
 "cells": [
  {
   "cell_type": "code",
   "execution_count": 1,
   "metadata": {},
   "outputs": [],
   "source": [
    "import scanpy as sc\n",
    "import pandas as pd\n",
    "import numpy as np\n",
    "import seaborn as sns\n",
    "import mudata as md\n",
    "import networkx as nx\n",
    "import matplotlib.pyplot as plt\n",
    "\n",
    "import gc\n",
    "import sys\n",
    "sys.path.append('../')\n",
    "\n",
    "from utils.gglasso_pipeline import gg_lasso_network_analysis\n",
    "from utils.utils import calc_sparsity\n",
    "from sklearn.covariance import empirical_covariance\n",
    "from latentcor import latentcor\n",
    "\n",
    "import warnings\n",
    "warnings.filterwarnings('ignore', category=FutureWarning)"
   ]
  },
  {
   "cell_type": "code",
   "execution_count": 5,
   "metadata": {},
   "outputs": [
    {
     "data": {
      "text/html": [
       "<pre>MuData object with n_obs × n_vars = 36469 × 33412\n",
       "  3 modalities\n",
       "    SC_genes:\t36469 x 14009\n",
       "      obs:\t&#x27;strains&#x27;\n",
       "      var:\t&#x27;strains&#x27;, &#x27;matchin_protein&#x27;, &#x27;protein&#x27;\n",
       "      uns:\t&#x27;genes_match&#x27;, &#x27;protein_match&#x27;, &#x27;unmatch_genes&#x27;\n",
       "    SC_proteins:\t36469 x 13687\n",
       "      obs:\t&#x27;strains&#x27;\n",
       "      var:\t&#x27;genes_mapping&#x27;, &#x27;strains&#x27;\n",
       "      uns:\t&#x27;Consensus_tree&#x27;, &#x27;protein_adjacency_matrix&#x27;, &#x27;protein_match&#x27;, &#x27;protein_unmatch&#x27;\n",
       "      varm:\t&#x27;protein_hierarchy&#x27;\n",
       "    SC_PCs:\t36469 x 5716\n",
       "      obs:\t&#x27;strains&#x27;\n",
       "      var:\t&#x27;PCs_match&#x27;\n",
       "      uns:\t&#x27;Consensus_tree_PCs&#x27;, &#x27;PCs&#x27;, &#x27;PCs_to_genes&#x27;, &#x27;PCs_unmatch&#x27;, &#x27;Purity_info&#x27;, &#x27;Purity_info_unique&#x27;, &#x27;protein_match&#x27;\n",
       "      varm:\t&#x27;protein_hierarchy_PCs&#x27;</pre>"
      ],
      "text/plain": [
       "MuData object with n_obs × n_vars = 36469 × 33412\n",
       "  3 modalities\n",
       "    SC_genes:\t36469 x 14009\n",
       "      obs:\t'strains'\n",
       "      var:\t'strains', 'matchin_protein', 'protein'\n",
       "      uns:\t'genes_match', 'protein_match', 'unmatch_genes'\n",
       "    SC_proteins:\t36469 x 13687\n",
       "      obs:\t'strains'\n",
       "      var:\t'genes_mapping', 'strains'\n",
       "      uns:\t'Consensus_tree', 'protein_adjacency_matrix', 'protein_match', 'protein_unmatch'\n",
       "      varm:\t'protein_hierarchy'\n",
       "    SC_PCs:\t36469 x 5716\n",
       "      obs:\t'strains'\n",
       "      var:\t'PCs_match'\n",
       "      uns:\t'Consensus_tree_PCs', 'PCs', 'PCs_to_genes', 'PCs_unmatch', 'Purity_info', 'Purity_info_unique', 'protein_match'\n",
       "      varm:\t'protein_hierarchy_PCs'"
      ]
     },
     "execution_count": 5,
     "metadata": {},
     "output_type": "execute_result"
    }
   ],
   "source": [
    "path_nSBM_4s = '../data/mudata_nSBM_hierarchy_2_final_4_species.h5mu'\n",
    "data_nSBM_4s = md.read_h5mu(path_nSBM_4s)\n",
    "data_nSBM_4s"
   ]
  },
  {
   "cell_type": "code",
   "execution_count": 6,
   "metadata": {},
   "outputs": [
    {
     "data": {
      "text/html": [
       "<pre>MuData object with n_obs × n_vars = 36469 × 33412\n",
       "  3 modalities\n",
       "    SC_genes:\t36469 x 14009\n",
       "      obs:\t&#x27;strains&#x27;\n",
       "      var:\t&#x27;strains&#x27;, &#x27;matchin_protein&#x27;, &#x27;protein&#x27;\n",
       "      uns:\t&#x27;genes_match&#x27;, &#x27;protein_match&#x27;, &#x27;unmatch_genes&#x27;\n",
       "    SC_proteins:\t36469 x 13687\n",
       "      obs:\t&#x27;strains&#x27;\n",
       "      var:\t&#x27;genes_mapping&#x27;, &#x27;strains&#x27;\n",
       "      uns:\t&#x27;Consensus_tree&#x27;, &#x27;protein_adjacency_matrix&#x27;, &#x27;protein_match&#x27;, &#x27;protein_unmatch&#x27;\n",
       "      varm:\t&#x27;protein_hierarchy&#x27;\n",
       "    SC_PCs:\t36469 x 5716\n",
       "      obs:\t&#x27;strains&#x27;\n",
       "      var:\t&#x27;PCs_match&#x27;\n",
       "      uns:\t&#x27;Consensus_tree_PCs&#x27;, &#x27;PCs&#x27;, &#x27;PCs_to_genes&#x27;, &#x27;PCs_unmatch&#x27;, &#x27;Purity_info&#x27;, &#x27;Purity_info_unique&#x27;, &#x27;protein_match&#x27;\n",
       "      varm:\t&#x27;protein_hierarchy_PCs&#x27;</pre>"
      ],
      "text/plain": [
       "MuData object with n_obs × n_vars = 36469 × 33412\n",
       "  3 modalities\n",
       "    SC_genes:\t36469 x 14009\n",
       "      obs:\t'strains'\n",
       "      var:\t'strains', 'matchin_protein', 'protein'\n",
       "      uns:\t'genes_match', 'protein_match', 'unmatch_genes'\n",
       "    SC_proteins:\t36469 x 13687\n",
       "      obs:\t'strains'\n",
       "      var:\t'genes_mapping', 'strains'\n",
       "      uns:\t'Consensus_tree', 'protein_adjacency_matrix', 'protein_match', 'protein_unmatch'\n",
       "      varm:\t'protein_hierarchy'\n",
       "    SC_PCs:\t36469 x 5716\n",
       "      obs:\t'strains'\n",
       "      var:\t'PCs_match'\n",
       "      uns:\t'Consensus_tree_PCs', 'PCs', 'PCs_to_genes', 'PCs_unmatch', 'Purity_info', 'Purity_info_unique', 'protein_match'\n",
       "      varm:\t'protein_hierarchy_PCs'"
      ]
     },
     "execution_count": 6,
     "metadata": {},
     "output_type": "execute_result"
    }
   ],
   "source": [
    "path_nSBM = '../data/mudata_nSBM_hierarchy_2_final.h5mu'\n",
    "data_nSBM = md.read_h5mu(path_nSBM)\n",
    "data_nSBM"
   ]
  },
  {
   "cell_type": "code",
   "execution_count": null,
   "metadata": {},
   "outputs": [],
   "source": [
    "path_nSBM = '../data/mudata_nSBM_hierarchy_2_final.h5mu'\n",
    "data_nSBM = md.read_h5mu(path_nSBM)\n",
    "data_nSBM"
   ]
  },
  {
   "cell_type": "code",
   "execution_count": null,
   "metadata": {},
   "outputs": [],
   "source": []
  },
  {
   "cell_type": "code",
   "execution_count": null,
   "metadata": {},
   "outputs": [],
   "source": []
  }
 ],
 "metadata": {
  "kernelspec": {
   "display_name": "bacdrop",
   "language": "python",
   "name": "python3"
  },
  "language_info": {
   "codemirror_mode": {
    "name": "ipython",
    "version": 3
   },
   "file_extension": ".py",
   "mimetype": "text/x-python",
   "name": "python",
   "nbconvert_exporter": "python",
   "pygments_lexer": "ipython3",
   "version": "3.10.13"
  }
 },
 "nbformat": 4,
 "nbformat_minor": 2
}
